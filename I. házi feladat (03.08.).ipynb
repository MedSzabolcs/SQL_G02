{
    "metadata": {
        "kernelspec": {
            "name": "SQL",
            "display_name": "SQL",
            "language": "sql"
        },
        "language_info": {
            "name": "sql",
            "version": ""
        }
    },
    "nbformat_minor": 2,
    "nbformat": 4,
    "cells": [
        {
            "cell_type": "markdown",
            "source": [
                "> **Első oszlop**"
            ],
            "metadata": {
                "language": "sql",
                "azdata_cell_guid": "fc934ca2-4f5f-4a67-849c-33ea03270119"
            },
            "attachments": {}
        },
        {
            "cell_type": "code",
            "source": [
                "SELECT Count(TIPUS) AS 'Összes szállás'\r\n",
                "FROM szallashely"
            ],
            "metadata": {
                "language": "sql",
                "azdata_cell_guid": "5bebe6b4-debb-4a57-aaf0-3dec7f993b3d"
            },
            "outputs": [
                {
                    "output_type": "display_data",
                    "data": {
                        "text/html": "(1 row affected)"
                    },
                    "metadata": {}
                },
                {
                    "output_type": "display_data",
                    "data": {
                        "text/html": "Total execution time: 00:00:00.018"
                    },
                    "metadata": {}
                },
                {
                    "output_type": "execute_result",
                    "execution_count": 16,
                    "data": {
                        "application/vnd.dataresource+json": {
                            "schema": {
                                "fields": [
                                    {
                                        "name": "Összes szállás"
                                    }
                                ]
                            },
                            "data": [
                                {
                                    "Összes szállás": "21"
                                }
                            ]
                        },
                        "text/html": "<table><tr><th>Összes szállás</th></tr><tr><td>21</td></tr></table>"
                    },
                    "metadata": {}
                }
            ],
            "execution_count": 16
        },
        {
            "cell_type": "code",
            "source": [
                "SELECT TOP 1 TIPUS,\r\n",
                "       LEN(TIPUS) AS 'Leghosszabb nevű szállás típus'\r\n",
                "FROM szallashely\r\n",
                "ORDER BY LEN(TIPUS) DESC"
            ],
            "metadata": {
                "language": "sql",
                "azdata_cell_guid": "942e6a47-f91c-4a09-bed4-95cc779c30f9",
                "tags": []
            },
            "outputs": [
                {
                    "output_type": "display_data",
                    "data": {
                        "text/html": "(1 row affected)"
                    },
                    "metadata": {}
                },
                {
                    "output_type": "display_data",
                    "data": {
                        "text/html": "Total execution time: 00:00:00.017"
                    },
                    "metadata": {}
                },
                {
                    "output_type": "execute_result",
                    "execution_count": 55,
                    "data": {
                        "application/vnd.dataresource+json": {
                            "schema": {
                                "fields": [
                                    {
                                        "name": "TIPUS"
                                    },
                                    {
                                        "name": "Leghosszabb nevű szállás típus"
                                    }
                                ]
                            },
                            "data": [
                                {
                                    "TIPUS": "Diákszálló",
                                    "Leghosszabb nevű szállás típus": "10"
                                }
                            ]
                        },
                        "text/html": "<table><tr><th>TIPUS</th><th>Leghosszabb nevű szállás típus</th></tr><tr><td>Diákszálló</td><td>10</td></tr></table>"
                    },
                    "metadata": {}
                }
            ],
            "execution_count": 55
        },
        {
            "cell_type": "code",
            "source": [
                "SELECT TOP 1 TIPUS,\r\n",
                "       LEN(TIPUS) AS 'Legrövidebb nevű szállás típus'\r\n",
                "FROM szallashely\r\n",
                "ORDER BY LEN(TIPUS) ASC"
            ],
            "metadata": {
                "language": "sql",
                "azdata_cell_guid": "92913184-74a1-4280-9793-ab10ffc546e7"
            },
            "outputs": [
                {
                    "output_type": "display_data",
                    "data": {
                        "text/html": "(1 row affected)"
                    },
                    "metadata": {}
                },
                {
                    "output_type": "display_data",
                    "data": {
                        "text/html": "Total execution time: 00:00:00.024"
                    },
                    "metadata": {}
                },
                {
                    "output_type": "execute_result",
                    "execution_count": 59,
                    "data": {
                        "application/vnd.dataresource+json": {
                            "schema": {
                                "fields": [
                                    {
                                        "name": "TIPUS"
                                    },
                                    {
                                        "name": "Legrövidebb nevű szállás típus"
                                    }
                                ]
                            },
                            "data": [
                                {
                                    "TIPUS": "Hotel",
                                    "Legrövidebb nevű szállás típus": "5"
                                }
                            ]
                        },
                        "text/html": "<table><tr><th>TIPUS</th><th>Legrövidebb nevű szállás típus</th></tr><tr><td>Hotel</td><td>5</td></tr></table>"
                    },
                    "metadata": {}
                }
            ],
            "execution_count": 59
        },
        {
            "cell_type": "code",
            "source": [
                "SELECT TIPUS, COUNT(TIPUS) AS 'Különböző szállás típusok'\r\n",
                "FROM szallashely\r\n",
                "GROUP BY TIPUS\r\n",
                "ORDER BY COUNT(TIPUS) DESC"
            ],
            "metadata": {
                "azdata_cell_guid": "fce14dcd-cfde-49d9-9370-8d06ad38a010",
                "language": "sql"
            },
            "outputs": [
                {
                    "output_type": "display_data",
                    "data": {
                        "text/html": "(5 rows affected)"
                    },
                    "metadata": {}
                },
                {
                    "output_type": "display_data",
                    "data": {
                        "text/html": "Total execution time: 00:00:00.011"
                    },
                    "metadata": {}
                },
                {
                    "output_type": "execute_result",
                    "execution_count": 42,
                    "data": {
                        "application/vnd.dataresource+json": {
                            "schema": {
                                "fields": [
                                    {
                                        "name": "TIPUS"
                                    },
                                    {
                                        "name": "Különböző szállás típusok"
                                    }
                                ]
                            },
                            "data": [
                                {
                                    "TIPUS": "Hotel",
                                    "Különböző szállás típusok": "6"
                                },
                                {
                                    "TIPUS": "vendégház",
                                    "Különböző szállás típusok": "6"
                                },
                                {
                                    "TIPUS": "panzió",
                                    "Különböző szállás típusok": "5"
                                },
                                {
                                    "TIPUS": "Apartman",
                                    "Különböző szállás típusok": "3"
                                },
                                {
                                    "TIPUS": "Diákszálló",
                                    "Különböző szállás típusok": "1"
                                }
                            ]
                        },
                        "text/html": "<table><tr><th>TIPUS</th><th>Különböző szállás típusok</th></tr><tr><td>Hotel</td><td>6</td></tr><tr><td>vendégház</td><td>6</td></tr><tr><td>panzió</td><td>5</td></tr><tr><td>Apartman</td><td>3</td></tr><tr><td>Diákszálló</td><td>1</td></tr></table>"
                    },
                    "metadata": {
                        "azdata_chartOptions": {
                            "type": "bar",
                            "dataDirection": "horizontal",
                            "columnsAsLabels": true,
                            "labelFirstColumn": true,
                            "legendPosition": "top",
                            "encoding": "hex",
                            "imageFormat": "jpeg"
                        }
                    }
                }
            ],
            "execution_count": 42
        },
        {
            "cell_type": "code",
            "source": [
                "SELECT LEN(TIPUS) AS 'Szállástípusok nevének hossza',\r\n",
                "       count(*) AS 'Azonos hosszú szállástípusok száma'\r\n",
                "FROM szallashely\r\n",
                "GROUP BY LEN(TIPUS)\r\n",
                "ORDER BY 1"
            ],
            "metadata": {
                "azdata_cell_guid": "cca249bd-aeb6-4823-a991-d5650c1d6017",
                "language": "sql",
                "tags": []
            },
            "outputs": [
                {
                    "output_type": "display_data",
                    "data": {
                        "text/html": "(5 rows affected)"
                    },
                    "metadata": {}
                },
                {
                    "output_type": "display_data",
                    "data": {
                        "text/html": "Total execution time: 00:00:00.020"
                    },
                    "metadata": {}
                },
                {
                    "output_type": "execute_result",
                    "metadata": {
                        "azdata_chartOptions": {
                            "type": "horizontalBar",
                            "dataDirection": "horizontal",
                            "columnsAsLabels": true,
                            "labelFirstColumn": true,
                            "legendPosition": "top",
                            "xAxisLabel": "",
                            "encoding": "hex",
                            "imageFormat": "jpeg",
                            "dataType": "number"
                        }
                    },
                    "execution_count": 2,
                    "data": {
                        "application/vnd.dataresource+json": {
                            "schema": {
                                "fields": [
                                    {
                                        "name": "Szállástípusok nevének hossza"
                                    },
                                    {
                                        "name": "Azonos hosszú szállástípusok száma"
                                    }
                                ]
                            },
                            "data": [
                                {
                                    "Szállástípusok nevének hossza": "5",
                                    "Azonos hosszú szállástípusok száma": "6"
                                },
                                {
                                    "Szállástípusok nevének hossza": "6",
                                    "Azonos hosszú szállástípusok száma": "5"
                                },
                                {
                                    "Szállástípusok nevének hossza": "8",
                                    "Azonos hosszú szállástípusok száma": "3"
                                },
                                {
                                    "Szállástípusok nevének hossza": "9",
                                    "Azonos hosszú szállástípusok száma": "6"
                                },
                                {
                                    "Szállástípusok nevének hossza": "10",
                                    "Azonos hosszú szállástípusok száma": "1"
                                }
                            ]
                        },
                        "text/html": [
                            "<table>",
                            "<tr><th>Szállástípusok nevének hossza</th><th>Azonos hosszú szállástípusok száma</th></tr>",
                            "<tr><td>5</td><td>6</td></tr>",
                            "<tr><td>6</td><td>5</td></tr>",
                            "<tr><td>8</td><td>3</td></tr>",
                            "<tr><td>9</td><td>6</td></tr>",
                            "<tr><td>10</td><td>1</td></tr>",
                            "</table>"
                        ]
                    }
                }
            ],
            "execution_count": 2
        }
    ]
}