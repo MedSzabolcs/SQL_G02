{
    "metadata": {
        "kernelspec": {
            "name": "SQL",
            "display_name": "SQL",
            "language": "sql"
        },
        "language_info": {
            "name": "sql",
            "version": ""
        }
    },
    "nbformat_minor": 2,
    "nbformat": 4,
    "cells": [
        {
            "cell_type": "markdown",
            "source": [
                "> **Első oszlop**"
            ],
            "metadata": {
                "language": "sql",
                "azdata_cell_guid": "fc934ca2-4f5f-4a67-849c-33ea03270119"
            },
            "attachments": {}
        },
        {
            "cell_type": "code",
            "source": [
                "SELECT Count(DISTINCT UGYFEL_FK) AS 'Összes különböző felhasználónevű foglaló'\r\n",
                "FROM Foglalas"
            ],
            "metadata": {
                "language": "sql",
                "azdata_cell_guid": "5bebe6b4-debb-4a57-aaf0-3dec7f993b3d",
                "tags": []
            },
            "outputs": [
                {
                    "output_type": "display_data",
                    "data": {
                        "text/html": "(1 row affected)"
                    },
                    "metadata": {}
                },
                {
                    "output_type": "display_data",
                    "data": {
                        "text/html": "Total execution time: 00:00:00.028"
                    },
                    "metadata": {}
                },
                {
                    "output_type": "execute_result",
                    "metadata": {},
                    "execution_count": 20,
                    "data": {
                        "application/vnd.dataresource+json": {
                            "schema": {
                                "fields": [
                                    {
                                        "name": "Összes különböző felhasználónevű foglaló"
                                    }
                                ]
                            },
                            "data": [
                                {
                                    "Összes különböző felhasználónevű foglaló": "195"
                                }
                            ]
                        },
                        "text/html": [
                            "<table>",
                            "<tr><th>Összes különböző felhasználónevű foglaló</th></tr>",
                            "<tr><td>195</td></tr>",
                            "</table>"
                        ]
                    }
                }
            ],
            "execution_count": 20
        },
        {
            "cell_type": "code",
            "source": [
                "SELECT TOP 1 UGYFEL_FK AS 'Felhasználónév',\r\n",
                "       LEN(UGYFEL_FK) AS 'Leghosszabb felhasználónevű foglaló'\r\n",
                "FROM Foglalas\r\n",
                "ORDER BY LEN(UGYFEL_FK) DESC"
            ],
            "metadata": {
                "language": "sql",
                "azdata_cell_guid": "942e6a47-f91c-4a09-bed4-95cc779c30f9",
                "tags": []
            },
            "outputs": [
                {
                    "output_type": "display_data",
                    "data": {
                        "text/html": "(1 row affected)"
                    },
                    "metadata": {}
                },
                {
                    "output_type": "display_data",
                    "data": {
                        "text/html": "Total execution time: 00:00:00.020"
                    },
                    "metadata": {}
                },
                {
                    "output_type": "execute_result",
                    "metadata": {},
                    "execution_count": 14,
                    "data": {
                        "application/vnd.dataresource+json": {
                            "schema": {
                                "fields": [
                                    {
                                        "name": "Felhasználónév"
                                    },
                                    {
                                        "name": "Leghosszabb felhasználónevű foglaló"
                                    }
                                ]
                            },
                            "data": [
                                {
                                    "Felhasználónév": "gabriella10",
                                    "Leghosszabb felhasználónevű foglaló": "11"
                                }
                            ]
                        },
                        "text/html": [
                            "<table>",
                            "<tr><th>Felhasználónév</th><th>Leghosszabb felhasználónevű foglaló</th></tr>",
                            "<tr><td>gabriella10</td><td>11</td></tr>",
                            "</table>"
                        ]
                    }
                }
            ],
            "execution_count": 14
        },
        {
            "cell_type": "code",
            "source": [
                "SELECT TOP 1 UGYFEL_FK AS 'Felhasználónév',\r\n",
                "       LEN(UGYFEL_FK) AS 'Legrövidebb felhasználónevű foglaló'\r\n",
                "FROM Foglalas\r\n",
                "ORDER BY LEN(UGYFEL_FK) ASC"
            ],
            "metadata": {
                "language": "sql",
                "azdata_cell_guid": "92913184-74a1-4280-9793-ab10ffc546e7"
            },
            "outputs": [
                {
                    "output_type": "display_data",
                    "data": {
                        "text/html": "(1 row affected)"
                    },
                    "metadata": {}
                },
                {
                    "output_type": "display_data",
                    "data": {
                        "text/html": "Total execution time: 00:00:00.028"
                    },
                    "metadata": {}
                },
                {
                    "output_type": "execute_result",
                    "metadata": {},
                    "execution_count": 17,
                    "data": {
                        "application/vnd.dataresource+json": {
                            "schema": {
                                "fields": [
                                    {
                                        "name": "Felhasználónév"
                                    },
                                    {
                                        "name": "Legrövidebb felhasználónevű foglaló"
                                    }
                                ]
                            },
                            "data": [
                                {
                                    "Felhasználónév": "pal",
                                    "Legrövidebb felhasználónevű foglaló": "3"
                                }
                            ]
                        },
                        "text/html": [
                            "<table>",
                            "<tr><th>Felhasználónév</th><th>Legrövidebb felhasználónevű foglaló</th></tr>",
                            "<tr><td>pal</td><td>3</td></tr>",
                            "</table>"
                        ]
                    }
                }
            ],
            "execution_count": 17
        },
        {
            "cell_type": "code",
            "source": [
                "SELECT TOP 10 UGYFEL_FK AS 'Felhasználónév', \r\n",
                "       COUNT(UGYFEL_FK) AS 'A 10 legtöbbet foglaló felhasználónév'\r\n",
                "FROM Foglalas\r\n",
                "GROUP BY UGYFEL_FK\r\n",
                "ORDER BY COUNT(UGYFEL_FK) DESC"
            ],
            "metadata": {
                "azdata_cell_guid": "fce14dcd-cfde-49d9-9370-8d06ad38a010",
                "language": "sql"
            },
            "outputs": [
                {
                    "output_type": "display_data",
                    "data": {
                        "text/html": "(10 rows affected)"
                    },
                    "metadata": {}
                },
                {
                    "output_type": "display_data",
                    "data": {
                        "text/html": "Total execution time: 00:00:00.026"
                    },
                    "metadata": {}
                },
                {
                    "output_type": "execute_result",
                    "metadata": {
                        "azdata_chartOptions": {
                            "type": "bar",
                            "dataDirection": "horizontal",
                            "columnsAsLabels": true,
                            "labelFirstColumn": true,
                            "legendPosition": "top",
                            "yAxisLabel": "Foglalások száma"
                        }
                    },
                    "execution_count": 24,
                    "data": {
                        "application/vnd.dataresource+json": {
                            "schema": {
                                "fields": [
                                    {
                                        "name": "Felhasználónév"
                                    },
                                    {
                                        "name": "A 10 legtöbbet foglaló felhasználónév"
                                    }
                                ]
                            },
                            "data": [
                                {
                                    "Felhasználónév": "andras41",
                                    "A 10 legtöbbet foglaló felhasználónév": "13"
                                },
                                {
                                    "Felhasználónév": "ARONK",
                                    "A 10 legtöbbet foglaló felhasználónév": "13"
                                },
                                {
                                    "Felhasználónév": "krisztian4",
                                    "A 10 legtöbbet foglaló felhasználónév": "12"
                                },
                                {
                                    "Felhasználónév": "peter4",
                                    "A 10 legtöbbet foglaló felhasználónév": "12"
                                },
                                {
                                    "Felhasználónév": "sara",
                                    "A 10 legtöbbet foglaló felhasználónév": "12"
                                },
                                {
                                    "Felhasználónév": "zoltan4",
                                    "A 10 legtöbbet foglaló felhasználónév": "12"
                                },
                                {
                                    "Felhasználónév": "akos",
                                    "A 10 legtöbbet foglaló felhasználónév": "10"
                                },
                                {
                                    "Felhasználónév": "balazs2",
                                    "A 10 legtöbbet foglaló felhasználónév": "10"
                                },
                                {
                                    "Felhasználónév": "balint1",
                                    "A 10 legtöbbet foglaló felhasználónév": "10"
                                },
                                {
                                    "Felhasználónév": "eszter2",
                                    "A 10 legtöbbet foglaló felhasználónév": "10"
                                }
                            ]
                        },
                        "text/html": [
                            "<table>",
                            "<tr><th>Felhasználónév</th><th>A 10 legtöbbet foglaló felhasználónév</th></tr>",
                            "<tr><td>andras41</td><td>13</td></tr>",
                            "<tr><td>ARONK</td><td>13</td></tr>",
                            "<tr><td>krisztian4</td><td>12</td></tr>",
                            "<tr><td>peter4</td><td>12</td></tr>",
                            "<tr><td>sara</td><td>12</td></tr>",
                            "<tr><td>zoltan4</td><td>12</td></tr>",
                            "<tr><td>akos</td><td>10</td></tr>",
                            "<tr><td>balazs2</td><td>10</td></tr>",
                            "<tr><td>balint1</td><td>10</td></tr>",
                            "<tr><td>eszter2</td><td>10</td></tr>",
                            "</table>"
                        ]
                    }
                }
            ],
            "execution_count": 24
        },
        {
            "cell_type": "code",
            "source": [
                "SELECT LEN(UGYFEL_FK) AS 'Felhasználónevek hossza',\r\n",
                "       count(*) AS 'Azonos hosszú felhasználónevek száma'\r\n",
                "FROM Foglalas\r\n",
                "GROUP BY LEN(UGYFEL_FK)\r\n",
                "ORDER BY 1 DESC"
            ],
            "metadata": {
                "azdata_cell_guid": "cca249bd-aeb6-4823-a991-d5650c1d6017",
                "language": "sql",
                "tags": []
            },
            "outputs": [
                {
                    "output_type": "display_data",
                    "data": {
                        "text/html": "(9 rows affected)"
                    },
                    "metadata": {}
                },
                {
                    "output_type": "display_data",
                    "data": {
                        "text/html": "Total execution time: 00:00:00.024"
                    },
                    "metadata": {}
                },
                {
                    "output_type": "execute_result",
                    "metadata": {
                        "azdata_chartOptions": {
                            "type": "horizontalBar",
                            "dataDirection": "horizontal",
                            "columnsAsLabels": true,
                            "labelFirstColumn": true,
                            "legendPosition": "top",
                            "xAxisLabel": "Felhasználónevek száma"
                        }
                    },
                    "execution_count": 32,
                    "data": {
                        "application/vnd.dataresource+json": {
                            "schema": {
                                "fields": [
                                    {
                                        "name": "Felhasználónevek hossza"
                                    },
                                    {
                                        "name": "Azonos hosszú felhasználónevek száma"
                                    }
                                ]
                            },
                            "data": [
                                {
                                    "Felhasználónevek hossza": "11",
                                    "Azonos hosszú felhasználónevek száma": "1"
                                },
                                {
                                    "Felhasználónevek hossza": "10",
                                    "Azonos hosszú felhasználónevek száma": "81"
                                },
                                {
                                    "Felhasználónevek hossza": "9",
                                    "Azonos hosszú felhasználónevek száma": "61"
                                },
                                {
                                    "Felhasználónevek hossza": "8",
                                    "Azonos hosszú felhasználónevek száma": "117"
                                },
                                {
                                    "Felhasználónevek hossza": "7",
                                    "Azonos hosszú felhasználónevek száma": "301"
                                },
                                {
                                    "Felhasználónevek hossza": "6",
                                    "Azonos hosszú felhasználónevek száma": "231"
                                },
                                {
                                    "Felhasználónevek hossza": "5",
                                    "Azonos hosszú felhasználónevek száma": "144"
                                },
                                {
                                    "Felhasználónevek hossza": "4",
                                    "Azonos hosszú felhasználónevek száma": "84"
                                },
                                {
                                    "Felhasználónevek hossza": "3",
                                    "Azonos hosszú felhasználónevek száma": "7"
                                }
                            ]
                        },
                        "text/html": [
                            "<table>",
                            "<tr><th>Felhasználónevek hossza</th><th>Azonos hosszú felhasználónevek száma</th></tr>",
                            "<tr><td>11</td><td>1</td></tr>",
                            "<tr><td>10</td><td>81</td></tr>",
                            "<tr><td>9</td><td>61</td></tr>",
                            "<tr><td>8</td><td>117</td></tr>",
                            "<tr><td>7</td><td>301</td></tr>",
                            "<tr><td>6</td><td>231</td></tr>",
                            "<tr><td>5</td><td>144</td></tr>",
                            "<tr><td>4</td><td>84</td></tr>",
                            "<tr><td>3</td><td>7</td></tr>",
                            "</table>"
                        ]
                    }
                }
            ],
            "execution_count": 32
        }
    ]
}