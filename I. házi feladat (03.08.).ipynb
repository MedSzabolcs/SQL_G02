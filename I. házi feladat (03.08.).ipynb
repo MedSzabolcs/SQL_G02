{
    "metadata": {
        "kernelspec": {
            "name": "SQL",
            "display_name": "SQL",
            "language": "sql"
        },
        "language_info": {
            "name": "sql",
            "version": ""
        }
    },
    "nbformat_minor": 2,
    "nbformat": 4,
    "cells": [
        {
            "cell_type": "markdown",
            "source": [
                "# **Adatbázisok - I házifeladat**\n",
                "\n",
                "## Választott adatbázis: szallashely  \n",
                "Választott táblázat: Foglalás  \n",
                "Választott oszlopok: UGYFEL\\_FK, MEDDIG"
            ],
            "metadata": {
                "azdata_cell_guid": "8644b5ad-32cc-46d1-b2d3-153c71dff012"
            },
            "attachments": {}
        },
        {
            "cell_type": "markdown",
            "source": [
                "> ### **Első oszlop**"
            ],
            "metadata": {
                "language": "sql",
                "azdata_cell_guid": "fc934ca2-4f5f-4a67-849c-33ea03270119"
            },
            "attachments": {}
        },
        {
            "cell_type": "code",
            "source": [
                "SELECT Count(DISTINCT UGYFEL_FK) AS 'Összes különböző felhasználónevű foglaló'\r\n",
                "FROM Foglalas"
            ],
            "metadata": {
                "language": "sql",
                "azdata_cell_guid": "5bebe6b4-debb-4a57-aaf0-3dec7f993b3d",
                "tags": []
            },
            "outputs": [
                {
                    "output_type": "display_data",
                    "data": {
                        "text/html": "(1 row affected)"
                    },
                    "metadata": {}
                },
                {
                    "output_type": "display_data",
                    "data": {
                        "text/html": "Total execution time: 00:00:00.028"
                    },
                    "metadata": {}
                },
                {
                    "output_type": "execute_result",
                    "execution_count": 20,
                    "data": {
                        "application/vnd.dataresource+json": {
                            "schema": {
                                "fields": [
                                    {
                                        "name": "Összes különböző felhasználónevű foglaló"
                                    }
                                ]
                            },
                            "data": [
                                {
                                    "Összes különböző felhasználónevű foglaló": "195"
                                }
                            ]
                        },
                        "text/html": "<table><tr><th>Összes különböző felhasználónevű foglaló</th></tr><tr><td>195</td></tr></table>"
                    },
                    "metadata": {}
                }
            ],
            "execution_count": 20
        },
        {
            "cell_type": "code",
            "source": [
                "SELECT TOP 1 UGYFEL_FK AS 'Felhasználónév',\r\n",
                "       LEN(UGYFEL_FK) AS 'Leghosszabb felhasználónevű foglaló'\r\n",
                "FROM Foglalas\r\n",
                "ORDER BY LEN(UGYFEL_FK) DESC"
            ],
            "metadata": {
                "language": "sql",
                "azdata_cell_guid": "942e6a47-f91c-4a09-bed4-95cc779c30f9",
                "tags": []
            },
            "outputs": [
                {
                    "output_type": "display_data",
                    "data": {
                        "text/html": "(1 row affected)"
                    },
                    "metadata": {}
                },
                {
                    "output_type": "display_data",
                    "data": {
                        "text/html": "Total execution time: 00:00:00.020"
                    },
                    "metadata": {}
                },
                {
                    "output_type": "execute_result",
                    "execution_count": 14,
                    "data": {
                        "application/vnd.dataresource+json": {
                            "schema": {
                                "fields": [
                                    {
                                        "name": "Felhasználónév"
                                    },
                                    {
                                        "name": "Leghosszabb felhasználónevű foglaló"
                                    }
                                ]
                            },
                            "data": [
                                {
                                    "Felhasználónév": "gabriella10",
                                    "Leghosszabb felhasználónevű foglaló": "11"
                                }
                            ]
                        },
                        "text/html": "<table><tr><th>Felhasználónév</th><th>Leghosszabb felhasználónevű foglaló</th></tr><tr><td>gabriella10</td><td>11</td></tr></table>"
                    },
                    "metadata": {}
                }
            ],
            "execution_count": 14
        },
        {
            "cell_type": "code",
            "source": [
                "SELECT TOP 1 UGYFEL_FK AS 'Felhasználónév',\r\n",
                "       LEN(UGYFEL_FK) AS 'Legrövidebb felhasználónevű foglaló'\r\n",
                "FROM Foglalas\r\n",
                "ORDER BY LEN(UGYFEL_FK) ASC"
            ],
            "metadata": {
                "language": "sql",
                "azdata_cell_guid": "92913184-74a1-4280-9793-ab10ffc546e7"
            },
            "outputs": [
                {
                    "output_type": "display_data",
                    "data": {
                        "text/html": "(1 row affected)"
                    },
                    "metadata": {}
                },
                {
                    "output_type": "display_data",
                    "data": {
                        "text/html": "Total execution time: 00:00:00.028"
                    },
                    "metadata": {}
                },
                {
                    "output_type": "execute_result",
                    "execution_count": 17,
                    "data": {
                        "application/vnd.dataresource+json": {
                            "schema": {
                                "fields": [
                                    {
                                        "name": "Felhasználónév"
                                    },
                                    {
                                        "name": "Legrövidebb felhasználónevű foglaló"
                                    }
                                ]
                            },
                            "data": [
                                {
                                    "Felhasználónév": "pal",
                                    "Legrövidebb felhasználónevű foglaló": "3"
                                }
                            ]
                        },
                        "text/html": "<table><tr><th>Felhasználónév</th><th>Legrövidebb felhasználónevű foglaló</th></tr><tr><td>pal</td><td>3</td></tr></table>"
                    },
                    "metadata": {}
                }
            ],
            "execution_count": 17
        },
        {
            "cell_type": "code",
            "source": [
                "SELECT TOP 10 UGYFEL_FK AS 'Felhasználónév', \r\n",
                "       COUNT(UGYFEL_FK) AS 'A 10 legtöbbet foglaló felhasználónév'\r\n",
                "FROM Foglalas\r\n",
                "GROUP BY UGYFEL_FK\r\n",
                "ORDER BY COUNT(UGYFEL_FK) DESC"
            ],
            "metadata": {
                "azdata_cell_guid": "fce14dcd-cfde-49d9-9370-8d06ad38a010",
                "language": "sql",
                "tags": [
                    "hide_input"
                ]
            },
            "outputs": [
                {
                    "output_type": "display_data",
                    "data": {
                        "text/html": "(10 rows affected)"
                    },
                    "metadata": {}
                },
                {
                    "output_type": "display_data",
                    "data": {
                        "text/html": "Total execution time: 00:00:00.026"
                    },
                    "metadata": {}
                },
                {
                    "output_type": "execute_result",
                    "execution_count": 24,
                    "data": {
                        "application/vnd.dataresource+json": {
                            "schema": {
                                "fields": [
                                    {
                                        "name": "Felhasználónév"
                                    },
                                    {
                                        "name": "A 10 legtöbbet foglaló felhasználónév"
                                    }
                                ]
                            },
                            "data": [
                                {
                                    "Felhasználónév": "andras41",
                                    "A 10 legtöbbet foglaló felhasználónév": "13"
                                },
                                {
                                    "Felhasználónév": "ARONK",
                                    "A 10 legtöbbet foglaló felhasználónév": "13"
                                },
                                {
                                    "Felhasználónév": "krisztian4",
                                    "A 10 legtöbbet foglaló felhasználónév": "12"
                                },
                                {
                                    "Felhasználónév": "peter4",
                                    "A 10 legtöbbet foglaló felhasználónév": "12"
                                },
                                {
                                    "Felhasználónév": "sara",
                                    "A 10 legtöbbet foglaló felhasználónév": "12"
                                },
                                {
                                    "Felhasználónév": "zoltan4",
                                    "A 10 legtöbbet foglaló felhasználónév": "12"
                                },
                                {
                                    "Felhasználónév": "akos",
                                    "A 10 legtöbbet foglaló felhasználónév": "10"
                                },
                                {
                                    "Felhasználónév": "balazs2",
                                    "A 10 legtöbbet foglaló felhasználónév": "10"
                                },
                                {
                                    "Felhasználónév": "balint1",
                                    "A 10 legtöbbet foglaló felhasználónév": "10"
                                },
                                {
                                    "Felhasználónév": "eszter2",
                                    "A 10 legtöbbet foglaló felhasználónév": "10"
                                }
                            ]
                        },
                        "text/html": "<table><tr><th>Felhasználónév</th><th>A 10 legtöbbet foglaló felhasználónév</th></tr><tr><td>andras41</td><td>13</td></tr><tr><td>ARONK</td><td>13</td></tr><tr><td>krisztian4</td><td>12</td></tr><tr><td>peter4</td><td>12</td></tr><tr><td>sara</td><td>12</td></tr><tr><td>zoltan4</td><td>12</td></tr><tr><td>akos</td><td>10</td></tr><tr><td>balazs2</td><td>10</td></tr><tr><td>balint1</td><td>10</td></tr><tr><td>eszter2</td><td>10</td></tr></table>"
                    },
                    "metadata": {
                        "azdata_chartOptions": {
                            "type": "table",
                            "dataDirection": "horizontal",
                            "columnsAsLabels": true,
                            "labelFirstColumn": true,
                            "legendPosition": "top",
                            "yAxisLabel": "Foglalások száma"
                        }
                    }
                }
            ],
            "execution_count": 24
        },
        {
            "cell_type": "markdown",
            "source": [
                "A következő táblázatban látható a 10 legtöbb foglalást intéző felhasználó, a legtöbb 13 foglalás intézése volt. ![](data:image/png;base64,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)"
            ],
            "metadata": {
                "language": "sql",
                "azdata_cell_guid": "009fb88d-5582-4892-959f-29e1134e2319"
            },
            "attachments": {}
        },
        {
            "cell_type": "code",
            "source": [
                "SELECT LEN(UGYFEL_FK) AS 'Felhasználónevek hossza',\r\n",
                "       count(*) AS 'Azonos hosszú felhasználónevek száma'\r\n",
                "FROM Foglalas\r\n",
                "GROUP BY LEN(UGYFEL_FK)\r\n",
                "ORDER BY 1 DESC"
            ],
            "metadata": {
                "azdata_cell_guid": "cca249bd-aeb6-4823-a991-d5650c1d6017",
                "language": "sql",
                "tags": []
            },
            "outputs": [
                {
                    "output_type": "display_data",
                    "data": {
                        "text/html": "(9 rows affected)"
                    },
                    "metadata": {}
                },
                {
                    "output_type": "display_data",
                    "data": {
                        "text/html": "Total execution time: 00:00:00.024"
                    },
                    "metadata": {}
                },
                {
                    "output_type": "execute_result",
                    "execution_count": 32,
                    "data": {
                        "application/vnd.dataresource+json": {
                            "schema": {
                                "fields": [
                                    {
                                        "name": "Felhasználónevek hossza"
                                    },
                                    {
                                        "name": "Azonos hosszú felhasználónevek száma"
                                    }
                                ]
                            },
                            "data": [
                                {
                                    "Felhasználónevek hossza": "11",
                                    "Azonos hosszú felhasználónevek száma": "1"
                                },
                                {
                                    "Felhasználónevek hossza": "10",
                                    "Azonos hosszú felhasználónevek száma": "81"
                                },
                                {
                                    "Felhasználónevek hossza": "9",
                                    "Azonos hosszú felhasználónevek száma": "61"
                                },
                                {
                                    "Felhasználónevek hossza": "8",
                                    "Azonos hosszú felhasználónevek száma": "117"
                                },
                                {
                                    "Felhasználónevek hossza": "7",
                                    "Azonos hosszú felhasználónevek száma": "301"
                                },
                                {
                                    "Felhasználónevek hossza": "6",
                                    "Azonos hosszú felhasználónevek száma": "231"
                                },
                                {
                                    "Felhasználónevek hossza": "5",
                                    "Azonos hosszú felhasználónevek száma": "144"
                                },
                                {
                                    "Felhasználónevek hossza": "4",
                                    "Azonos hosszú felhasználónevek száma": "84"
                                },
                                {
                                    "Felhasználónevek hossza": "3",
                                    "Azonos hosszú felhasználónevek száma": "7"
                                }
                            ]
                        },
                        "text/html": "<table><tr><th>Felhasználónevek hossza</th><th>Azonos hosszú felhasználónevek száma</th></tr><tr><td>11</td><td>1</td></tr><tr><td>10</td><td>81</td></tr><tr><td>9</td><td>61</td></tr><tr><td>8</td><td>117</td></tr><tr><td>7</td><td>301</td></tr><tr><td>6</td><td>231</td></tr><tr><td>5</td><td>144</td></tr><tr><td>4</td><td>84</td></tr><tr><td>3</td><td>7</td></tr></table>"
                    },
                    "metadata": {
                        "azdata_chartOptions": {
                            "type": "table",
                            "dataDirection": "horizontal",
                            "columnsAsLabels": true,
                            "labelFirstColumn": true,
                            "legendPosition": "top",
                            "xAxisLabel": "Felhasználónevek száma"
                        }
                    }
                }
            ],
            "execution_count": 32
        },
        {
            "cell_type": "markdown",
            "source": [
                "A táblázatban láthatjuk az azonos hosszúságú felhasználó nevek számát. Látható, hogy míg a szélső értékek kevésbé gyakoriak, a középső értékek annál inkább.![](data:image/png;base64,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)"
            ],
            "metadata": {
                "language": "sql",
                "azdata_cell_guid": "24a5ccc3-1ad0-466f-bb6f-6363f8f4ee12"
            },
            "attachments": {}
        },
        {
            "cell_type": "markdown",
            "source": [
                "### 2 oszlop"
            ],
            "metadata": {
                "language": "sql",
                "azdata_cell_guid": "3d612e7d-6da4-4cde-a2b9-80068556de47"
            },
            "attachments": {}
        },
        {
            "cell_type": "code",
            "source": [
                "SELECT MIN(MEDDIG) AS 'Legrégebbi foglalás',\r\n",
                "       MAX(MEDDIG) AS 'Legújabb foglalás '\r\n",
                "From Foglalas"
            ],
            "metadata": {
                "language": "sql",
                "azdata_cell_guid": "fb883219-e1ea-4468-9d62-05890831753f"
            },
            "outputs": [
                {
                    "output_type": "display_data",
                    "data": {
                        "text/html": "(1 row affected)"
                    },
                    "metadata": {}
                },
                {
                    "output_type": "display_data",
                    "data": {
                        "text/html": "Total execution time: 00:00:00.119"
                    },
                    "metadata": {}
                },
                {
                    "output_type": "execute_result",
                    "execution_count": 33,
                    "data": {
                        "application/vnd.dataresource+json": {
                            "schema": {
                                "fields": [
                                    {
                                        "name": "Legrégebbi foglalás"
                                    },
                                    {
                                        "name": "Legújabb foglalás "
                                    }
                                ]
                            },
                            "data": [
                                {
                                    "Legrégebbi foglalás": "2016-04-08",
                                    "Legújabb foglalás ": "2017-03-07"
                                }
                            ]
                        },
                        "text/html": "<table><tr><th>Legrégebbi foglalás</th><th>Legújabb foglalás </th></tr><tr><td>2016-04-08</td><td>2017-03-07</td></tr></table>"
                    },
                    "metadata": {}
                }
            ],
            "execution_count": 33
        },
        {
            "cell_type": "code",
            "source": [
                "SELECT COUNT(MEDDIG) AS 'Hiányzó dátumok száma'\r\n",
                "FROM Foglalas\r\n",
                "WHERE MEDDIG IS NULL"
            ],
            "metadata": {
                "language": "sql",
                "azdata_cell_guid": "952bd05f-63e4-4763-8be3-063e49c8c1b0"
            },
            "outputs": [
                {
                    "output_type": "display_data",
                    "data": {
                        "text/html": "(1 row affected)"
                    },
                    "metadata": {}
                },
                {
                    "output_type": "display_data",
                    "data": {
                        "text/html": "Total execution time: 00:00:00.019"
                    },
                    "metadata": {}
                },
                {
                    "output_type": "execute_result",
                    "execution_count": 40,
                    "data": {
                        "application/vnd.dataresource+json": {
                            "schema": {
                                "fields": [
                                    {
                                        "name": "Hiányzó dátumok száma"
                                    }
                                ]
                            },
                            "data": [
                                {
                                    "Hiányzó dátumok száma": "0"
                                }
                            ]
                        },
                        "text/html": "<table><tr><th>Hiányzó dátumok száma</th></tr><tr><td>0</td></tr></table>"
                    },
                    "metadata": {}
                }
            ],
            "execution_count": 40
        },
        {
            "cell_type": "code",
            "source": [
                "SELECT TOP 10 MEDDIG '10 Legtöbb foglalást indító dátum',\r\n",
                "       COUNT(*) AS 'Ugyan azon a napon induló foglalások száma'\r\n",
                "FROM Foglalas\r\n",
                "GROUP BY MEDDIG\r\n",
                "HAVING COUNT(*) <> 1\r\n",
                "ORDER BY COUNT(*) DESC"
            ],
            "metadata": {
                "language": "sql",
                "azdata_cell_guid": "9c9853d9-852c-43dc-a782-09cbffbce3fe"
            },
            "outputs": [
                {
                    "output_type": "display_data",
                    "data": {
                        "text/html": "(10 rows affected)"
                    },
                    "metadata": {}
                },
                {
                    "output_type": "display_data",
                    "data": {
                        "text/html": "Total execution time: 00:00:00.034"
                    },
                    "metadata": {}
                },
                {
                    "output_type": "execute_result",
                    "execution_count": 5,
                    "data": {
                        "application/vnd.dataresource+json": {
                            "schema": {
                                "fields": [
                                    {
                                        "name": "10 Legtöbb foglalást indító dátum"
                                    },
                                    {
                                        "name": "Ugyan azon a napon induló foglalások száma"
                                    }
                                ]
                            },
                            "data": [
                                {
                                    "10 Legtöbb foglalást indító dátum": "2016-06-08",
                                    "Ugyan azon a napon induló foglalások száma": "10"
                                },
                                {
                                    "10 Legtöbb foglalást indító dátum": "2016-06-09",
                                    "Ugyan azon a napon induló foglalások száma": "9"
                                },
                                {
                                    "10 Legtöbb foglalást indító dátum": "2017-02-14",
                                    "Ugyan azon a napon induló foglalások száma": "9"
                                },
                                {
                                    "10 Legtöbb foglalást indító dátum": "2016-06-11",
                                    "Ugyan azon a napon induló foglalások száma": "9"
                                },
                                {
                                    "10 Legtöbb foglalást indító dátum": "2016-07-21",
                                    "Ugyan azon a napon induló foglalások száma": "9"
                                },
                                {
                                    "10 Legtöbb foglalást indító dátum": "2016-08-25",
                                    "Ugyan azon a napon induló foglalások száma": "8"
                                },
                                {
                                    "10 Legtöbb foglalást indító dátum": "2016-06-03",
                                    "Ugyan azon a napon induló foglalások száma": "8"
                                },
                                {
                                    "10 Legtöbb foglalást indító dátum": "2017-02-19",
                                    "Ugyan azon a napon induló foglalások száma": "8"
                                },
                                {
                                    "10 Legtöbb foglalást indító dátum": "2016-08-27",
                                    "Ugyan azon a napon induló foglalások száma": "8"
                                },
                                {
                                    "10 Legtöbb foglalást indító dátum": "2016-11-24",
                                    "Ugyan azon a napon induló foglalások száma": "8"
                                }
                            ]
                        },
                        "text/html": "<table><tr><th>10 Legtöbb foglalást indító dátum</th><th>Ugyan azon a napon induló foglalások száma</th></tr><tr><td>2016-06-08</td><td>10</td></tr><tr><td>2016-06-09</td><td>9</td></tr><tr><td>2017-02-14</td><td>9</td></tr><tr><td>2016-06-11</td><td>9</td></tr><tr><td>2016-07-21</td><td>9</td></tr><tr><td>2016-08-25</td><td>8</td></tr><tr><td>2016-06-03</td><td>8</td></tr><tr><td>2017-02-19</td><td>8</td></tr><tr><td>2016-08-27</td><td>8</td></tr><tr><td>2016-11-24</td><td>8</td></tr></table>"
                    },
                    "metadata": {}
                }
            ],
            "execution_count": 5
        },
        {
            "cell_type": "code",
            "source": [
                "SELECT COUNT(*) AS 'Összes foglalás száma',\r\n",
                "       count(DISTINCT MEDDIG) AS 'Különböző foglalási dátumok száma'\r\n",
                "FROM Foglalas\r\n",
                ""
            ],
            "metadata": {
                "language": "sql",
                "azdata_cell_guid": "9b8eed5e-56b2-4acb-b775-8ce252675928",
                "tags": []
            },
            "outputs": [
                {
                    "output_type": "display_data",
                    "data": {
                        "text/html": "(1 row affected)"
                    },
                    "metadata": {}
                },
                {
                    "output_type": "display_data",
                    "data": {
                        "text/html": "Total execution time: 00:00:00.034"
                    },
                    "metadata": {}
                },
                {
                    "output_type": "execute_result",
                    "execution_count": 6,
                    "data": {
                        "application/vnd.dataresource+json": {
                            "schema": {
                                "fields": [
                                    {
                                        "name": "Összes foglalás száma"
                                    },
                                    {
                                        "name": "Különböző foglalási dátumok száma"
                                    }
                                ]
                            },
                            "data": [
                                {
                                    "Összes foglalás száma": "1027",
                                    "Különböző foglalási dátumok száma": "312"
                                }
                            ]
                        },
                        "text/html": "<table><tr><th>Összes foglalás száma</th><th>Különböző foglalási dátumok száma</th></tr><tr><td>1027</td><td>312</td></tr></table>"
                    },
                    "metadata": {}
                }
            ],
            "execution_count": 6
        }
    ]
}