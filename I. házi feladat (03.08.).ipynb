{
    "metadata": {
        "kernelspec": {
            "name": "SQL",
            "display_name": "SQL",
            "language": "sql"
        },
        "language_info": {
            "name": "sql",
            "version": ""
        }
    },
    "nbformat_minor": 2,
    "nbformat": 4,
    "cells": [
        {
            "cell_type": "markdown",
            "source": [
                "> **Első oszlop**"
            ],
            "metadata": {
                "language": "sql",
                "azdata_cell_guid": "fc934ca2-4f5f-4a67-849c-33ea03270119"
            },
            "attachments": {}
        },
        {
            "cell_type": "code",
            "source": [
                "SELECT Count(DISTINCT UGYFEL_FK) AS 'Összes különböző felhasználónevű foglaló'\r\n",
                "FROM Foglalas"
            ],
            "metadata": {
                "language": "sql",
                "azdata_cell_guid": "5bebe6b4-debb-4a57-aaf0-3dec7f993b3d",
                "tags": []
            },
            "outputs": [
                {
                    "output_type": "display_data",
                    "data": {
                        "text/html": "(1 row affected)"
                    },
                    "metadata": {}
                },
                {
                    "output_type": "display_data",
                    "data": {
                        "text/html": "Total execution time: 00:00:00.028"
                    },
                    "metadata": {}
                },
                {
                    "output_type": "execute_result",
                    "execution_count": 20,
                    "data": {
                        "application/vnd.dataresource+json": {
                            "schema": {
                                "fields": [
                                    {
                                        "name": "Összes különböző felhasználónevű foglaló"
                                    }
                                ]
                            },
                            "data": [
                                {
                                    "Összes különböző felhasználónevű foglaló": "195"
                                }
                            ]
                        },
                        "text/html": "<table><tr><th>Összes különböző felhasználónevű foglaló</th></tr><tr><td>195</td></tr></table>"
                    },
                    "metadata": {}
                }
            ],
            "execution_count": 20
        },
        {
            "cell_type": "code",
            "source": [
                "SELECT TOP 1 UGYFEL_FK AS 'Felhasználónév',\r\n",
                "       LEN(UGYFEL_FK) AS 'Leghosszabb felhasználónevű foglaló'\r\n",
                "FROM Foglalas\r\n",
                "ORDER BY LEN(UGYFEL_FK) DESC"
            ],
            "metadata": {
                "language": "sql",
                "azdata_cell_guid": "942e6a47-f91c-4a09-bed4-95cc779c30f9",
                "tags": []
            },
            "outputs": [
                {
                    "output_type": "display_data",
                    "data": {
                        "text/html": "(1 row affected)"
                    },
                    "metadata": {}
                },
                {
                    "output_type": "display_data",
                    "data": {
                        "text/html": "Total execution time: 00:00:00.020"
                    },
                    "metadata": {}
                },
                {
                    "output_type": "execute_result",
                    "execution_count": 14,
                    "data": {
                        "application/vnd.dataresource+json": {
                            "schema": {
                                "fields": [
                                    {
                                        "name": "Felhasználónév"
                                    },
                                    {
                                        "name": "Leghosszabb felhasználónevű foglaló"
                                    }
                                ]
                            },
                            "data": [
                                {
                                    "Felhasználónév": "gabriella10",
                                    "Leghosszabb felhasználónevű foglaló": "11"
                                }
                            ]
                        },
                        "text/html": "<table><tr><th>Felhasználónév</th><th>Leghosszabb felhasználónevű foglaló</th></tr><tr><td>gabriella10</td><td>11</td></tr></table>"
                    },
                    "metadata": {}
                }
            ],
            "execution_count": 14
        },
        {
            "cell_type": "code",
            "source": [
                "SELECT TOP 1 UGYFEL_FK AS 'Felhasználónév',\r\n",
                "       LEN(UGYFEL_FK) AS 'Legrövidebb felhasználónevű foglaló'\r\n",
                "FROM Foglalas\r\n",
                "ORDER BY LEN(UGYFEL_FK) ASC"
            ],
            "metadata": {
                "language": "sql",
                "azdata_cell_guid": "92913184-74a1-4280-9793-ab10ffc546e7"
            },
            "outputs": [
                {
                    "output_type": "display_data",
                    "data": {
                        "text/html": "(1 row affected)"
                    },
                    "metadata": {}
                },
                {
                    "output_type": "display_data",
                    "data": {
                        "text/html": "Total execution time: 00:00:00.028"
                    },
                    "metadata": {}
                },
                {
                    "output_type": "execute_result",
                    "execution_count": 17,
                    "data": {
                        "application/vnd.dataresource+json": {
                            "schema": {
                                "fields": [
                                    {
                                        "name": "Felhasználónév"
                                    },
                                    {
                                        "name": "Legrövidebb felhasználónevű foglaló"
                                    }
                                ]
                            },
                            "data": [
                                {
                                    "Felhasználónév": "pal",
                                    "Legrövidebb felhasználónevű foglaló": "3"
                                }
                            ]
                        },
                        "text/html": "<table><tr><th>Felhasználónév</th><th>Legrövidebb felhasználónevű foglaló</th></tr><tr><td>pal</td><td>3</td></tr></table>"
                    },
                    "metadata": {}
                }
            ],
            "execution_count": 17
        },
        {
            "cell_type": "code",
            "source": [
                "SELECT TOP 10 UGYFEL_FK AS 'Felhasználónév', \r\n",
                "       COUNT(UGYFEL_FK) AS 'A 10 legtöbbet foglaló felhasználónév'\r\n",
                "FROM Foglalas\r\n",
                "GROUP BY UGYFEL_FK\r\n",
                "ORDER BY COUNT(UGYFEL_FK) DESC"
            ],
            "metadata": {
                "azdata_cell_guid": "fce14dcd-cfde-49d9-9370-8d06ad38a010",
                "language": "sql"
            },
            "outputs": [
                {
                    "output_type": "display_data",
                    "data": {
                        "text/html": "(10 rows affected)"
                    },
                    "metadata": {}
                },
                {
                    "output_type": "display_data",
                    "data": {
                        "text/html": "Total execution time: 00:00:00.026"
                    },
                    "metadata": {}
                },
                {
                    "output_type": "execute_result",
                    "execution_count": 24,
                    "data": {
                        "application/vnd.dataresource+json": {
                            "schema": {
                                "fields": [
                                    {
                                        "name": "Felhasználónév"
                                    },
                                    {
                                        "name": "A 10 legtöbbet foglaló felhasználónév"
                                    }
                                ]
                            },
                            "data": [
                                {
                                    "Felhasználónév": "andras41",
                                    "A 10 legtöbbet foglaló felhasználónév": "13"
                                },
                                {
                                    "Felhasználónév": "ARONK",
                                    "A 10 legtöbbet foglaló felhasználónév": "13"
                                },
                                {
                                    "Felhasználónév": "krisztian4",
                                    "A 10 legtöbbet foglaló felhasználónév": "12"
                                },
                                {
                                    "Felhasználónév": "peter4",
                                    "A 10 legtöbbet foglaló felhasználónév": "12"
                                },
                                {
                                    "Felhasználónév": "sara",
                                    "A 10 legtöbbet foglaló felhasználónév": "12"
                                },
                                {
                                    "Felhasználónév": "zoltan4",
                                    "A 10 legtöbbet foglaló felhasználónév": "12"
                                },
                                {
                                    "Felhasználónév": "akos",
                                    "A 10 legtöbbet foglaló felhasználónév": "10"
                                },
                                {
                                    "Felhasználónév": "balazs2",
                                    "A 10 legtöbbet foglaló felhasználónév": "10"
                                },
                                {
                                    "Felhasználónév": "balint1",
                                    "A 10 legtöbbet foglaló felhasználónév": "10"
                                },
                                {
                                    "Felhasználónév": "eszter2",
                                    "A 10 legtöbbet foglaló felhasználónév": "10"
                                }
                            ]
                        },
                        "text/html": "<table><tr><th>Felhasználónév</th><th>A 10 legtöbbet foglaló felhasználónév</th></tr><tr><td>andras41</td><td>13</td></tr><tr><td>ARONK</td><td>13</td></tr><tr><td>krisztian4</td><td>12</td></tr><tr><td>peter4</td><td>12</td></tr><tr><td>sara</td><td>12</td></tr><tr><td>zoltan4</td><td>12</td></tr><tr><td>akos</td><td>10</td></tr><tr><td>balazs2</td><td>10</td></tr><tr><td>balint1</td><td>10</td></tr><tr><td>eszter2</td><td>10</td></tr></table>"
                    },
                    "metadata": {
                        "azdata_chartOptions": {
                            "type": "bar",
                            "dataDirection": "horizontal",
                            "columnsAsLabels": true,
                            "labelFirstColumn": true,
                            "legendPosition": "top",
                            "yAxisLabel": "Foglalások száma"
                        }
                    }
                }
            ],
            "execution_count": 24
        },
        {
            "cell_type": "code",
            "source": [
                "SELECT LEN(UGYFEL_FK) AS 'Felhasználónevek hossza',\r\n",
                "       count(*) AS 'Azonos hosszú felhasználónevek száma'\r\n",
                "FROM Foglalas\r\n",
                "GROUP BY LEN(UGYFEL_FK)\r\n",
                "ORDER BY 1 DESC"
            ],
            "metadata": {
                "azdata_cell_guid": "cca249bd-aeb6-4823-a991-d5650c1d6017",
                "language": "sql",
                "tags": []
            },
            "outputs": [
                {
                    "output_type": "display_data",
                    "data": {
                        "text/html": "(9 rows affected)"
                    },
                    "metadata": {}
                },
                {
                    "output_type": "display_data",
                    "data": {
                        "text/html": "Total execution time: 00:00:00.024"
                    },
                    "metadata": {}
                },
                {
                    "output_type": "execute_result",
                    "execution_count": 32,
                    "data": {
                        "application/vnd.dataresource+json": {
                            "schema": {
                                "fields": [
                                    {
                                        "name": "Felhasználónevek hossza"
                                    },
                                    {
                                        "name": "Azonos hosszú felhasználónevek száma"
                                    }
                                ]
                            },
                            "data": [
                                {
                                    "Felhasználónevek hossza": "11",
                                    "Azonos hosszú felhasználónevek száma": "1"
                                },
                                {
                                    "Felhasználónevek hossza": "10",
                                    "Azonos hosszú felhasználónevek száma": "81"
                                },
                                {
                                    "Felhasználónevek hossza": "9",
                                    "Azonos hosszú felhasználónevek száma": "61"
                                },
                                {
                                    "Felhasználónevek hossza": "8",
                                    "Azonos hosszú felhasználónevek száma": "117"
                                },
                                {
                                    "Felhasználónevek hossza": "7",
                                    "Azonos hosszú felhasználónevek száma": "301"
                                },
                                {
                                    "Felhasználónevek hossza": "6",
                                    "Azonos hosszú felhasználónevek száma": "231"
                                },
                                {
                                    "Felhasználónevek hossza": "5",
                                    "Azonos hosszú felhasználónevek száma": "144"
                                },
                                {
                                    "Felhasználónevek hossza": "4",
                                    "Azonos hosszú felhasználónevek száma": "84"
                                },
                                {
                                    "Felhasználónevek hossza": "3",
                                    "Azonos hosszú felhasználónevek száma": "7"
                                }
                            ]
                        },
                        "text/html": "<table><tr><th>Felhasználónevek hossza</th><th>Azonos hosszú felhasználónevek száma</th></tr><tr><td>11</td><td>1</td></tr><tr><td>10</td><td>81</td></tr><tr><td>9</td><td>61</td></tr><tr><td>8</td><td>117</td></tr><tr><td>7</td><td>301</td></tr><tr><td>6</td><td>231</td></tr><tr><td>5</td><td>144</td></tr><tr><td>4</td><td>84</td></tr><tr><td>3</td><td>7</td></tr></table>"
                    },
                    "metadata": {
                        "azdata_chartOptions": {
                            "type": "horizontalBar",
                            "dataDirection": "horizontal",
                            "columnsAsLabels": true,
                            "labelFirstColumn": true,
                            "legendPosition": "top",
                            "xAxisLabel": "Felhasználónevek száma"
                        }
                    }
                }
            ],
            "execution_count": 32
        },
        {
            "cell_type": "markdown",
            "source": [
                "<mark>2 oszlop</mark>"
            ],
            "metadata": {
                "language": "sql",
                "azdata_cell_guid": "3d612e7d-6da4-4cde-a2b9-80068556de47"
            },
            "attachments": {}
        },
        {
            "cell_type": "code",
            "source": [
                "SELECT MIN(MEDDIG) AS 'Legrégebbi foglalás',\r\n",
                "       MAX(MEDDIG) AS 'Legújabb foglalás '\r\n",
                "From Foglalas"
            ],
            "metadata": {
                "language": "sql",
                "azdata_cell_guid": "fb883219-e1ea-4468-9d62-05890831753f"
            },
            "outputs": [
                {
                    "output_type": "display_data",
                    "data": {
                        "text/html": "(1 row affected)"
                    },
                    "metadata": {}
                },
                {
                    "output_type": "display_data",
                    "data": {
                        "text/html": "Total execution time: 00:00:00.119"
                    },
                    "metadata": {}
                },
                {
                    "output_type": "execute_result",
                    "execution_count": 33,
                    "data": {
                        "application/vnd.dataresource+json": {
                            "schema": {
                                "fields": [
                                    {
                                        "name": "Legrégebbi foglalás"
                                    },
                                    {
                                        "name": "Legújabb foglalás "
                                    }
                                ]
                            },
                            "data": [
                                {
                                    "Legrégebbi foglalás": "2016-04-08",
                                    "Legújabb foglalás ": "2017-03-07"
                                }
                            ]
                        },
                        "text/html": "<table><tr><th>Legrégebbi foglalás</th><th>Legújabb foglalás </th></tr><tr><td>2016-04-08</td><td>2017-03-07</td></tr></table>"
                    },
                    "metadata": {}
                }
            ],
            "execution_count": 33
        },
        {
            "cell_type": "code",
            "source": [
                "SELECT COUNT(MEDDIG) AS 'Hiányzó dátumok száma'\r\n",
                "FROM Foglalas\r\n",
                "WHERE MEDDIG IS NULL"
            ],
            "metadata": {
                "language": "sql",
                "azdata_cell_guid": "952bd05f-63e4-4763-8be3-063e49c8c1b0"
            },
            "outputs": [
                {
                    "output_type": "display_data",
                    "data": {
                        "text/html": "(1 row affected)"
                    },
                    "metadata": {}
                },
                {
                    "output_type": "display_data",
                    "data": {
                        "text/html": "Total execution time: 00:00:00.019"
                    },
                    "metadata": {}
                },
                {
                    "output_type": "execute_result",
                    "execution_count": 40,
                    "data": {
                        "application/vnd.dataresource+json": {
                            "schema": {
                                "fields": [
                                    {
                                        "name": "Hiányzó dátumok száma"
                                    }
                                ]
                            },
                            "data": [
                                {
                                    "Hiányzó dátumok száma": "0"
                                }
                            ]
                        },
                        "text/html": "<table><tr><th>Hiányzó dátumok száma</th></tr><tr><td>0</td></tr></table>"
                    },
                    "metadata": {}
                }
            ],
            "execution_count": 40
        },
        {
            "cell_type": "code",
            "source": [
                "SELECT MEDDIG 'Egyszerre több induló foglalás dátuma',\r\n",
                "       COUNT(*) AS 'Ugyan azon a napon induló foglalások száma'\r\n",
                "FROM Foglalas\r\n",
                "GROUP BY MEDDIG\r\n",
                "HAVING COUNT(*) <> 1\r\n",
                "ORDER BY COUNT(*) DESC"
            ],
            "metadata": {
                "language": "sql",
                "azdata_cell_guid": "9c9853d9-852c-43dc-a782-09cbffbce3fe"
            },
            "outputs": [
                {
                    "output_type": "display_data",
                    "data": {
                        "text/html": "(261 rows affected)"
                    },
                    "metadata": {}
                },
                {
                    "output_type": "display_data",
                    "data": {
                        "text/html": "Total execution time: 00:00:00.031"
                    },
                    "metadata": {}
                },
                {
                    "output_type": "execute_result",
                    "execution_count": 52,
                    "data": {
                        "application/vnd.dataresource+json": {
                            "schema": {
                                "fields": [
                                    {
                                        "name": "Egyszerre több induló foglalás dátuma"
                                    },
                                    {
                                        "name": "Ugyan azon a napon induló foglalások száma"
                                    }
                                ]
                            },
                            "data": [
                                {
                                    "Egyszerre több induló foglalás dátuma": "2016-06-08",
                                    "Ugyan azon a napon induló foglalások száma": "10"
                                },
                                {
                                    "Egyszerre több induló foglalás dátuma": "2016-06-11",
                                    "Ugyan azon a napon induló foglalások száma": "9"
                                },
                                {
                                    "Egyszerre több induló foglalás dátuma": "2016-07-21",
                                    "Ugyan azon a napon induló foglalások száma": "9"
                                },
                                {
                                    "Egyszerre több induló foglalás dátuma": "2016-06-09",
                                    "Ugyan azon a napon induló foglalások száma": "9"
                                },
                                {
                                    "Egyszerre több induló foglalás dátuma": "2017-02-14",
                                    "Ugyan azon a napon induló foglalások száma": "9"
                                },
                                {
                                    "Egyszerre több induló foglalás dátuma": "2017-02-19",
                                    "Ugyan azon a napon induló foglalások száma": "8"
                                },
                                {
                                    "Egyszerre több induló foglalás dátuma": "2016-08-25",
                                    "Ugyan azon a napon induló foglalások száma": "8"
                                },
                                {
                                    "Egyszerre több induló foglalás dátuma": "2016-06-03",
                                    "Ugyan azon a napon induló foglalások száma": "8"
                                },
                                {
                                    "Egyszerre több induló foglalás dátuma": "2016-08-27",
                                    "Ugyan azon a napon induló foglalások száma": "8"
                                },
                                {
                                    "Egyszerre több induló foglalás dátuma": "2016-11-24",
                                    "Ugyan azon a napon induló foglalások száma": "8"
                                },
                                {
                                    "Egyszerre több induló foglalás dátuma": "2016-10-29",
                                    "Ugyan azon a napon induló foglalások száma": "7"
                                },
                                {
                                    "Egyszerre több induló foglalás dátuma": "2016-10-06",
                                    "Ugyan azon a napon induló foglalások száma": "7"
                                },
                                {
                                    "Egyszerre több induló foglalás dátuma": "2016-11-01",
                                    "Ugyan azon a napon induló foglalások száma": "7"
                                },
                                {
                                    "Egyszerre több induló foglalás dátuma": "2016-10-10",
                                    "Ugyan azon a napon induló foglalások száma": "7"
                                },
                                {
                                    "Egyszerre több induló foglalás dátuma": "2016-10-28",
                                    "Ugyan azon a napon induló foglalások száma": "7"
                                },
                                {
                                    "Egyszerre több induló foglalás dátuma": "2016-06-21",
                                    "Ugyan azon a napon induló foglalások száma": "7"
                                },
                                {
                                    "Egyszerre több induló foglalás dátuma": "2016-08-23",
                                    "Ugyan azon a napon induló foglalások száma": "7"
                                },
                                {
                                    "Egyszerre több induló foglalás dátuma": "2016-10-05",
                                    "Ugyan azon a napon induló foglalások száma": "7"
                                },
                                {
                                    "Egyszerre több induló foglalás dátuma": "2016-06-07",
                                    "Ugyan azon a napon induló foglalások száma": "7"
                                },
                                {
                                    "Egyszerre több induló foglalás dátuma": "2016-10-31",
                                    "Ugyan azon a napon induló foglalások száma": "7"
                                },
                                {
                                    "Egyszerre több induló foglalás dátuma": "2016-07-25",
                                    "Ugyan azon a napon induló foglalások száma": "6"
                                },
                                {
                                    "Egyszerre több induló foglalás dátuma": "2016-11-03",
                                    "Ugyan azon a napon induló foglalások száma": "6"
                                },
                                {
                                    "Egyszerre több induló foglalás dátuma": "2016-12-04",
                                    "Ugyan azon a napon induló foglalások száma": "6"
                                },
                                {
                                    "Egyszerre több induló foglalás dátuma": "2016-06-01",
                                    "Ugyan azon a napon induló foglalások száma": "6"
                                },
                                {
                                    "Egyszerre több induló foglalás dátuma": "2016-10-04",
                                    "Ugyan azon a napon induló foglalások száma": "6"
                                },
                                {
                                    "Egyszerre több induló foglalás dátuma": "2016-06-04",
                                    "Ugyan azon a napon induló foglalások száma": "6"
                                },
                                {
                                    "Egyszerre több induló foglalás dátuma": "2016-11-02",
                                    "Ugyan azon a napon induló foglalások száma": "6"
                                },
                                {
                                    "Egyszerre több induló foglalás dátuma": "2016-07-19",
                                    "Ugyan azon a napon induló foglalások száma": "6"
                                },
                                {
                                    "Egyszerre több induló foglalás dátuma": "2017-02-27",
                                    "Ugyan azon a napon induló foglalások száma": "6"
                                },
                                {
                                    "Egyszerre több induló foglalás dátuma": "2016-07-30",
                                    "Ugyan azon a napon induló foglalások száma": "6"
                                },
                                {
                                    "Egyszerre több induló foglalás dátuma": "2016-10-30",
                                    "Ugyan azon a napon induló foglalások száma": "6"
                                },
                                {
                                    "Egyszerre több induló foglalás dátuma": "2016-06-17",
                                    "Ugyan azon a napon induló foglalások száma": "6"
                                },
                                {
                                    "Egyszerre több induló foglalás dátuma": "2016-08-21",
                                    "Ugyan azon a napon induló foglalások száma": "6"
                                },
                                {
                                    "Egyszerre több induló foglalás dátuma": "2016-11-09",
                                    "Ugyan azon a napon induló foglalások száma": "6"
                                },
                                {
                                    "Egyszerre több induló foglalás dátuma": "2016-06-05",
                                    "Ugyan azon a napon induló foglalások száma": "6"
                                },
                                {
                                    "Egyszerre több induló foglalás dátuma": "2016-07-07",
                                    "Ugyan azon a napon induló foglalások száma": "6"
                                },
                                {
                                    "Egyszerre több induló foglalás dátuma": "2016-11-04",
                                    "Ugyan azon a napon induló foglalások száma": "6"
                                },
                                {
                                    "Egyszerre több induló foglalás dátuma": "2016-06-14",
                                    "Ugyan azon a napon induló foglalások száma": "5"
                                },
                                {
                                    "Egyszerre több induló foglalás dátuma": "2016-04-12",
                                    "Ugyan azon a napon induló foglalások száma": "5"
                                },
                                {
                                    "Egyszerre több induló foglalás dátuma": "2016-09-16",
                                    "Ugyan azon a napon induló foglalások száma": "5"
                                },
                                {
                                    "Egyszerre több induló foglalás dátuma": "2016-10-12",
                                    "Ugyan azon a napon induló foglalások száma": "5"
                                },
                                {
                                    "Egyszerre több induló foglalás dátuma": "2016-05-16",
                                    "Ugyan azon a napon induló foglalások száma": "5"
                                },
                                {
                                    "Egyszerre több induló foglalás dátuma": "2016-11-10",
                                    "Ugyan azon a napon induló foglalások száma": "5"
                                },
                                {
                                    "Egyszerre több induló foglalás dátuma": "2016-10-09",
                                    "Ugyan azon a napon induló foglalások száma": "5"
                                },
                                {
                                    "Egyszerre több induló foglalás dátuma": "2017-02-09",
                                    "Ugyan azon a napon induló foglalások száma": "5"
                                },
                                {
                                    "Egyszerre több induló foglalás dátuma": "2017-01-23",
                                    "Ugyan azon a napon induló foglalások száma": "5"
                                },
                                {
                                    "Egyszerre több induló foglalás dátuma": "2016-10-03",
                                    "Ugyan azon a napon induló foglalások száma": "5"
                                },
                                {
                                    "Egyszerre több induló foglalás dátuma": "2016-06-13",
                                    "Ugyan azon a napon induló foglalások száma": "5"
                                },
                                {
                                    "Egyszerre több induló foglalás dátuma": "2016-11-29",
                                    "Ugyan azon a napon induló foglalások száma": "5"
                                },
                                {
                                    "Egyszerre több induló foglalás dátuma": "2016-10-23",
                                    "Ugyan azon a napon induló foglalások száma": "5"
                                },
                                {
                                    "Egyszerre több induló foglalás dátuma": "2016-06-10",
                                    "Ugyan azon a napon induló foglalások száma": "5"
                                },
                                {
                                    "Egyszerre több induló foglalás dátuma": "2016-07-06",
                                    "Ugyan azon a napon induló foglalások száma": "5"
                                },
                                {
                                    "Egyszerre több induló foglalás dátuma": "2016-11-06",
                                    "Ugyan azon a napon induló foglalások száma": "5"
                                },
                                {
                                    "Egyszerre több induló foglalás dátuma": "2016-07-24",
                                    "Ugyan azon a napon induló foglalások száma": "5"
                                },
                                {
                                    "Egyszerre több induló foglalás dátuma": "2016-10-14",
                                    "Ugyan azon a napon induló foglalások száma": "5"
                                },
                                {
                                    "Egyszerre több induló foglalás dátuma": "2016-11-12",
                                    "Ugyan azon a napon induló foglalások száma": "5"
                                },
                                {
                                    "Egyszerre több induló foglalás dátuma": "2016-12-26",
                                    "Ugyan azon a napon induló foglalások száma": "5"
                                },
                                {
                                    "Egyszerre több induló foglalás dátuma": "2016-05-11",
                                    "Ugyan azon a napon induló foglalások száma": "5"
                                },
                                {
                                    "Egyszerre több induló foglalás dátuma": "2016-11-13",
                                    "Ugyan azon a napon induló foglalások száma": "5"
                                },
                                {
                                    "Egyszerre több induló foglalás dátuma": "2016-09-03",
                                    "Ugyan azon a napon induló foglalások száma": "5"
                                },
                                {
                                    "Egyszerre több induló foglalás dátuma": "2016-09-20",
                                    "Ugyan azon a napon induló foglalások száma": "5"
                                },
                                {
                                    "Egyszerre több induló foglalás dátuma": "2016-08-02",
                                    "Ugyan azon a napon induló foglalások száma": "5"
                                },
                                {
                                    "Egyszerre több induló foglalás dátuma": "2016-08-08",
                                    "Ugyan azon a napon induló foglalások száma": "5"
                                },
                                {
                                    "Egyszerre több induló foglalás dátuma": "2016-06-12",
                                    "Ugyan azon a napon induló foglalások száma": "5"
                                },
                                {
                                    "Egyszerre több induló foglalás dátuma": "2016-10-25",
                                    "Ugyan azon a napon induló foglalások száma": "5"
                                },
                                {
                                    "Egyszerre több induló foglalás dátuma": "2016-05-15",
                                    "Ugyan azon a napon induló foglalások száma": "5"
                                },
                                {
                                    "Egyszerre több induló foglalás dátuma": "2016-08-03",
                                    "Ugyan azon a napon induló foglalások száma": "5"
                                },
                                {
                                    "Egyszerre több induló foglalás dátuma": "2016-07-26",
                                    "Ugyan azon a napon induló foglalások száma": "5"
                                },
                                {
                                    "Egyszerre több induló foglalás dátuma": "2016-10-02",
                                    "Ugyan azon a napon induló foglalások száma": "5"
                                },
                                {
                                    "Egyszerre több induló foglalás dátuma": "2017-01-10",
                                    "Ugyan azon a napon induló foglalások száma": "5"
                                },
                                {
                                    "Egyszerre több induló foglalás dátuma": "2016-10-19",
                                    "Ugyan azon a napon induló foglalások száma": "5"
                                },
                                {
                                    "Egyszerre több induló foglalás dátuma": "2016-07-31",
                                    "Ugyan azon a napon induló foglalások száma": "5"
                                },
                                {
                                    "Egyszerre több induló foglalás dátuma": "2016-12-27",
                                    "Ugyan azon a napon induló foglalások száma": "5"
                                },
                                {
                                    "Egyszerre több induló foglalás dátuma": "2016-12-10",
                                    "Ugyan azon a napon induló foglalások száma": "5"
                                },
                                {
                                    "Egyszerre több induló foglalás dátuma": "2016-11-20",
                                    "Ugyan azon a napon induló foglalások száma": "5"
                                },
                                {
                                    "Egyszerre több induló foglalás dátuma": "2016-12-18",
                                    "Ugyan azon a napon induló foglalások száma": "4"
                                },
                                {
                                    "Egyszerre több induló foglalás dátuma": "2016-09-26",
                                    "Ugyan azon a napon induló foglalások száma": "4"
                                },
                                {
                                    "Egyszerre több induló foglalás dátuma": "2017-02-22",
                                    "Ugyan azon a napon induló foglalások száma": "4"
                                },
                                {
                                    "Egyszerre több induló foglalás dátuma": "2016-04-17",
                                    "Ugyan azon a napon induló foglalások száma": "4"
                                },
                                {
                                    "Egyszerre több induló foglalás dátuma": "2016-09-10",
                                    "Ugyan azon a napon induló foglalások száma": "4"
                                },
                                {
                                    "Egyszerre több induló foglalás dátuma": "2016-12-22",
                                    "Ugyan azon a napon induló foglalások száma": "4"
                                },
                                {
                                    "Egyszerre több induló foglalás dátuma": "2016-08-01",
                                    "Ugyan azon a napon induló foglalások száma": "4"
                                },
                                {
                                    "Egyszerre több induló foglalás dátuma": "2017-02-11",
                                    "Ugyan azon a napon induló foglalások száma": "4"
                                },
                                {
                                    "Egyszerre több induló foglalás dátuma": "2017-01-19",
                                    "Ugyan azon a napon induló foglalások száma": "4"
                                },
                                {
                                    "Egyszerre több induló foglalás dátuma": "2016-05-23",
                                    "Ugyan azon a napon induló foglalások száma": "4"
                                },
                                {
                                    "Egyszerre több induló foglalás dátuma": "2017-02-05",
                                    "Ugyan azon a napon induló foglalások száma": "4"
                                },
                                {
                                    "Egyszerre több induló foglalás dátuma": "2017-01-22",
                                    "Ugyan azon a napon induló foglalások száma": "4"
                                },
                                {
                                    "Egyszerre több induló foglalás dátuma": "2016-07-05",
                                    "Ugyan azon a napon induló foglalások száma": "4"
                                },
                                {
                                    "Egyszerre több induló foglalás dátuma": "2016-07-11",
                                    "Ugyan azon a napon induló foglalások száma": "4"
                                },
                                {
                                    "Egyszerre több induló foglalás dátuma": "2016-12-21",
                                    "Ugyan azon a napon induló foglalások száma": "4"
                                },
                                {
                                    "Egyszerre több induló foglalás dátuma": "2016-05-26",
                                    "Ugyan azon a napon induló foglalások száma": "4"
                                },
                                {
                                    "Egyszerre több induló foglalás dátuma": "2016-11-17",
                                    "Ugyan azon a napon induló foglalások száma": "4"
                                },
                                {
                                    "Egyszerre több induló foglalás dátuma": "2017-02-25",
                                    "Ugyan azon a napon induló foglalások száma": "4"
                                },
                                {
                                    "Egyszerre több induló foglalás dátuma": "2016-04-24",
                                    "Ugyan azon a napon induló foglalások száma": "4"
                                },
                                {
                                    "Egyszerre több induló foglalás dátuma": "2016-04-19",
                                    "Ugyan azon a napon induló foglalások száma": "4"
                                },
                                {
                                    "Egyszerre több induló foglalás dátuma": "2017-02-04",
                                    "Ugyan azon a napon induló foglalások száma": "4"
                                },
                                {
                                    "Egyszerre több induló foglalás dátuma": "2016-04-10",
                                    "Ugyan azon a napon induló foglalások száma": "4"
                                },
                                {
                                    "Egyszerre több induló foglalás dátuma": "2016-08-31",
                                    "Ugyan azon a napon induló foglalások száma": "4"
                                },
                                {
                                    "Egyszerre több induló foglalás dátuma": "2016-06-06",
                                    "Ugyan azon a napon induló foglalások száma": "4"
                                },
                                {
                                    "Egyszerre több induló foglalás dátuma": "2016-07-22",
                                    "Ugyan azon a napon induló foglalások száma": "4"
                                },
                                {
                                    "Egyszerre több induló foglalás dátuma": "2016-12-09",
                                    "Ugyan azon a napon induló foglalások száma": "4"
                                },
                                {
                                    "Egyszerre több induló foglalás dátuma": "2017-01-24",
                                    "Ugyan azon a napon induló foglalások száma": "4"
                                },
                                {
                                    "Egyszerre több induló foglalás dátuma": "2017-03-06",
                                    "Ugyan azon a napon induló foglalások száma": "4"
                                },
                                {
                                    "Egyszerre több induló foglalás dátuma": "2016-11-07",
                                    "Ugyan azon a napon induló foglalások száma": "4"
                                },
                                {
                                    "Egyszerre több induló foglalás dátuma": "2016-08-19",
                                    "Ugyan azon a napon induló foglalások száma": "4"
                                },
                                {
                                    "Egyszerre több induló foglalás dátuma": "2016-11-21",
                                    "Ugyan azon a napon induló foglalások száma": "4"
                                },
                                {
                                    "Egyszerre több induló foglalás dátuma": "2016-12-28",
                                    "Ugyan azon a napon induló foglalások száma": "4"
                                },
                                {
                                    "Egyszerre több induló foglalás dátuma": "2016-05-04",
                                    "Ugyan azon a napon induló foglalások száma": "4"
                                },
                                {
                                    "Egyszerre több induló foglalás dátuma": "2017-01-08",
                                    "Ugyan azon a napon induló foglalások száma": "4"
                                },
                                {
                                    "Egyszerre több induló foglalás dátuma": "2016-08-18",
                                    "Ugyan azon a napon induló foglalások száma": "4"
                                },
                                {
                                    "Egyszerre több induló foglalás dátuma": "2016-06-30",
                                    "Ugyan azon a napon induló foglalások száma": "4"
                                },
                                {
                                    "Egyszerre több induló foglalás dátuma": "2016-09-24",
                                    "Ugyan azon a napon induló foglalások száma": "4"
                                },
                                {
                                    "Egyszerre több induló foglalás dátuma": "2016-05-30",
                                    "Ugyan azon a napon induló foglalások száma": "4"
                                },
                                {
                                    "Egyszerre több induló foglalás dátuma": "2017-02-17",
                                    "Ugyan azon a napon induló foglalások száma": "4"
                                },
                                {
                                    "Egyszerre több induló foglalás dátuma": "2017-02-15",
                                    "Ugyan azon a napon induló foglalások száma": "4"
                                },
                                {
                                    "Egyszerre több induló foglalás dátuma": "2016-07-15",
                                    "Ugyan azon a napon induló foglalások száma": "4"
                                },
                                {
                                    "Egyszerre több induló foglalás dátuma": "2016-08-30",
                                    "Ugyan azon a napon induló foglalások száma": "4"
                                },
                                {
                                    "Egyszerre több induló foglalás dátuma": "2017-01-29",
                                    "Ugyan azon a napon induló foglalások száma": "4"
                                },
                                {
                                    "Egyszerre több induló foglalás dátuma": "2016-04-26",
                                    "Ugyan azon a napon induló foglalások száma": "4"
                                },
                                {
                                    "Egyszerre több induló foglalás dátuma": "2016-07-04",
                                    "Ugyan azon a napon induló foglalások száma": "3"
                                },
                                {
                                    "Egyszerre több induló foglalás dátuma": "2016-12-08",
                                    "Ugyan azon a napon induló foglalások száma": "3"
                                },
                                {
                                    "Egyszerre több induló foglalás dátuma": "2016-09-05",
                                    "Ugyan azon a napon induló foglalások száma": "3"
                                },
                                {
                                    "Egyszerre több induló foglalás dátuma": "2016-08-10",
                                    "Ugyan azon a napon induló foglalások száma": "3"
                                },
                                {
                                    "Egyszerre több induló foglalás dátuma": "2016-08-16",
                                    "Ugyan azon a napon induló foglalások száma": "3"
                                },
                                {
                                    "Egyszerre több induló foglalás dátuma": "2016-12-31",
                                    "Ugyan azon a napon induló foglalások száma": "3"
                                },
                                {
                                    "Egyszerre több induló foglalás dátuma": "2016-05-13",
                                    "Ugyan azon a napon induló foglalások száma": "3"
                                },
                                {
                                    "Egyszerre több induló foglalás dátuma": "2016-07-29",
                                    "Ugyan azon a napon induló foglalások száma": "3"
                                },
                                {
                                    "Egyszerre több induló foglalás dátuma": "2016-09-19",
                                    "Ugyan azon a napon induló foglalások száma": "3"
                                },
                                {
                                    "Egyszerre több induló foglalás dátuma": "2016-08-04",
                                    "Ugyan azon a napon induló foglalások száma": "3"
                                },
                                {
                                    "Egyszerre több induló foglalás dátuma": "2016-11-18",
                                    "Ugyan azon a napon induló foglalások száma": "3"
                                },
                                {
                                    "Egyszerre több induló foglalás dátuma": "2017-02-23",
                                    "Ugyan azon a napon induló foglalások száma": "3"
                                },
                                {
                                    "Egyszerre több induló foglalás dátuma": "2016-09-21",
                                    "Ugyan azon a napon induló foglalások száma": "3"
                                },
                                {
                                    "Egyszerre több induló foglalás dátuma": "2016-05-01",
                                    "Ugyan azon a napon induló foglalások száma": "3"
                                },
                                {
                                    "Egyszerre több induló foglalás dátuma": "2017-01-05",
                                    "Ugyan azon a napon induló foglalások száma": "3"
                                },
                                {
                                    "Egyszerre több induló foglalás dátuma": "2017-01-31",
                                    "Ugyan azon a napon induló foglalások száma": "3"
                                },
                                {
                                    "Egyszerre több induló foglalás dátuma": "2017-01-02",
                                    "Ugyan azon a napon induló foglalások száma": "3"
                                },
                                {
                                    "Egyszerre több induló foglalás dátuma": "2016-07-09",
                                    "Ugyan azon a napon induló foglalások száma": "3"
                                },
                                {
                                    "Egyszerre több induló foglalás dátuma": "2016-09-07",
                                    "Ugyan azon a napon induló foglalások száma": "3"
                                },
                                {
                                    "Egyszerre több induló foglalás dátuma": "2016-07-18",
                                    "Ugyan azon a napon induló foglalások száma": "3"
                                },
                                {
                                    "Egyszerre több induló foglalás dátuma": "2016-11-27",
                                    "Ugyan azon a napon induló foglalások száma": "3"
                                },
                                {
                                    "Egyszerre több induló foglalás dátuma": "2017-03-01",
                                    "Ugyan azon a napon induló foglalások száma": "3"
                                },
                                {
                                    "Egyszerre több induló foglalás dátuma": "2016-04-29",
                                    "Ugyan azon a napon induló foglalások száma": "3"
                                },
                                {
                                    "Egyszerre több induló foglalás dátuma": "2016-06-22",
                                    "Ugyan azon a napon induló foglalások száma": "3"
                                },
                                {
                                    "Egyszerre több induló foglalás dátuma": "2016-08-12",
                                    "Ugyan azon a napon induló foglalások száma": "3"
                                },
                                {
                                    "Egyszerre több induló foglalás dátuma": "2016-09-30",
                                    "Ugyan azon a napon induló foglalások száma": "3"
                                },
                                {
                                    "Egyszerre több induló foglalás dátuma": "2017-01-26",
                                    "Ugyan azon a napon induló foglalások száma": "3"
                                },
                                {
                                    "Egyszerre több induló foglalás dátuma": "2016-10-18",
                                    "Ugyan azon a napon induló foglalások száma": "3"
                                },
                                {
                                    "Egyszerre több induló foglalás dátuma": "2016-05-25",
                                    "Ugyan azon a napon induló foglalások száma": "3"
                                },
                                {
                                    "Egyszerre több induló foglalás dátuma": "2016-04-15",
                                    "Ugyan azon a napon induló foglalások száma": "3"
                                },
                                {
                                    "Egyszerre több induló foglalás dátuma": "2017-01-20",
                                    "Ugyan azon a napon induló foglalások száma": "3"
                                },
                                {
                                    "Egyszerre több induló foglalás dátuma": "2016-11-05",
                                    "Ugyan azon a napon induló foglalások száma": "3"
                                },
                                {
                                    "Egyszerre több induló foglalás dátuma": "2016-10-24",
                                    "Ugyan azon a napon induló foglalások száma": "3"
                                },
                                {
                                    "Egyszerre több induló foglalás dátuma": "2016-05-31",
                                    "Ugyan azon a napon induló foglalások száma": "3"
                                },
                                {
                                    "Egyszerre több induló foglalás dátuma": "2016-09-17",
                                    "Ugyan azon a napon induló foglalások száma": "3"
                                },
                                {
                                    "Egyszerre több induló foglalás dátuma": "2016-06-26",
                                    "Ugyan azon a napon induló foglalások száma": "3"
                                },
                                {
                                    "Egyszerre több induló foglalás dátuma": "2016-12-06",
                                    "Ugyan azon a napon induló foglalások száma": "3"
                                },
                                {
                                    "Egyszerre több induló foglalás dátuma": "2016-12-29",
                                    "Ugyan azon a napon induló foglalások száma": "3"
                                },
                                {
                                    "Egyszerre több induló foglalás dátuma": "2017-02-13",
                                    "Ugyan azon a napon induló foglalások száma": "3"
                                },
                                {
                                    "Egyszerre több induló foglalás dátuma": "2016-06-23",
                                    "Ugyan azon a napon induló foglalások száma": "3"
                                },
                                {
                                    "Egyszerre több induló foglalás dátuma": "2016-10-01",
                                    "Ugyan azon a napon induló foglalások száma": "3"
                                },
                                {
                                    "Egyszerre több induló foglalás dátuma": "2016-10-27",
                                    "Ugyan azon a napon induló foglalások száma": "3"
                                },
                                {
                                    "Egyszerre több induló foglalás dátuma": "2017-02-10",
                                    "Ugyan azon a napon induló foglalások száma": "3"
                                },
                                {
                                    "Egyszerre több induló foglalás dátuma": "2016-08-22",
                                    "Ugyan azon a napon induló foglalások száma": "3"
                                },
                                {
                                    "Egyszerre több induló foglalás dátuma": "2016-12-30",
                                    "Ugyan azon a napon induló foglalások száma": "3"
                                },
                                {
                                    "Egyszerre több induló foglalás dátuma": "2016-12-07",
                                    "Ugyan azon a napon induló foglalások száma": "3"
                                },
                                {
                                    "Egyszerre több induló foglalás dátuma": "2016-08-29",
                                    "Ugyan azon a napon induló foglalások száma": "3"
                                },
                                {
                                    "Egyszerre több induló foglalás dátuma": "2016-09-12",
                                    "Ugyan azon a napon induló foglalások száma": "3"
                                },
                                {
                                    "Egyszerre több induló foglalás dátuma": "2016-05-29",
                                    "Ugyan azon a napon induló foglalások száma": "3"
                                },
                                {
                                    "Egyszerre több induló foglalás dátuma": "2017-01-30",
                                    "Ugyan azon a napon induló foglalások száma": "3"
                                },
                                {
                                    "Egyszerre több induló foglalás dátuma": "2017-02-24",
                                    "Ugyan azon a napon induló foglalások száma": "3"
                                },
                                {
                                    "Egyszerre több induló foglalás dátuma": "2016-11-22",
                                    "Ugyan azon a napon induló foglalások száma": "3"
                                },
                                {
                                    "Egyszerre több induló foglalás dátuma": "2016-05-14",
                                    "Ugyan azon a napon induló foglalások száma": "3"
                                },
                                {
                                    "Egyszerre több induló foglalás dátuma": "2016-08-17",
                                    "Ugyan azon a napon induló foglalások száma": "3"
                                },
                                {
                                    "Egyszerre több induló foglalás dátuma": "2016-11-11",
                                    "Ugyan azon a napon induló foglalások száma": "3"
                                },
                                {
                                    "Egyszerre több induló foglalás dátuma": "2016-07-28",
                                    "Ugyan azon a napon induló foglalások száma": "3"
                                },
                                {
                                    "Egyszerre több induló foglalás dátuma": "2016-10-16",
                                    "Ugyan azon a napon induló foglalások száma": "3"
                                },
                                {
                                    "Egyszerre több induló foglalás dátuma": "2017-01-13",
                                    "Ugyan azon a napon induló foglalások száma": "3"
                                },
                                {
                                    "Egyszerre több induló foglalás dátuma": "2017-03-03",
                                    "Ugyan azon a napon induló foglalások száma": "3"
                                },
                                {
                                    "Egyszerre több induló foglalás dátuma": "2016-09-15",
                                    "Ugyan azon a napon induló foglalások száma": "3"
                                },
                                {
                                    "Egyszerre több induló foglalás dátuma": "2017-01-17",
                                    "Ugyan azon a napon induló foglalások száma": "3"
                                },
                                {
                                    "Egyszerre több induló foglalás dátuma": "2016-07-12",
                                    "Ugyan azon a napon induló foglalások száma": "3"
                                },
                                {
                                    "Egyszerre több induló foglalás dátuma": "2017-02-03",
                                    "Ugyan azon a napon induló foglalások száma": "3"
                                },
                                {
                                    "Egyszerre több induló foglalás dátuma": "2016-05-27",
                                    "Ugyan azon a napon induló foglalások száma": "3"
                                },
                                {
                                    "Egyszerre több induló foglalás dátuma": "2017-02-20",
                                    "Ugyan azon a napon induló foglalások száma": "3"
                                },
                                {
                                    "Egyszerre több induló foglalás dátuma": "2016-11-08",
                                    "Ugyan azon a napon induló foglalások száma": "3"
                                },
                                {
                                    "Egyszerre több induló foglalás dátuma": "2016-08-06",
                                    "Ugyan azon a napon induló foglalások száma": "3"
                                },
                                {
                                    "Egyszerre több induló foglalás dátuma": "2016-07-17",
                                    "Ugyan azon a napon induló foglalások száma": "3"
                                },
                                {
                                    "Egyszerre több induló foglalás dátuma": "2016-06-18",
                                    "Ugyan azon a napon induló foglalások száma": "2"
                                },
                                {
                                    "Egyszerre több induló foglalás dátuma": "2016-05-06",
                                    "Ugyan azon a napon induló foglalások száma": "2"
                                },
                                {
                                    "Egyszerre több induló foglalás dátuma": "2016-06-24",
                                    "Ugyan azon a napon induló foglalások száma": "2"
                                },
                                {
                                    "Egyszerre több induló foglalás dátuma": "2016-05-10",
                                    "Ugyan azon a napon induló foglalások száma": "2"
                                },
                                {
                                    "Egyszerre több induló foglalás dátuma": "2016-07-20",
                                    "Ugyan azon a napon induló foglalások száma": "2"
                                },
                                {
                                    "Egyszerre több induló foglalás dátuma": "2016-12-05",
                                    "Ugyan azon a napon induló foglalások száma": "2"
                                },
                                {
                                    "Egyszerre több induló foglalás dátuma": "2016-09-04",
                                    "Ugyan azon a napon induló foglalások száma": "2"
                                },
                                {
                                    "Egyszerre több induló foglalás dátuma": "2016-04-11",
                                    "Ugyan azon a napon induló foglalások száma": "2"
                                },
                                {
                                    "Egyszerre több induló foglalás dátuma": "2017-01-28",
                                    "Ugyan azon a napon induló foglalások száma": "2"
                                },
                                {
                                    "Egyszerre több induló foglalás dátuma": "2016-10-11",
                                    "Ugyan azon a napon induló foglalások száma": "2"
                                },
                                {
                                    "Egyszerre több induló foglalás dátuma": "2016-12-01",
                                    "Ugyan azon a napon induló foglalások száma": "2"
                                },
                                {
                                    "Egyszerre több induló foglalás dátuma": "2016-05-03",
                                    "Ugyan azon a napon induló foglalások száma": "2"
                                },
                                {
                                    "Egyszerre több induló foglalás dátuma": "2016-04-22",
                                    "Ugyan azon a napon induló foglalások száma": "2"
                                },
                                {
                                    "Egyszerre több induló foglalás dátuma": "2016-11-28",
                                    "Ugyan azon a napon induló foglalások száma": "2"
                                },
                                {
                                    "Egyszerre több induló foglalás dátuma": "2017-02-08",
                                    "Ugyan azon a napon induló foglalások száma": "2"
                                },
                                {
                                    "Egyszerre több induló foglalás dátuma": "2016-10-08",
                                    "Ugyan azon a napon induló foglalások száma": "2"
                                },
                                {
                                    "Egyszerre több induló foglalás dátuma": "2017-01-16",
                                    "Ugyan azon a napon induló foglalások száma": "2"
                                },
                                {
                                    "Egyszerre több induló foglalás dátuma": "2016-08-26",
                                    "Ugyan azon a napon induló foglalások száma": "2"
                                },
                                {
                                    "Egyszerre több induló foglalás dátuma": "2016-08-14",
                                    "Ugyan azon a napon induló foglalások száma": "2"
                                },
                                {
                                    "Egyszerre több induló foglalás dátuma": "2016-10-22",
                                    "Ugyan azon a napon induló foglalások száma": "2"
                                },
                                {
                                    "Egyszerre több induló foglalás dátuma": "2016-11-14",
                                    "Ugyan azon a napon induló foglalások száma": "2"
                                },
                                {
                                    "Egyszerre több induló foglalás dátuma": "2016-09-06",
                                    "Ugyan azon a napon induló foglalások száma": "2"
                                },
                                {
                                    "Egyszerre több induló foglalás dátuma": "2016-08-28",
                                    "Ugyan azon a napon induló foglalások száma": "2"
                                },
                                {
                                    "Egyszerre több induló foglalás dátuma": "2016-07-10",
                                    "Ugyan azon a napon induló foglalások száma": "2"
                                },
                                {
                                    "Egyszerre több induló foglalás dátuma": "2016-12-23",
                                    "Ugyan azon a napon induló foglalások száma": "2"
                                },
                                {
                                    "Egyszerre több induló foglalás dátuma": "2016-05-20",
                                    "Ugyan azon a napon induló foglalások száma": "2"
                                },
                                {
                                    "Egyszerre több induló foglalás dátuma": "2017-01-18",
                                    "Ugyan azon a napon induló foglalások száma": "2"
                                },
                                {
                                    "Egyszerre több induló foglalás dátuma": "2017-03-02",
                                    "Ugyan azon a napon induló foglalások száma": "2"
                                },
                                {
                                    "Egyszerre több induló foglalás dátuma": "2016-04-30",
                                    "Ugyan azon a napon induló foglalások száma": "2"
                                },
                                {
                                    "Egyszerre több induló foglalás dátuma": "2016-11-19",
                                    "Ugyan azon a napon induló foglalások száma": "2"
                                },
                                {
                                    "Egyszerre több induló foglalás dátuma": "2016-08-11",
                                    "Ugyan azon a napon induló foglalások száma": "2"
                                },
                                {
                                    "Egyszerre több induló foglalás dátuma": "2016-06-29",
                                    "Ugyan azon a napon induló foglalások száma": "2"
                                },
                                {
                                    "Egyszerre több induló foglalás dátuma": "2016-10-07",
                                    "Ugyan azon a napon induló foglalások száma": "2"
                                },
                                {
                                    "Egyszerre több induló foglalás dátuma": "2016-10-21",
                                    "Ugyan azon a napon induló foglalások száma": "2"
                                },
                                {
                                    "Egyszerre több induló foglalás dátuma": "2016-11-25",
                                    "Ugyan azon a napon induló foglalások száma": "2"
                                },
                                {
                                    "Egyszerre több induló foglalás dátuma": "2017-02-07",
                                    "Ugyan azon a napon induló foglalások száma": "2"
                                },
                                {
                                    "Egyszerre több induló foglalás dátuma": "2016-05-17",
                                    "Ugyan azon a napon induló foglalások száma": "2"
                                },
                                {
                                    "Egyszerre több induló foglalás dátuma": "2016-10-13",
                                    "Ugyan azon a napon induló foglalások száma": "2"
                                },
                                {
                                    "Egyszerre több induló foglalás dátuma": "2017-02-16",
                                    "Ugyan azon a napon induló foglalások száma": "2"
                                },
                                {
                                    "Egyszerre több induló foglalás dátuma": "2016-04-21",
                                    "Ugyan azon a napon induló foglalások száma": "2"
                                },
                                {
                                    "Egyszerre több induló foglalás dátuma": "2017-02-01",
                                    "Ugyan azon a napon induló foglalások száma": "2"
                                },
                                {
                                    "Egyszerre több induló foglalás dátuma": "2017-02-18",
                                    "Ugyan azon a napon induló foglalások száma": "2"
                                },
                                {
                                    "Egyszerre több induló foglalás dátuma": "2016-09-02",
                                    "Ugyan azon a napon induló foglalások száma": "2"
                                },
                                {
                                    "Egyszerre több induló foglalás dátuma": "2016-12-11",
                                    "Ugyan azon a napon induló foglalások száma": "2"
                                },
                                {
                                    "Egyszerre több induló foglalás dátuma": "2017-01-03",
                                    "Ugyan azon a napon induló foglalások száma": "2"
                                },
                                {
                                    "Egyszerre több induló foglalás dátuma": "2017-02-26",
                                    "Ugyan azon a napon induló foglalások száma": "2"
                                },
                                {
                                    "Egyszerre több induló foglalás dátuma": "2016-12-20",
                                    "Ugyan azon a napon induló foglalások száma": "2"
                                },
                                {
                                    "Egyszerre több induló foglalás dátuma": "2016-05-19",
                                    "Ugyan azon a napon induló foglalások száma": "2"
                                },
                                {
                                    "Egyszerre több induló foglalás dátuma": "2017-01-09",
                                    "Ugyan azon a napon induló foglalások száma": "2"
                                },
                                {
                                    "Egyszerre több induló foglalás dátuma": "2016-09-25",
                                    "Ugyan azon a napon induló foglalások száma": "2"
                                },
                                {
                                    "Egyszerre több induló foglalás dátuma": "2017-02-21",
                                    "Ugyan azon a napon induló foglalások száma": "2"
                                },
                                {
                                    "Egyszerre több induló foglalás dátuma": "2016-05-05",
                                    "Ugyan azon a napon induló foglalások száma": "2"
                                },
                                {
                                    "Egyszerre több induló foglalás dátuma": "2016-04-28",
                                    "Ugyan azon a napon induló foglalások száma": "2"
                                },
                                {
                                    "Egyszerre több induló foglalás dátuma": "2016-11-26",
                                    "Ugyan azon a napon induló foglalások száma": "2"
                                },
                                {
                                    "Egyszerre több induló foglalás dátuma": "2016-12-19",
                                    "Ugyan azon a napon induló foglalások száma": "2"
                                },
                                {
                                    "Egyszerre több induló foglalás dátuma": "2016-12-02",
                                    "Ugyan azon a napon induló foglalások száma": "2"
                                },
                                {
                                    "Egyszerre több induló foglalás dátuma": "2016-05-18",
                                    "Ugyan azon a napon induló foglalások száma": "2"
                                },
                                {
                                    "Egyszerre több induló foglalás dátuma": "2016-08-24",
                                    "Ugyan azon a napon induló foglalások száma": "2"
                                },
                                {
                                    "Egyszerre több induló foglalás dátuma": "2016-08-09",
                                    "Ugyan azon a napon induló foglalások száma": "2"
                                },
                                {
                                    "Egyszerre több induló foglalás dátuma": "2016-08-15",
                                    "Ugyan azon a napon induló foglalások száma": "2"
                                },
                                {
                                    "Egyszerre több induló foglalás dátuma": "2016-06-19",
                                    "Ugyan azon a napon induló foglalások száma": "2"
                                },
                                {
                                    "Egyszerre több induló foglalás dátuma": "2016-11-23",
                                    "Ugyan azon a napon induló foglalások száma": "2"
                                },
                                {
                                    "Egyszerre több induló foglalás dátuma": "2017-01-25",
                                    "Ugyan azon a napon induló foglalások száma": "2"
                                },
                                {
                                    "Egyszerre több induló foglalás dátuma": "2016-09-13",
                                    "Ugyan azon a napon induló foglalások száma": "2"
                                },
                                {
                                    "Egyszerre több induló foglalás dátuma": "2016-07-23",
                                    "Ugyan azon a napon induló foglalások száma": "2"
                                },
                                {
                                    "Egyszerre több induló foglalás dátuma": "2017-01-06",
                                    "Ugyan azon a napon induló foglalások száma": "2"
                                },
                                {
                                    "Egyszerre több induló foglalás dátuma": "2016-06-28",
                                    "Ugyan azon a napon induló foglalások száma": "2"
                                },
                                {
                                    "Egyszerre több induló foglalás dátuma": "2016-10-15",
                                    "Ugyan azon a napon induló foglalások száma": "2"
                                },
                                {
                                    "Egyszerre több induló foglalás dátuma": "2016-07-27",
                                    "Ugyan azon a napon induló foglalások száma": "2"
                                },
                                {
                                    "Egyszerre több induló foglalás dátuma": "2016-05-02",
                                    "Ugyan azon a napon induló foglalások száma": "2"
                                },
                                {
                                    "Egyszerre több induló foglalás dátuma": "2016-09-28",
                                    "Ugyan azon a napon induló foglalások száma": "2"
                                },
                                {
                                    "Egyszerre több induló foglalás dátuma": "2016-11-30",
                                    "Ugyan azon a napon induló foglalások száma": "2"
                                },
                                {
                                    "Egyszerre több induló foglalás dátuma": "2016-12-14",
                                    "Ugyan azon a napon induló foglalások száma": "2"
                                },
                                {
                                    "Egyszerre több induló foglalás dátuma": "2017-03-04",
                                    "Ugyan azon a napon induló foglalások száma": "2"
                                }
                            ]
                        },
                        "text/html": "<table><tr><th>Egyszerre több induló foglalás dátuma</th><th>Ugyan azon a napon induló foglalások száma</th></tr><tr><td>2016-06-08</td><td>10</td></tr><tr><td>2016-06-11</td><td>9</td></tr><tr><td>2016-07-21</td><td>9</td></tr><tr><td>2016-06-09</td><td>9</td></tr><tr><td>2017-02-14</td><td>9</td></tr><tr><td>2017-02-19</td><td>8</td></tr><tr><td>2016-08-25</td><td>8</td></tr><tr><td>2016-06-03</td><td>8</td></tr><tr><td>2016-08-27</td><td>8</td></tr><tr><td>2016-11-24</td><td>8</td></tr><tr><td>2016-10-29</td><td>7</td></tr><tr><td>2016-10-06</td><td>7</td></tr><tr><td>2016-11-01</td><td>7</td></tr><tr><td>2016-10-10</td><td>7</td></tr><tr><td>2016-10-28</td><td>7</td></tr><tr><td>2016-06-21</td><td>7</td></tr><tr><td>2016-08-23</td><td>7</td></tr><tr><td>2016-10-05</td><td>7</td></tr><tr><td>2016-06-07</td><td>7</td></tr><tr><td>2016-10-31</td><td>7</td></tr><tr><td>2016-07-25</td><td>6</td></tr><tr><td>2016-11-03</td><td>6</td></tr><tr><td>2016-12-04</td><td>6</td></tr><tr><td>2016-06-01</td><td>6</td></tr><tr><td>2016-10-04</td><td>6</td></tr><tr><td>2016-06-04</td><td>6</td></tr><tr><td>2016-11-02</td><td>6</td></tr><tr><td>2016-07-19</td><td>6</td></tr><tr><td>2017-02-27</td><td>6</td></tr><tr><td>2016-07-30</td><td>6</td></tr><tr><td>2016-10-30</td><td>6</td></tr><tr><td>2016-06-17</td><td>6</td></tr><tr><td>2016-08-21</td><td>6</td></tr><tr><td>2016-11-09</td><td>6</td></tr><tr><td>2016-06-05</td><td>6</td></tr><tr><td>2016-07-07</td><td>6</td></tr><tr><td>2016-11-04</td><td>6</td></tr><tr><td>2016-06-14</td><td>5</td></tr><tr><td>2016-04-12</td><td>5</td></tr><tr><td>2016-09-16</td><td>5</td></tr><tr><td>2016-10-12</td><td>5</td></tr><tr><td>2016-05-16</td><td>5</td></tr><tr><td>2016-11-10</td><td>5</td></tr><tr><td>2016-10-09</td><td>5</td></tr><tr><td>2017-02-09</td><td>5</td></tr><tr><td>2017-01-23</td><td>5</td></tr><tr><td>2016-10-03</td><td>5</td></tr><tr><td>2016-06-13</td><td>5</td></tr><tr><td>2016-11-29</td><td>5</td></tr><tr><td>2016-10-23</td><td>5</td></tr><tr><td>2016-06-10</td><td>5</td></tr><tr><td>2016-07-06</td><td>5</td></tr><tr><td>2016-11-06</td><td>5</td></tr><tr><td>2016-07-24</td><td>5</td></tr><tr><td>2016-10-14</td><td>5</td></tr><tr><td>2016-11-12</td><td>5</td></tr><tr><td>2016-12-26</td><td>5</td></tr><tr><td>2016-05-11</td><td>5</td></tr><tr><td>2016-11-13</td><td>5</td></tr><tr><td>2016-09-03</td><td>5</td></tr><tr><td>2016-09-20</td><td>5</td></tr><tr><td>2016-08-02</td><td>5</td></tr><tr><td>2016-08-08</td><td>5</td></tr><tr><td>2016-06-12</td><td>5</td></tr><tr><td>2016-10-25</td><td>5</td></tr><tr><td>2016-05-15</td><td>5</td></tr><tr><td>2016-08-03</td><td>5</td></tr><tr><td>2016-07-26</td><td>5</td></tr><tr><td>2016-10-02</td><td>5</td></tr><tr><td>2017-01-10</td><td>5</td></tr><tr><td>2016-10-19</td><td>5</td></tr><tr><td>2016-07-31</td><td>5</td></tr><tr><td>2016-12-27</td><td>5</td></tr><tr><td>2016-12-10</td><td>5</td></tr><tr><td>2016-11-20</td><td>5</td></tr><tr><td>2016-12-18</td><td>4</td></tr><tr><td>2016-09-26</td><td>4</td></tr><tr><td>2017-02-22</td><td>4</td></tr><tr><td>2016-04-17</td><td>4</td></tr><tr><td>2016-09-10</td><td>4</td></tr><tr><td>2016-12-22</td><td>4</td></tr><tr><td>2016-08-01</td><td>4</td></tr><tr><td>2017-02-11</td><td>4</td></tr><tr><td>2017-01-19</td><td>4</td></tr><tr><td>2016-05-23</td><td>4</td></tr><tr><td>2017-02-05</td><td>4</td></tr><tr><td>2017-01-22</td><td>4</td></tr><tr><td>2016-07-05</td><td>4</td></tr><tr><td>2016-07-11</td><td>4</td></tr><tr><td>2016-12-21</td><td>4</td></tr><tr><td>2016-05-26</td><td>4</td></tr><tr><td>2016-11-17</td><td>4</td></tr><tr><td>2017-02-25</td><td>4</td></tr><tr><td>2016-04-24</td><td>4</td></tr><tr><td>2016-04-19</td><td>4</td></tr><tr><td>2017-02-04</td><td>4</td></tr><tr><td>2016-04-10</td><td>4</td></tr><tr><td>2016-08-31</td><td>4</td></tr><tr><td>2016-06-06</td><td>4</td></tr><tr><td>2016-07-22</td><td>4</td></tr><tr><td>2016-12-09</td><td>4</td></tr><tr><td>2017-01-24</td><td>4</td></tr><tr><td>2017-03-06</td><td>4</td></tr><tr><td>2016-11-07</td><td>4</td></tr><tr><td>2016-08-19</td><td>4</td></tr><tr><td>2016-11-21</td><td>4</td></tr><tr><td>2016-12-28</td><td>4</td></tr><tr><td>2016-05-04</td><td>4</td></tr><tr><td>2017-01-08</td><td>4</td></tr><tr><td>2016-08-18</td><td>4</td></tr><tr><td>2016-06-30</td><td>4</td></tr><tr><td>2016-09-24</td><td>4</td></tr><tr><td>2016-05-30</td><td>4</td></tr><tr><td>2017-02-17</td><td>4</td></tr><tr><td>2017-02-15</td><td>4</td></tr><tr><td>2016-07-15</td><td>4</td></tr><tr><td>2016-08-30</td><td>4</td></tr><tr><td>2017-01-29</td><td>4</td></tr><tr><td>2016-04-26</td><td>4</td></tr><tr><td>2016-07-04</td><td>3</td></tr><tr><td>2016-12-08</td><td>3</td></tr><tr><td>2016-09-05</td><td>3</td></tr><tr><td>2016-08-10</td><td>3</td></tr><tr><td>2016-08-16</td><td>3</td></tr><tr><td>2016-12-31</td><td>3</td></tr><tr><td>2016-05-13</td><td>3</td></tr><tr><td>2016-07-29</td><td>3</td></tr><tr><td>2016-09-19</td><td>3</td></tr><tr><td>2016-08-04</td><td>3</td></tr><tr><td>2016-11-18</td><td>3</td></tr><tr><td>2017-02-23</td><td>3</td></tr><tr><td>2016-09-21</td><td>3</td></tr><tr><td>2016-05-01</td><td>3</td></tr><tr><td>2017-01-05</td><td>3</td></tr><tr><td>2017-01-31</td><td>3</td></tr><tr><td>2017-01-02</td><td>3</td></tr><tr><td>2016-07-09</td><td>3</td></tr><tr><td>2016-09-07</td><td>3</td></tr><tr><td>2016-07-18</td><td>3</td></tr><tr><td>2016-11-27</td><td>3</td></tr><tr><td>2017-03-01</td><td>3</td></tr><tr><td>2016-04-29</td><td>3</td></tr><tr><td>2016-06-22</td><td>3</td></tr><tr><td>2016-08-12</td><td>3</td></tr><tr><td>2016-09-30</td><td>3</td></tr><tr><td>2017-01-26</td><td>3</td></tr><tr><td>2016-10-18</td><td>3</td></tr><tr><td>2016-05-25</td><td>3</td></tr><tr><td>2016-04-15</td><td>3</td></tr><tr><td>2017-01-20</td><td>3</td></tr><tr><td>2016-11-05</td><td>3</td></tr><tr><td>2016-10-24</td><td>3</td></tr><tr><td>2016-05-31</td><td>3</td></tr><tr><td>2016-09-17</td><td>3</td></tr><tr><td>2016-06-26</td><td>3</td></tr><tr><td>2016-12-06</td><td>3</td></tr><tr><td>2016-12-29</td><td>3</td></tr><tr><td>2017-02-13</td><td>3</td></tr><tr><td>2016-06-23</td><td>3</td></tr><tr><td>2016-10-01</td><td>3</td></tr><tr><td>2016-10-27</td><td>3</td></tr><tr><td>2017-02-10</td><td>3</td></tr><tr><td>2016-08-22</td><td>3</td></tr><tr><td>2016-12-30</td><td>3</td></tr><tr><td>2016-12-07</td><td>3</td></tr><tr><td>2016-08-29</td><td>3</td></tr><tr><td>2016-09-12</td><td>3</td></tr><tr><td>2016-05-29</td><td>3</td></tr><tr><td>2017-01-30</td><td>3</td></tr><tr><td>2017-02-24</td><td>3</td></tr><tr><td>2016-11-22</td><td>3</td></tr><tr><td>2016-05-14</td><td>3</td></tr><tr><td>2016-08-17</td><td>3</td></tr><tr><td>2016-11-11</td><td>3</td></tr><tr><td>2016-07-28</td><td>3</td></tr><tr><td>2016-10-16</td><td>3</td></tr><tr><td>2017-01-13</td><td>3</td></tr><tr><td>2017-03-03</td><td>3</td></tr><tr><td>2016-09-15</td><td>3</td></tr><tr><td>2017-01-17</td><td>3</td></tr><tr><td>2016-07-12</td><td>3</td></tr><tr><td>2017-02-03</td><td>3</td></tr><tr><td>2016-05-27</td><td>3</td></tr><tr><td>2017-02-20</td><td>3</td></tr><tr><td>2016-11-08</td><td>3</td></tr><tr><td>2016-08-06</td><td>3</td></tr><tr><td>2016-07-17</td><td>3</td></tr><tr><td>2016-06-18</td><td>2</td></tr><tr><td>2016-05-06</td><td>2</td></tr><tr><td>2016-06-24</td><td>2</td></tr><tr><td>2016-05-10</td><td>2</td></tr><tr><td>2016-07-20</td><td>2</td></tr><tr><td>2016-12-05</td><td>2</td></tr><tr><td>2016-09-04</td><td>2</td></tr><tr><td>2016-04-11</td><td>2</td></tr><tr><td>2017-01-28</td><td>2</td></tr><tr><td>2016-10-11</td><td>2</td></tr><tr><td>2016-12-01</td><td>2</td></tr><tr><td>2016-05-03</td><td>2</td></tr><tr><td>2016-04-22</td><td>2</td></tr><tr><td>2016-11-28</td><td>2</td></tr><tr><td>2017-02-08</td><td>2</td></tr><tr><td>2016-10-08</td><td>2</td></tr><tr><td>2017-01-16</td><td>2</td></tr><tr><td>2016-08-26</td><td>2</td></tr><tr><td>2016-08-14</td><td>2</td></tr><tr><td>2016-10-22</td><td>2</td></tr><tr><td>2016-11-14</td><td>2</td></tr><tr><td>2016-09-06</td><td>2</td></tr><tr><td>2016-08-28</td><td>2</td></tr><tr><td>2016-07-10</td><td>2</td></tr><tr><td>2016-12-23</td><td>2</td></tr><tr><td>2016-05-20</td><td>2</td></tr><tr><td>2017-01-18</td><td>2</td></tr><tr><td>2017-03-02</td><td>2</td></tr><tr><td>2016-04-30</td><td>2</td></tr><tr><td>2016-11-19</td><td>2</td></tr><tr><td>2016-08-11</td><td>2</td></tr><tr><td>2016-06-29</td><td>2</td></tr><tr><td>2016-10-07</td><td>2</td></tr><tr><td>2016-10-21</td><td>2</td></tr><tr><td>2016-11-25</td><td>2</td></tr><tr><td>2017-02-07</td><td>2</td></tr><tr><td>2016-05-17</td><td>2</td></tr><tr><td>2016-10-13</td><td>2</td></tr><tr><td>2017-02-16</td><td>2</td></tr><tr><td>2016-04-21</td><td>2</td></tr><tr><td>2017-02-01</td><td>2</td></tr><tr><td>2017-02-18</td><td>2</td></tr><tr><td>2016-09-02</td><td>2</td></tr><tr><td>2016-12-11</td><td>2</td></tr><tr><td>2017-01-03</td><td>2</td></tr><tr><td>2017-02-26</td><td>2</td></tr><tr><td>2016-12-20</td><td>2</td></tr><tr><td>2016-05-19</td><td>2</td></tr><tr><td>2017-01-09</td><td>2</td></tr><tr><td>2016-09-25</td><td>2</td></tr><tr><td>2017-02-21</td><td>2</td></tr><tr><td>2016-05-05</td><td>2</td></tr><tr><td>2016-04-28</td><td>2</td></tr><tr><td>2016-11-26</td><td>2</td></tr><tr><td>2016-12-19</td><td>2</td></tr><tr><td>2016-12-02</td><td>2</td></tr><tr><td>2016-05-18</td><td>2</td></tr><tr><td>2016-08-24</td><td>2</td></tr><tr><td>2016-08-09</td><td>2</td></tr><tr><td>2016-08-15</td><td>2</td></tr><tr><td>2016-06-19</td><td>2</td></tr><tr><td>2016-11-23</td><td>2</td></tr><tr><td>2017-01-25</td><td>2</td></tr><tr><td>2016-09-13</td><td>2</td></tr><tr><td>2016-07-23</td><td>2</td></tr><tr><td>2017-01-06</td><td>2</td></tr><tr><td>2016-06-28</td><td>2</td></tr><tr><td>2016-10-15</td><td>2</td></tr><tr><td>2016-07-27</td><td>2</td></tr><tr><td>2016-05-02</td><td>2</td></tr><tr><td>2016-09-28</td><td>2</td></tr><tr><td>2016-11-30</td><td>2</td></tr><tr><td>2016-12-14</td><td>2</td></tr><tr><td>2017-03-04</td><td>2</td></tr></table>"
                    },
                    "metadata": {}
                }
            ],
            "execution_count": 52
        },
        {
            "cell_type": "code",
            "source": [
                "SELECT COUNT(*) AS 'Összes foglalás száma',\r\n",
                "       count(DISTINCT MEDDIG) AS 'Különböző foglalási dátumok száma'\r\n",
                "FROM Foglalas\r\n",
                ""
            ],
            "metadata": {
                "language": "sql",
                "azdata_cell_guid": "9b8eed5e-56b2-4acb-b775-8ce252675928",
                "tags": []
            },
            "outputs": [
                {
                    "output_type": "display_data",
                    "data": {
                        "text/html": "(1 row affected)"
                    },
                    "metadata": {}
                },
                {
                    "output_type": "display_data",
                    "data": {
                        "text/html": "Total execution time: 00:00:00.034"
                    },
                    "metadata": {}
                },
                {
                    "output_type": "execute_result",
                    "metadata": {},
                    "execution_count": 6,
                    "data": {
                        "application/vnd.dataresource+json": {
                            "schema": {
                                "fields": [
                                    {
                                        "name": "Összes foglalás száma"
                                    },
                                    {
                                        "name": "Különböző foglalási dátumok száma"
                                    }
                                ]
                            },
                            "data": [
                                {
                                    "Összes foglalás száma": "1027",
                                    "Különböző foglalási dátumok száma": "312"
                                }
                            ]
                        },
                        "text/html": [
                            "<table>",
                            "<tr><th>Összes foglalás száma</th><th>Különböző foglalási dátumok száma</th></tr>",
                            "<tr><td>1027</td><td>312</td></tr>",
                            "</table>"
                        ]
                    }
                }
            ],
            "execution_count": 6
        }
    ]
}