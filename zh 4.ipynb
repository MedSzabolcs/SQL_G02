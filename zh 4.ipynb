{
    "metadata": {
        "kernelspec": {
            "name": "SQL",
            "display_name": "SQL",
            "language": "sql"
        },
        "language_info": {
            "name": "sql",
            "version": ""
        }
    },
    "nbformat_minor": 2,
    "nbformat": 4,
    "cells": [
        {
            "cell_type": "markdown",
            "source": [
                "1 feladat"
            ],
            "metadata": {
                "azdata_cell_guid": "0d4cecdb-1fee-4cdf-b584-a607c5be43e6"
            },
            "attachments": {}
        },
        {
            "cell_type": "code",
            "source": [
                "SELECT V.NEV,\r\n",
                "       V.EMAIL,\r\n",
                "       V.USERNEV\r\n",
                "FROM Foglalas F JOIN Vendeg V ON F.UGYFEL_FK=V.USERNEV\r\n",
                "WHERE MONTH(V.SZUL_DAT) != 5\r\n",
                "GROUP BY V.NEV, V.EMAIL, V.USERNEV\r\n",
                "HAVING COUNT(*) > 1"
            ],
            "metadata": {
                "azdata_cell_guid": "095a6e1c-ebf1-4ee6-95c9-53bd0867368e",
                "language": "sql"
            },
            "outputs": [
                {
                    "output_type": "display_data",
                    "data": {
                        "text/html": "(169 rows affected)"
                    },
                    "metadata": {}
                },
                {
                    "output_type": "display_data",
                    "data": {
                        "text/html": "Total execution time: 00:00:00.082"
                    },
                    "metadata": {}
                },
                {
                    "output_type": "execute_result",
                    "metadata": {},
                    "execution_count": 10,
                    "data": {
                        "application/vnd.dataresource+json": {
                            "schema": {
                                "fields": [
                                    {
                                        "name": "NEV"
                                    },
                                    {
                                        "name": "EMAIL"
                                    },
                                    {
                                        "name": "USERNEV"
                                    }
                                ]
                            },
                            "data": [
                                {
                                    "NEV": "Kiss Ádám",
                                    "EMAIL": "ádám.kiss@mail.hu",
                                    "USERNEV": "adam1"
                                },
                                {
                                    "NEV": "Barkóci Ádám",
                                    "EMAIL": "adam3@gmail.com",
                                    "USERNEV": "adam3"
                                },
                                {
                                    "NEV": "Bieniek Ádám",
                                    "EMAIL": "ádám.bieniek@mail.hu",
                                    "USERNEV": "adam4"
                                },
                                {
                                    "NEV": "Lengyel Ágnes",
                                    "EMAIL": "agnes@gmail.com",
                                    "USERNEV": "agnes"
                                },
                                {
                                    "NEV": "Hartyánszky Ágnes",
                                    "EMAIL": "agnes3@gmail.com",
                                    "USERNEV": "agnes3"
                                },
                                {
                                    "NEV": "Horváth Ágnes",
                                    "EMAIL": "AGNESH@gmail.com",
                                    "USERNEV": "AGNESH"
                                },
                                {
                                    "NEV": "Kovács Ágnes",
                                    "EMAIL": "AGNESK@gmail.com",
                                    "USERNEV": "AGNESK"
                                },
                                {
                                    "NEV": "Bíró Ákos",
                                    "EMAIL": "ákos.bíró@mail.hu",
                                    "USERNEV": "akos"
                                },
                                {
                                    "NEV": "Dunai Aladár",
                                    "EMAIL": "aladár.dunai@mail.hu",
                                    "USERNEV": "aladar"
                                },
                                {
                                    "NEV": "Bagóczki Alexandra",
                                    "EMAIL": "alexandra.bagóczki@mail.hu",
                                    "USERNEV": "alexandra"
                                },
                                {
                                    "NEV": "Tóth András",
                                    "EMAIL": "andrás.tóth@mail.hu",
                                    "USERNEV": "andras2"
                                },
                                {
                                    "NEV": "Molnár András",
                                    "EMAIL": "andrás.molnár@mail.hu",
                                    "USERNEV": "andras21"
                                },
                                {
                                    "NEV": "Vígh András",
                                    "EMAIL": "andrás.vígh@mail.hu",
                                    "USERNEV": "andras3"
                                },
                                {
                                    "NEV": "Back András",
                                    "EMAIL": "andras4@gmail.com",
                                    "USERNEV": "andras4"
                                },
                                {
                                    "NEV": "Komjáti András",
                                    "EMAIL": "andras41@gmail.com",
                                    "USERNEV": "andras41"
                                },
                                {
                                    "NEV": "Kiss Andrea",
                                    "EMAIL": "andrea.kiss@mail.hu",
                                    "USERNEV": "andrea"
                                },
                                {
                                    "NEV": "Tornyos Andrea",
                                    "EMAIL": "ANDREAT@gmail.com",
                                    "USERNEV": "ANDREAT"
                                },
                                {
                                    "NEV": "Pivarcsi Anett",
                                    "EMAIL": "anett.pivarcsi@mail.hu",
                                    "USERNEV": "anett3"
                                },
                                {
                                    "NEV": "Tóth Anikó",
                                    "EMAIL": "aniko@gmail.com",
                                    "USERNEV": "aniko"
                                },
                                {
                                    "NEV": "Böröcz Anikó",
                                    "EMAIL": "aniko4@gmail.com",
                                    "USERNEV": "aniko4"
                                },
                                {
                                    "NEV": "Simon Anikó",
                                    "EMAIL": "ANIKOS@gmail.com",
                                    "USERNEV": "ANIKOS"
                                },
                                {
                                    "NEV": "Hamvay-Kovács Anita",
                                    "EMAIL": "anita.hamvay-kovács@mail.hu",
                                    "USERNEV": "anita"
                                },
                                {
                                    "NEV": "Szűcs Annamária",
                                    "EMAIL": "annamária.szűcs@mail.hu",
                                    "USERNEV": "annamaria1"
                                },
                                {
                                    "NEV": "Regős Annamária",
                                    "EMAIL": "ANNAMARIAR@gmail.com",
                                    "USERNEV": "ANNAMARIAR"
                                },
                                {
                                    "NEV": "Jakab Áron",
                                    "EMAIL": "aron2@gmail.com",
                                    "USERNEV": "aron2"
                                },
                                {
                                    "NEV": "Kelemen Áron",
                                    "EMAIL": "áron.kelemen@mail.hu",
                                    "USERNEV": "ARONK"
                                },
                                {
                                    "NEV": "Ötvös Árpád",
                                    "EMAIL": "árpád.ötvös@mail.hu",
                                    "USERNEV": "arpad2"
                                },
                                {
                                    "NEV": "Móricz Árpád",
                                    "EMAIL": "árpád.móricz@mail.hu",
                                    "USERNEV": "ARPADM"
                                },
                                {
                                    "NEV": "Csóti Attila",
                                    "EMAIL": "attila@gmail.com",
                                    "USERNEV": "attila"
                                },
                                {
                                    "NEV": "Gulyás Attila",
                                    "EMAIL": "attila.gulyás@mail.hu",
                                    "USERNEV": "attila1"
                                },
                                {
                                    "NEV": "Baróti Attila",
                                    "EMAIL": "attila.baróti@mail.hu",
                                    "USERNEV": "attila4"
                                },
                                {
                                    "NEV": "Bozsik Balázs",
                                    "EMAIL": "balázs.bozsik@mail.hu",
                                    "USERNEV": "balazs1"
                                },
                                {
                                    "NEV": "Szűcs Balázs",
                                    "EMAIL": "balázs.szűcs@mail.hu",
                                    "USERNEV": "balazs2"
                                },
                                {
                                    "NEV": "Bakódy Balázs",
                                    "EMAIL": "balazs3@gmail.com",
                                    "USERNEV": "balazs3"
                                },
                                {
                                    "NEV": "Horváth Bálint",
                                    "EMAIL": "balint@gmail.com",
                                    "USERNEV": "balint"
                                },
                                {
                                    "NEV": "Molnár Bálint",
                                    "EMAIL": "balint1@gmail.com",
                                    "USERNEV": "balint1"
                                },
                                {
                                    "NEV": "Vukasinovity Bálint",
                                    "EMAIL": "balint2@gmail.com",
                                    "USERNEV": "balint2"
                                },
                                {
                                    "NEV": "Endresz Bálint",
                                    "EMAIL": "bálint.endresz@mail.hu",
                                    "USERNEV": "balu"
                                },
                                {
                                    "NEV": "Bagi Beáta",
                                    "EMAIL": "beáta.bagi@mail.hu",
                                    "USERNEV": "beata4"
                                },
                                {
                                    "NEV": "Kerényi Beatrix",
                                    "EMAIL": "beatrix.kerényi@mail.hu",
                                    "USERNEV": "BEATRIXK"
                                },
                                {
                                    "NEV": "Szekendi Beatrix",
                                    "EMAIL": "beatrix.szekendi@mail.hu",
                                    "USERNEV": "BEATRIXS"
                                },
                                {
                                    "NEV": "Farkas Béla",
                                    "EMAIL": "BELAF@gmail.com",
                                    "USERNEV": "BELAF"
                                },
                                {
                                    "NEV": "Győrffy Bence",
                                    "EMAIL": "bence@gmail.com",
                                    "USERNEV": "bence"
                                },
                                {
                                    "NEV": "Bajusz Bence",
                                    "EMAIL": "bence.bajusz@mail.hu",
                                    "USERNEV": "BENCEB"
                                },
                                {
                                    "NEV": "Simon Bernadett",
                                    "EMAIL": "bernadett1@gmail.com",
                                    "USERNEV": "bernadett1"
                                },
                                {
                                    "NEV": "Kovács Bernadett",
                                    "EMAIL": "bernadett.kovács@mail.hu",
                                    "USERNEV": "bernadett2"
                                },
                                {
                                    "NEV": "Orbán Bernadett",
                                    "EMAIL": "bernadett.orbán@mail.hu",
                                    "USERNEV": "BERNADETTO"
                                },
                                {
                                    "NEV": "Csiger Bertalan",
                                    "EMAIL": "bertalan@gmail.com",
                                    "USERNEV": "bertalan"
                                },
                                {
                                    "NEV": "Székely Brigitta",
                                    "EMAIL": "brigitta.székely@mail.hu",
                                    "USERNEV": "brigitta"
                                },
                                {
                                    "NEV": "Nagymihály Csongor",
                                    "EMAIL": "csongor.nagymihály@mail.hu",
                                    "USERNEV": "csongor3"
                                },
                                {
                                    "NEV": "Vörös Dániel",
                                    "EMAIL": "daniel@gmail.com",
                                    "USERNEV": "dani"
                                },
                                {
                                    "NEV": "Rácz Dániel",
                                    "EMAIL": "dániel.rácz@mail.hu",
                                    "USERNEV": "daniel"
                                },
                                {
                                    "NEV": "Keszler Dániel",
                                    "EMAIL": "dániel.keszler@mail.hu",
                                    "USERNEV": "daniel1"
                                },
                                {
                                    "NEV": "Ambrus Dávid",
                                    "EMAIL": "david@gmail.com",
                                    "USERNEV": "david"
                                },
                                {
                                    "NEV": "Sobják Dávid",
                                    "EMAIL": "david1@gmail.com",
                                    "USERNEV": "david1"
                                },
                                {
                                    "NEV": "Barna Debóra",
                                    "EMAIL": "debóra.barna@mail.hu",
                                    "USERNEV": "debora"
                                },
                                {
                                    "NEV": "Tömböly Dénes",
                                    "EMAIL": "denes@gmail.com",
                                    "USERNEV": "denes"
                                },
                                {
                                    "NEV": "Bittmann Edit",
                                    "EMAIL": "edit.bittmann@mail.hu",
                                    "USERNEV": "edit"
                                },
                                {
                                    "NEV": "Kuruc Emese",
                                    "EMAIL": "emese.kuruc@mail.hu",
                                    "USERNEV": "emese"
                                },
                                {
                                    "NEV": "Balogh Eszter",
                                    "EMAIL": "eszter.balogh@mail.hu",
                                    "USERNEV": "eszter2"
                                },
                                {
                                    "NEV": "Fülöp Eszter",
                                    "EMAIL": "eszter.fülöp@mail.hu",
                                    "USERNEV": "eszter4"
                                },
                                {
                                    "NEV": "Érsek Eszter",
                                    "EMAIL": "eszter.érsek@mail.hu",
                                    "USERNEV": "ESZTERE"
                                },
                                {
                                    "NEV": "Enyedi Éva",
                                    "EMAIL": "eva@gmail.com",
                                    "USERNEV": "eva"
                                },
                                {
                                    "NEV": "Perlinger Éva",
                                    "EMAIL": "eva2@gmail.com",
                                    "USERNEV": "eva2"
                                },
                                {
                                    "NEV": "Viktor Éva",
                                    "EMAIL": "EVAV@gmail.com",
                                    "USERNEV": "EVAV"
                                },
                                {
                                    "NEV": "Orosz Ferenc",
                                    "EMAIL": "ferenc.orosz@mail.hu",
                                    "USERNEV": "ferenc1"
                                },
                                {
                                    "NEV": "Frank Fruzsina",
                                    "EMAIL": "fruzsina4@gmail.com",
                                    "USERNEV": "fruzsina4"
                                },
                                {
                                    "NEV": "Köves Gábor",
                                    "EMAIL": "gabor1@gmail.com",
                                    "USERNEV": "gabor1"
                                },
                                {
                                    "NEV": "Telek Gábor",
                                    "EMAIL": "gábor.telek@mail.hu",
                                    "USERNEV": "gabor4"
                                },
                                {
                                    "NEV": "Nagy Gabriella",
                                    "EMAIL": "gabriella1@gmail.com",
                                    "USERNEV": "gabriella1"
                                },
                                {
                                    "NEV": "Nyíri Georgij",
                                    "EMAIL": "georgij.nyíri@mail.hu",
                                    "USERNEV": "georgij"
                                },
                                {
                                    "NEV": "Bárci Gusztáv",
                                    "EMAIL": "gusztav@gmail.com",
                                    "USERNEV": "gusztav"
                                },
                                {
                                    "NEV": "Kornseé Gyöngyi",
                                    "EMAIL": "gyöngyi.kornseé@mail.hu",
                                    "USERNEV": "GYONGYIK"
                                },
                                {
                                    "NEV": "Oroszi György",
                                    "EMAIL": "GYORGYO@gmail.com",
                                    "USERNEV": "GYORGYO"
                                },
                                {
                                    "NEV": "Nádudvari Henrik",
                                    "EMAIL": "henrik.nádudvari@mail.hu",
                                    "USERNEV": "henrik3"
                                },
                                {
                                    "NEV": "Andor Ibolya",
                                    "EMAIL": "ibolya.andor@mail.hu",
                                    "USERNEV": "IBOLYAA"
                                },
                                {
                                    "NEV": "Bosnyák Ilona",
                                    "EMAIL": "ilona3@gmail.com",
                                    "USERNEV": "ilona3"
                                },
                                {
                                    "NEV": "Búza Imre",
                                    "EMAIL": "imre.búza@mail.hu",
                                    "USERNEV": "imre"
                                },
                                {
                                    "NEV": "Papp Imre",
                                    "EMAIL": "imre.papp@mail.hu",
                                    "USERNEV": "imre1"
                                },
                                {
                                    "NEV": "Soós István",
                                    "EMAIL": "istvan@gmail.com",
                                    "USERNEV": "istvan"
                                },
                                {
                                    "NEV": "Vizi István",
                                    "EMAIL": "istván.vizi@mail.hu",
                                    "USERNEV": "istvan1"
                                },
                                {
                                    "NEV": "Varga István",
                                    "EMAIL": "ISTVANV@gmail.com",
                                    "USERNEV": "ISTVANV"
                                },
                                {
                                    "NEV": "Harangozó János",
                                    "EMAIL": "janos3@gmail.com",
                                    "USERNEV": "janos3"
                                },
                                {
                                    "NEV": "Giliga János",
                                    "EMAIL": "JANOSG@gmail.com",
                                    "USERNEV": "JANOSG"
                                },
                                {
                                    "NEV": "Pálinkás János",
                                    "EMAIL": "JANOSP@gmail.com",
                                    "USERNEV": "JANOSP"
                                },
                                {
                                    "NEV": "Gergely József",
                                    "EMAIL": "jozsef@gmail.com",
                                    "USERNEV": "jozsef"
                                },
                                {
                                    "NEV": "Vajda József",
                                    "EMAIL": "józsef.vajda@mail.hu",
                                    "USERNEV": "jozsef2"
                                },
                                {
                                    "NEV": "Hídasi Judit",
                                    "EMAIL": "JUDITH@gmail.com",
                                    "USERNEV": "JUDITH"
                                },
                                {
                                    "NEV": "Tóth Júlia",
                                    "EMAIL": "julia@gmail.com",
                                    "USERNEV": "julia"
                                },
                                {
                                    "NEV": "Nagy Júlia",
                                    "EMAIL": "julia4@gmail.com",
                                    "USERNEV": "julia4"
                                },
                                {
                                    "NEV": "Szabó Julianna",
                                    "EMAIL": "julianna4@gmail.com",
                                    "USERNEV": "julianna4"
                                },
                                {
                                    "NEV": "Gondos Katalin",
                                    "EMAIL": "katalin.gondos@mail.hu",
                                    "USERNEV": "kata"
                                },
                                {
                                    "NEV": "Horváth Katalin",
                                    "EMAIL": "katalin.horváth@mail.hu",
                                    "USERNEV": "katalin"
                                },
                                {
                                    "NEV": "Kertész Katalin",
                                    "EMAIL": "katalin4@gmail.com",
                                    "USERNEV": "katalin4"
                                },
                                {
                                    "NEV": "Kovács Katalin",
                                    "EMAIL": "katalin.kovács@mail.hu",
                                    "USERNEV": "katka"
                                },
                                {
                                    "NEV": "Bakó Klaudia",
                                    "EMAIL": "klaudia.bakó@mail.hu",
                                    "USERNEV": "klaudia2"
                                },
                                {
                                    "NEV": "Lukács Kornél",
                                    "EMAIL": "kornél.lukács@mail.hu",
                                    "USERNEV": "kornel4"
                                },
                                {
                                    "NEV": "Poprádi Kristóf",
                                    "EMAIL": "kristof4@gmail.com",
                                    "USERNEV": "kristof4"
                                },
                                {
                                    "NEV": "Horváth Krisztina",
                                    "EMAIL": "kriszti@gmail.com",
                                    "USERNEV": "kriszti"
                                },
                                {
                                    "NEV": "Czérna Krisztián",
                                    "EMAIL": "krisztián.czérna@mail.hu",
                                    "USERNEV": "krisztian4"
                                },
                                {
                                    "NEV": "Bori Krisztina",
                                    "EMAIL": "krisztina.bori@mail.hu",
                                    "USERNEV": "krisztina1"
                                },
                                {
                                    "NEV": "Gyárfás Krisztina",
                                    "EMAIL": "KRISZTINAG@gmail.com",
                                    "USERNEV": "KRISZTINAG"
                                },
                                {
                                    "NEV": "Kiss Lajos",
                                    "EMAIL": "lajos.kiss@mail.hu",
                                    "USERNEV": "lajos"
                                },
                                {
                                    "NEV": "Nagymihály Lajos",
                                    "EMAIL": "lajos.nagymihály@mail.hu",
                                    "USERNEV": "lala"
                                },
                                {
                                    "NEV": "Móra László",
                                    "EMAIL": "lászló.móra@mail.hu",
                                    "USERNEV": "laszlo2"
                                },
                                {
                                    "NEV": "Antal László",
                                    "EMAIL": "lászló.antal@mail.hu",
                                    "USERNEV": "LASZLOA"
                                },
                                {
                                    "NEV": "Nagy László",
                                    "EMAIL": "lászló.nagy@mail.hu",
                                    "USERNEV": "LASZLON"
                                },
                                {
                                    "NEV": "Baráth Mária",
                                    "EMAIL": "mária.baráth@mail.hu",
                                    "USERNEV": "maria1"
                                },
                                {
                                    "NEV": "Kispál Márk",
                                    "EMAIL": "márk.kispál@mail.hu",
                                    "USERNEV": "mark"
                                },
                                {
                                    "NEV": "Horváth Márk",
                                    "EMAIL": "márk.horváth@mail.hu",
                                    "USERNEV": "MARKH"
                                },
                                {
                                    "NEV": "Kalacsi Márton",
                                    "EMAIL": "marton@gmail.com",
                                    "USERNEV": "marton"
                                },
                                {
                                    "NEV": "Koza Máté",
                                    "EMAIL": "máté.koza@mail.hu",
                                    "USERNEV": "MATEK"
                                },
                                {
                                    "NEV": "Botka Mátyás",
                                    "EMAIL": "matyas2@gmail.com",
                                    "USERNEV": "matyas2"
                                },
                                {
                                    "NEV": "Szilágyi Mátyás",
                                    "EMAIL": "mátyás.szilágyi@mail.hu",
                                    "USERNEV": "MATYASS"
                                },
                                {
                                    "NEV": "Juhász Mihály",
                                    "EMAIL": "mihály.juhász@mail.hu",
                                    "USERNEV": "MIHALYJ"
                                },
                                {
                                    "NEV": "Gondos Miklós",
                                    "EMAIL": "miklos2@gmail.com",
                                    "USERNEV": "miklos2"
                                },
                                {
                                    "NEV": "Balla Miklós",
                                    "EMAIL": "miklós.balla@mail.hu",
                                    "USERNEV": "MIKLOSB"
                                },
                                {
                                    "NEV": "Mohos Mónika",
                                    "EMAIL": "mónika.mohos@mail.hu",
                                    "USERNEV": "MONIKAM"
                                },
                                {
                                    "NEV": "Fő Nándor",
                                    "EMAIL": "nándor.fő@mail.hu",
                                    "USERNEV": "NANDORF"
                                },
                                {
                                    "NEV": "Horváth Nikolett",
                                    "EMAIL": "nikolett3@gmail.com",
                                    "USERNEV": "nikolett3"
                                },
                                {
                                    "NEV": "Kő Nikoletta",
                                    "EMAIL": "nikoletta4@gmail.com",
                                    "USERNEV": "nikoletta4"
                                },
                                {
                                    "NEV": "Tatár Nikoletta",
                                    "EMAIL": "nikoletta.tatár@mail.hu",
                                    "USERNEV": "NIKOLETTAT"
                                },
                                {
                                    "NEV": "Szűcs Norbert",
                                    "EMAIL": "norbert@gmail.com",
                                    "USERNEV": "norbert"
                                },
                                {
                                    "NEV": "Hegedűs Norbert",
                                    "EMAIL": "norbert.hegedűs@mail.hu",
                                    "USERNEV": "norbert2"
                                },
                                {
                                    "NEV": "Mile Norbert",
                                    "EMAIL": "norbert4@gmail.com",
                                    "USERNEV": "norbert4"
                                },
                                {
                                    "NEV": "Béres Norbert",
                                    "EMAIL": "norbert5@gmail.com",
                                    "USERNEV": "norbert5"
                                },
                                {
                                    "NEV": "Barabás Pál",
                                    "EMAIL": "pál.barabás@mail.hu",
                                    "USERNEV": "pal"
                                },
                                {
                                    "NEV": "Kozma Péter",
                                    "EMAIL": "peter1@gmail.com",
                                    "USERNEV": "peter1"
                                },
                                {
                                    "NEV": "Bozsó Péter",
                                    "EMAIL": "peter2@gmail.com",
                                    "USERNEV": "peter2"
                                },
                                {
                                    "NEV": "Szalai Péter",
                                    "EMAIL": "peter3@gmail.com",
                                    "USERNEV": "peter3"
                                },
                                {
                                    "NEV": "Bíró Péter",
                                    "EMAIL": "péter.bíró@mail.hu",
                                    "USERNEV": "peter4"
                                },
                                {
                                    "NEV": "Berendi Péter",
                                    "EMAIL": "péter.berendi@mail.hu",
                                    "USERNEV": "PETERB"
                                },
                                {
                                    "NEV": "Palágyi Polla",
                                    "EMAIL": "polla@gmail.com",
                                    "USERNEV": "polla"
                                },
                                {
                                    "NEV": "Rácz Rajmond",
                                    "EMAIL": "rajmond.rácz@mail.hu",
                                    "USERNEV": "rajmond4"
                                },
                                {
                                    "NEV": "Szikszai Réka",
                                    "EMAIL": "réka.szikszai@mail.hu",
                                    "USERNEV": "reka4"
                                },
                                {
                                    "NEV": "Szirmai Renáta",
                                    "EMAIL": "RENATAS@gmail.com",
                                    "USERNEV": "RENATAS"
                                },
                                {
                                    "NEV": "Patay Róbert",
                                    "EMAIL": "robert2@gmail.com",
                                    "USERNEV": "robert2"
                                },
                                {
                                    "NEV": "Iván Róbert",
                                    "EMAIL": "róbert.iván@mail.hu",
                                    "USERNEV": "ROBERTI"
                                },
                                {
                                    "NEV": "Tóth Roland",
                                    "EMAIL": "roland@gmail.com",
                                    "USERNEV": "roland"
                                },
                                {
                                    "NEV": "Ferencz Roland",
                                    "EMAIL": "roland.ferencz@mail.hu",
                                    "USERNEV": "roland1"
                                },
                                {
                                    "NEV": "Bucskó Róza",
                                    "EMAIL": "roza2@gmail.com",
                                    "USERNEV": "roza2"
                                },
                                {
                                    "NEV": "Karasz Sándor",
                                    "EMAIL": "sandor@gmail.com",
                                    "USERNEV": "sandor"
                                },
                                {
                                    "NEV": "Farkas Sándor",
                                    "EMAIL": "sándor.farkas@mail.hu",
                                    "USERNEV": "sandor3"
                                },
                                {
                                    "NEV": "Nagy Sándor",
                                    "EMAIL": "sandor4@gmail.com",
                                    "USERNEV": "sandor4"
                                },
                                {
                                    "NEV": "Farkas Sára",
                                    "EMAIL": "sára.farkas@mail.hu",
                                    "USERNEV": "sara"
                                },
                                {
                                    "NEV": "Foltényi Sebastián",
                                    "EMAIL": "SEBASTIANF@gmail.com",
                                    "USERNEV": "SEBASTIANF"
                                },
                                {
                                    "NEV": "Rab Sebestyén",
                                    "EMAIL": "sebestyen@gmail.com",
                                    "USERNEV": "sebestyen"
                                },
                                {
                                    "NEV": "Miklós Szabolcs",
                                    "EMAIL": "szabolcs.miklós@mail.hu",
                                    "USERNEV": "SZABOLCSM"
                                },
                                {
                                    "NEV": "Szalai Szilárd",
                                    "EMAIL": "szilárd.szalai@mail.hu",
                                    "USERNEV": "SZILARDS"
                                },
                                {
                                    "NEV": "Tari Szilvia",
                                    "EMAIL": "szilvia.tari@mail.hu",
                                    "USERNEV": "szilvia1"
                                },
                                {
                                    "NEV": "Miklós Tamara",
                                    "EMAIL": "tamara.miklós@mail.hu",
                                    "USERNEV": "tamara2"
                                },
                                {
                                    "NEV": "Antal Tamás",
                                    "EMAIL": "tamás.antal@mail.hu",
                                    "USERNEV": "tamas"
                                },
                                {
                                    "NEV": "Fényes Tamás",
                                    "EMAIL": "TAMASF@gmail.com",
                                    "USERNEV": "TAMASF"
                                },
                                {
                                    "NEV": "Gombos Tibor",
                                    "EMAIL": "tibor.gombos@mail.hu",
                                    "USERNEV": "tibor"
                                },
                                {
                                    "NEV": "Kazy Tihamér",
                                    "EMAIL": "tihamér.kazy@mail.hu",
                                    "USERNEV": "tihamer"
                                },
                                {
                                    "NEV": "Dusha Tímea",
                                    "EMAIL": "tímea.dusha@mail.hu",
                                    "USERNEV": "timea2"
                                },
                                {
                                    "NEV": "Turcsik Tünde",
                                    "EMAIL": "tunde@gmail.com",
                                    "USERNEV": "tunde"
                                },
                                {
                                    "NEV": "Feró Valentin",
                                    "EMAIL": "valentin.feró@mail.hu",
                                    "USERNEV": "valentin"
                                },
                                {
                                    "NEV": "Tankó Veronika",
                                    "EMAIL": "veronika4@gmail.com",
                                    "USERNEV": "veronika4"
                                },
                                {
                                    "NEV": "Boros Vivien",
                                    "EMAIL": "vivien3@gmail.com",
                                    "USERNEV": "vivien3"
                                },
                                {
                                    "NEV": "Fodor Zoltán",
                                    "EMAIL": "zoltán.fodor@mail.hu",
                                    "USERNEV": "zoltan"
                                },
                                {
                                    "NEV": "Pintér Zoltán",
                                    "EMAIL": "zoltán.pintér@mail.hu",
                                    "USERNEV": "ZOLTANP"
                                },
                                {
                                    "NEV": "Tóth Zoltán",
                                    "EMAIL": "zoltán.tóth@mail.hu",
                                    "USERNEV": "ZOLTANT"
                                },
                                {
                                    "NEV": "Molnár Zsófi",
                                    "EMAIL": "zsofi1@gmail.com",
                                    "USERNEV": "zsofi1"
                                },
                                {
                                    "NEV": "Józsa Zsolt",
                                    "EMAIL": "ZSOLTJ@gmail.com",
                                    "USERNEV": "ZSOLTJ"
                                },
                                {
                                    "NEV": "Pusztai Zsuzsanna",
                                    "EMAIL": "zsuzsanna@gmail.com",
                                    "USERNEV": "zsuzsa"
                                },
                                {
                                    "NEV": "Varsányi Zsuzsa",
                                    "EMAIL": "zsuzsa.varsányi@mail.hu",
                                    "USERNEV": "zsuzsa3"
                                },
                                {
                                    "NEV": "Barta Zsuzsanna",
                                    "EMAIL": "zsuzsanna.barta@mail.hu",
                                    "USERNEV": "zsuzsanna"
                                },
                                {
                                    "NEV": "Vajda Zsuzsa",
                                    "EMAIL": "zsuzsa.vajda@mail.hu",
                                    "USERNEV": "ZSUZSAV"
                                }
                            ]
                        },
                        "text/html": [
                            "<table>",
                            "<tr><th>NEV</th><th>EMAIL</th><th>USERNEV</th></tr>",
                            "<tr><td>Kiss Ádám</td><td>ádám.kiss@mail.hu</td><td>adam1</td></tr>",
                            "<tr><td>Barkóci Ádám</td><td>adam3@gmail.com</td><td>adam3</td></tr>",
                            "<tr><td>Bieniek Ádám</td><td>ádám.bieniek@mail.hu</td><td>adam4</td></tr>",
                            "<tr><td>Lengyel Ágnes</td><td>agnes@gmail.com</td><td>agnes</td></tr>",
                            "<tr><td>Hartyánszky Ágnes</td><td>agnes3@gmail.com</td><td>agnes3</td></tr>",
                            "<tr><td>Horváth Ágnes</td><td>AGNESH@gmail.com</td><td>AGNESH</td></tr>",
                            "<tr><td>Kovács Ágnes</td><td>AGNESK@gmail.com</td><td>AGNESK</td></tr>",
                            "<tr><td>Bíró Ákos</td><td>ákos.bíró@mail.hu</td><td>akos</td></tr>",
                            "<tr><td>Dunai Aladár</td><td>aladár.dunai@mail.hu</td><td>aladar</td></tr>",
                            "<tr><td>Bagóczki Alexandra</td><td>alexandra.bagóczki@mail.hu</td><td>alexandra</td></tr>",
                            "<tr><td>Tóth András</td><td>andrás.tóth@mail.hu</td><td>andras2</td></tr>",
                            "<tr><td>Molnár András</td><td>andrás.molnár@mail.hu</td><td>andras21</td></tr>",
                            "<tr><td>Vígh András</td><td>andrás.vígh@mail.hu</td><td>andras3</td></tr>",
                            "<tr><td>Back András</td><td>andras4@gmail.com</td><td>andras4</td></tr>",
                            "<tr><td>Komjáti András</td><td>andras41@gmail.com</td><td>andras41</td></tr>",
                            "<tr><td>Kiss Andrea</td><td>andrea.kiss@mail.hu</td><td>andrea</td></tr>",
                            "<tr><td>Tornyos Andrea</td><td>ANDREAT@gmail.com</td><td>ANDREAT</td></tr>",
                            "<tr><td>Pivarcsi Anett</td><td>anett.pivarcsi@mail.hu</td><td>anett3</td></tr>",
                            "<tr><td>Tóth Anikó</td><td>aniko@gmail.com</td><td>aniko</td></tr>",
                            "<tr><td>Böröcz Anikó</td><td>aniko4@gmail.com</td><td>aniko4</td></tr>",
                            "<tr><td>Simon Anikó</td><td>ANIKOS@gmail.com</td><td>ANIKOS</td></tr>",
                            "<tr><td>Hamvay-Kovács Anita</td><td>anita.hamvay-kovács@mail.hu</td><td>anita</td></tr>",
                            "<tr><td>Szűcs Annamária</td><td>annamária.szűcs@mail.hu</td><td>annamaria1</td></tr>",
                            "<tr><td>Regős Annamária</td><td>ANNAMARIAR@gmail.com</td><td>ANNAMARIAR</td></tr>",
                            "<tr><td>Jakab Áron</td><td>aron2@gmail.com</td><td>aron2</td></tr>",
                            "<tr><td>Kelemen Áron</td><td>áron.kelemen@mail.hu</td><td>ARONK</td></tr>",
                            "<tr><td>Ötvös Árpád</td><td>árpád.ötvös@mail.hu</td><td>arpad2</td></tr>",
                            "<tr><td>Móricz Árpád</td><td>árpád.móricz@mail.hu</td><td>ARPADM</td></tr>",
                            "<tr><td>Csóti Attila</td><td>attila@gmail.com</td><td>attila</td></tr>",
                            "<tr><td>Gulyás Attila</td><td>attila.gulyás@mail.hu</td><td>attila1</td></tr>",
                            "<tr><td>Baróti Attila</td><td>attila.baróti@mail.hu</td><td>attila4</td></tr>",
                            "<tr><td>Bozsik Balázs</td><td>balázs.bozsik@mail.hu</td><td>balazs1</td></tr>",
                            "<tr><td>Szűcs Balázs</td><td>balázs.szűcs@mail.hu</td><td>balazs2</td></tr>",
                            "<tr><td>Bakódy Balázs</td><td>balazs3@gmail.com</td><td>balazs3</td></tr>",
                            "<tr><td>Horváth Bálint</td><td>balint@gmail.com</td><td>balint</td></tr>",
                            "<tr><td>Molnár Bálint</td><td>balint1@gmail.com</td><td>balint1</td></tr>",
                            "<tr><td>Vukasinovity Bálint</td><td>balint2@gmail.com</td><td>balint2</td></tr>",
                            "<tr><td>Endresz Bálint</td><td>bálint.endresz@mail.hu</td><td>balu</td></tr>",
                            "<tr><td>Bagi Beáta</td><td>beáta.bagi@mail.hu</td><td>beata4</td></tr>",
                            "<tr><td>Kerényi Beatrix</td><td>beatrix.kerényi@mail.hu</td><td>BEATRIXK</td></tr>",
                            "<tr><td>Szekendi Beatrix</td><td>beatrix.szekendi@mail.hu</td><td>BEATRIXS</td></tr>",
                            "<tr><td>Farkas Béla</td><td>BELAF@gmail.com</td><td>BELAF</td></tr>",
                            "<tr><td>Győrffy Bence</td><td>bence@gmail.com</td><td>bence</td></tr>",
                            "<tr><td>Bajusz Bence</td><td>bence.bajusz@mail.hu</td><td>BENCEB</td></tr>",
                            "<tr><td>Simon Bernadett</td><td>bernadett1@gmail.com</td><td>bernadett1</td></tr>",
                            "<tr><td>Kovács Bernadett</td><td>bernadett.kovács@mail.hu</td><td>bernadett2</td></tr>",
                            "<tr><td>Orbán Bernadett</td><td>bernadett.orbán@mail.hu</td><td>BERNADETTO</td></tr>",
                            "<tr><td>Csiger Bertalan</td><td>bertalan@gmail.com</td><td>bertalan</td></tr>",
                            "<tr><td>Székely Brigitta</td><td>brigitta.székely@mail.hu</td><td>brigitta</td></tr>",
                            "<tr><td>Nagymihály Csongor</td><td>csongor.nagymihály@mail.hu</td><td>csongor3</td></tr>",
                            "<tr><td>Vörös Dániel</td><td>daniel@gmail.com</td><td>dani</td></tr>",
                            "<tr><td>Rácz Dániel</td><td>dániel.rácz@mail.hu</td><td>daniel</td></tr>",
                            "<tr><td>Keszler Dániel</td><td>dániel.keszler@mail.hu</td><td>daniel1</td></tr>",
                            "<tr><td>Ambrus Dávid</td><td>david@gmail.com</td><td>david</td></tr>",
                            "<tr><td>Sobják Dávid</td><td>david1@gmail.com</td><td>david1</td></tr>",
                            "<tr><td>Barna Debóra</td><td>debóra.barna@mail.hu</td><td>debora</td></tr>",
                            "<tr><td>Tömböly Dénes</td><td>denes@gmail.com</td><td>denes</td></tr>",
                            "<tr><td>Bittmann Edit</td><td>edit.bittmann@mail.hu</td><td>edit</td></tr>",
                            "<tr><td>Kuruc Emese</td><td>emese.kuruc@mail.hu</td><td>emese</td></tr>",
                            "<tr><td>Balogh Eszter</td><td>eszter.balogh@mail.hu</td><td>eszter2</td></tr>",
                            "<tr><td>Fülöp Eszter</td><td>eszter.fülöp@mail.hu</td><td>eszter4</td></tr>",
                            "<tr><td>Érsek Eszter</td><td>eszter.érsek@mail.hu</td><td>ESZTERE</td></tr>",
                            "<tr><td>Enyedi Éva</td><td>eva@gmail.com</td><td>eva</td></tr>",
                            "<tr><td>Perlinger Éva</td><td>eva2@gmail.com</td><td>eva2</td></tr>",
                            "<tr><td>Viktor Éva</td><td>EVAV@gmail.com</td><td>EVAV</td></tr>",
                            "<tr><td>Orosz Ferenc</td><td>ferenc.orosz@mail.hu</td><td>ferenc1</td></tr>",
                            "<tr><td>Frank Fruzsina</td><td>fruzsina4@gmail.com</td><td>fruzsina4</td></tr>",
                            "<tr><td>Köves Gábor</td><td>gabor1@gmail.com</td><td>gabor1</td></tr>",
                            "<tr><td>Telek Gábor</td><td>gábor.telek@mail.hu</td><td>gabor4</td></tr>",
                            "<tr><td>Nagy Gabriella</td><td>gabriella1@gmail.com</td><td>gabriella1</td></tr>",
                            "<tr><td>Nyíri Georgij</td><td>georgij.nyíri@mail.hu</td><td>georgij</td></tr>",
                            "<tr><td>Bárci Gusztáv</td><td>gusztav@gmail.com</td><td>gusztav</td></tr>",
                            "<tr><td>Kornseé Gyöngyi</td><td>gyöngyi.kornseé@mail.hu</td><td>GYONGYIK</td></tr>",
                            "<tr><td>Oroszi György</td><td>GYORGYO@gmail.com</td><td>GYORGYO</td></tr>",
                            "<tr><td>Nádudvari Henrik</td><td>henrik.nádudvari@mail.hu</td><td>henrik3</td></tr>",
                            "<tr><td>Andor Ibolya</td><td>ibolya.andor@mail.hu</td><td>IBOLYAA</td></tr>",
                            "<tr><td>Bosnyák Ilona</td><td>ilona3@gmail.com</td><td>ilona3</td></tr>",
                            "<tr><td>Búza Imre</td><td>imre.búza@mail.hu</td><td>imre</td></tr>",
                            "<tr><td>Papp Imre</td><td>imre.papp@mail.hu</td><td>imre1</td></tr>",
                            "<tr><td>Soós István</td><td>istvan@gmail.com</td><td>istvan</td></tr>",
                            "<tr><td>Vizi István</td><td>istván.vizi@mail.hu</td><td>istvan1</td></tr>",
                            "<tr><td>Varga István</td><td>ISTVANV@gmail.com</td><td>ISTVANV</td></tr>",
                            "<tr><td>Harangozó János</td><td>janos3@gmail.com</td><td>janos3</td></tr>",
                            "<tr><td>Giliga János</td><td>JANOSG@gmail.com</td><td>JANOSG</td></tr>",
                            "<tr><td>Pálinkás János</td><td>JANOSP@gmail.com</td><td>JANOSP</td></tr>",
                            "<tr><td>Gergely József</td><td>jozsef@gmail.com</td><td>jozsef</td></tr>",
                            "<tr><td>Vajda József</td><td>józsef.vajda@mail.hu</td><td>jozsef2</td></tr>",
                            "<tr><td>Hídasi Judit</td><td>JUDITH@gmail.com</td><td>JUDITH</td></tr>",
                            "<tr><td>Tóth Júlia</td><td>julia@gmail.com</td><td>julia</td></tr>",
                            "<tr><td>Nagy Júlia</td><td>julia4@gmail.com</td><td>julia4</td></tr>",
                            "<tr><td>Szabó Julianna</td><td>julianna4@gmail.com</td><td>julianna4</td></tr>",
                            "<tr><td>Gondos Katalin</td><td>katalin.gondos@mail.hu</td><td>kata</td></tr>",
                            "<tr><td>Horváth Katalin</td><td>katalin.horváth@mail.hu</td><td>katalin</td></tr>",
                            "<tr><td>Kertész Katalin</td><td>katalin4@gmail.com</td><td>katalin4</td></tr>",
                            "<tr><td>Kovács Katalin</td><td>katalin.kovács@mail.hu</td><td>katka</td></tr>",
                            "<tr><td>Bakó Klaudia</td><td>klaudia.bakó@mail.hu</td><td>klaudia2</td></tr>",
                            "<tr><td>Lukács Kornél</td><td>kornél.lukács@mail.hu</td><td>kornel4</td></tr>",
                            "<tr><td>Poprádi Kristóf</td><td>kristof4@gmail.com</td><td>kristof4</td></tr>",
                            "<tr><td>Horváth Krisztina</td><td>kriszti@gmail.com</td><td>kriszti</td></tr>",
                            "<tr><td>Czérna Krisztián</td><td>krisztián.czérna@mail.hu</td><td>krisztian4</td></tr>",
                            "<tr><td>Bori Krisztina</td><td>krisztina.bori@mail.hu</td><td>krisztina1</td></tr>",
                            "<tr><td>Gyárfás Krisztina</td><td>KRISZTINAG@gmail.com</td><td>KRISZTINAG</td></tr>",
                            "<tr><td>Kiss Lajos</td><td>lajos.kiss@mail.hu</td><td>lajos</td></tr>",
                            "<tr><td>Nagymihály Lajos</td><td>lajos.nagymihály@mail.hu</td><td>lala</td></tr>",
                            "<tr><td>Móra László</td><td>lászló.móra@mail.hu</td><td>laszlo2</td></tr>",
                            "<tr><td>Antal László</td><td>lászló.antal@mail.hu</td><td>LASZLOA</td></tr>",
                            "<tr><td>Nagy László</td><td>lászló.nagy@mail.hu</td><td>LASZLON</td></tr>",
                            "<tr><td>Baráth Mária</td><td>mária.baráth@mail.hu</td><td>maria1</td></tr>",
                            "<tr><td>Kispál Márk</td><td>márk.kispál@mail.hu</td><td>mark</td></tr>",
                            "<tr><td>Horváth Márk</td><td>márk.horváth@mail.hu</td><td>MARKH</td></tr>",
                            "<tr><td>Kalacsi Márton</td><td>marton@gmail.com</td><td>marton</td></tr>",
                            "<tr><td>Koza Máté</td><td>máté.koza@mail.hu</td><td>MATEK</td></tr>",
                            "<tr><td>Botka Mátyás</td><td>matyas2@gmail.com</td><td>matyas2</td></tr>",
                            "<tr><td>Szilágyi Mátyás</td><td>mátyás.szilágyi@mail.hu</td><td>MATYASS</td></tr>",
                            "<tr><td>Juhász Mihály</td><td>mihály.juhász@mail.hu</td><td>MIHALYJ</td></tr>",
                            "<tr><td>Gondos Miklós</td><td>miklos2@gmail.com</td><td>miklos2</td></tr>",
                            "<tr><td>Balla Miklós</td><td>miklós.balla@mail.hu</td><td>MIKLOSB</td></tr>",
                            "<tr><td>Mohos Mónika</td><td>mónika.mohos@mail.hu</td><td>MONIKAM</td></tr>",
                            "<tr><td>Fő Nándor</td><td>nándor.fő@mail.hu</td><td>NANDORF</td></tr>",
                            "<tr><td>Horváth Nikolett</td><td>nikolett3@gmail.com</td><td>nikolett3</td></tr>",
                            "<tr><td>Kő Nikoletta</td><td>nikoletta4@gmail.com</td><td>nikoletta4</td></tr>",
                            "<tr><td>Tatár Nikoletta</td><td>nikoletta.tatár@mail.hu</td><td>NIKOLETTAT</td></tr>",
                            "<tr><td>Szűcs Norbert</td><td>norbert@gmail.com</td><td>norbert</td></tr>",
                            "<tr><td>Hegedűs Norbert</td><td>norbert.hegedűs@mail.hu</td><td>norbert2</td></tr>",
                            "<tr><td>Mile Norbert</td><td>norbert4@gmail.com</td><td>norbert4</td></tr>",
                            "<tr><td>Béres Norbert</td><td>norbert5@gmail.com</td><td>norbert5</td></tr>",
                            "<tr><td>Barabás Pál</td><td>pál.barabás@mail.hu</td><td>pal</td></tr>",
                            "<tr><td>Kozma Péter</td><td>peter1@gmail.com</td><td>peter1</td></tr>",
                            "<tr><td>Bozsó Péter</td><td>peter2@gmail.com</td><td>peter2</td></tr>",
                            "<tr><td>Szalai Péter</td><td>peter3@gmail.com</td><td>peter3</td></tr>",
                            "<tr><td>Bíró Péter</td><td>péter.bíró@mail.hu</td><td>peter4</td></tr>",
                            "<tr><td>Berendi Péter</td><td>péter.berendi@mail.hu</td><td>PETERB</td></tr>",
                            "<tr><td>Palágyi Polla</td><td>polla@gmail.com</td><td>polla</td></tr>",
                            "<tr><td>Rácz Rajmond</td><td>rajmond.rácz@mail.hu</td><td>rajmond4</td></tr>",
                            "<tr><td>Szikszai Réka</td><td>réka.szikszai@mail.hu</td><td>reka4</td></tr>",
                            "<tr><td>Szirmai Renáta</td><td>RENATAS@gmail.com</td><td>RENATAS</td></tr>",
                            "<tr><td>Patay Róbert</td><td>robert2@gmail.com</td><td>robert2</td></tr>",
                            "<tr><td>Iván Róbert</td><td>róbert.iván@mail.hu</td><td>ROBERTI</td></tr>",
                            "<tr><td>Tóth Roland</td><td>roland@gmail.com</td><td>roland</td></tr>",
                            "<tr><td>Ferencz Roland</td><td>roland.ferencz@mail.hu</td><td>roland1</td></tr>",
                            "<tr><td>Bucskó Róza</td><td>roza2@gmail.com</td><td>roza2</td></tr>",
                            "<tr><td>Karasz Sándor</td><td>sandor@gmail.com</td><td>sandor</td></tr>",
                            "<tr><td>Farkas Sándor</td><td>sándor.farkas@mail.hu</td><td>sandor3</td></tr>",
                            "<tr><td>Nagy Sándor</td><td>sandor4@gmail.com</td><td>sandor4</td></tr>",
                            "<tr><td>Farkas Sára</td><td>sára.farkas@mail.hu</td><td>sara</td></tr>",
                            "<tr><td>Foltényi Sebastián</td><td>SEBASTIANF@gmail.com</td><td>SEBASTIANF</td></tr>",
                            "<tr><td>Rab Sebestyén</td><td>sebestyen@gmail.com</td><td>sebestyen</td></tr>",
                            "<tr><td>Miklós Szabolcs</td><td>szabolcs.miklós@mail.hu</td><td>SZABOLCSM</td></tr>",
                            "<tr><td>Szalai Szilárd</td><td>szilárd.szalai@mail.hu</td><td>SZILARDS</td></tr>",
                            "<tr><td>Tari Szilvia</td><td>szilvia.tari@mail.hu</td><td>szilvia1</td></tr>",
                            "<tr><td>Miklós Tamara</td><td>tamara.miklós@mail.hu</td><td>tamara2</td></tr>",
                            "<tr><td>Antal Tamás</td><td>tamás.antal@mail.hu</td><td>tamas</td></tr>",
                            "<tr><td>Fényes Tamás</td><td>TAMASF@gmail.com</td><td>TAMASF</td></tr>",
                            "<tr><td>Gombos Tibor</td><td>tibor.gombos@mail.hu</td><td>tibor</td></tr>",
                            "<tr><td>Kazy Tihamér</td><td>tihamér.kazy@mail.hu</td><td>tihamer</td></tr>",
                            "<tr><td>Dusha Tímea</td><td>tímea.dusha@mail.hu</td><td>timea2</td></tr>",
                            "<tr><td>Turcsik Tünde</td><td>tunde@gmail.com</td><td>tunde</td></tr>",
                            "<tr><td>Feró Valentin</td><td>valentin.feró@mail.hu</td><td>valentin</td></tr>",
                            "<tr><td>Tankó Veronika</td><td>veronika4@gmail.com</td><td>veronika4</td></tr>",
                            "<tr><td>Boros Vivien</td><td>vivien3@gmail.com</td><td>vivien3</td></tr>",
                            "<tr><td>Fodor Zoltán</td><td>zoltán.fodor@mail.hu</td><td>zoltan</td></tr>",
                            "<tr><td>Pintér Zoltán</td><td>zoltán.pintér@mail.hu</td><td>ZOLTANP</td></tr>",
                            "<tr><td>Tóth Zoltán</td><td>zoltán.tóth@mail.hu</td><td>ZOLTANT</td></tr>",
                            "<tr><td>Molnár Zsófi</td><td>zsofi1@gmail.com</td><td>zsofi1</td></tr>",
                            "<tr><td>Józsa Zsolt</td><td>ZSOLTJ@gmail.com</td><td>ZSOLTJ</td></tr>",
                            "<tr><td>Pusztai Zsuzsanna</td><td>zsuzsanna@gmail.com</td><td>zsuzsa</td></tr>",
                            "<tr><td>Varsányi Zsuzsa</td><td>zsuzsa.varsányi@mail.hu</td><td>zsuzsa3</td></tr>",
                            "<tr><td>Barta Zsuzsanna</td><td>zsuzsanna.barta@mail.hu</td><td>zsuzsanna</td></tr>",
                            "<tr><td>Vajda Zsuzsa</td><td>zsuzsa.vajda@mail.hu</td><td>ZSUZSAV</td></tr>",
                            "</table>"
                        ]
                    }
                }
            ],
            "execution_count": 10
        },
        {
            "cell_type": "markdown",
            "source": [
                "2.feladat"
            ],
            "metadata": {
                "azdata_cell_guid": "31fac1a2-69cf-4da5-90e8-07d0c9f72857"
            },
            "attachments": {}
        },
        {
            "cell_type": "code",
            "source": [
                "SELECT SZALLAS_ID,\r\n",
                "       SZALLAS_NEV,\r\n",
                "       CSILLAGOK_SZAMA\r\n",
                "FROM szallashely SZ\r\n",
                "WHERE CSILLAGOK_SZAMA = (SELECT MAX(CSILLAGOK_SZAMA) FROM Szallashely SZH WHERE SZ.HELY=SZH.HELY)"
            ],
            "metadata": {
                "azdata_cell_guid": "867a70cb-8d23-4b9b-af8d-1033e2cc1fd9",
                "language": "sql"
            },
            "outputs": [
                {
                    "output_type": "display_data",
                    "data": {
                        "text/html": "(11 rows affected)"
                    },
                    "metadata": {}
                },
                {
                    "output_type": "display_data",
                    "data": {
                        "text/html": "Total execution time: 00:00:00.027"
                    },
                    "metadata": {}
                },
                {
                    "output_type": "execute_result",
                    "metadata": {},
                    "execution_count": 17,
                    "data": {
                        "application/vnd.dataresource+json": {
                            "schema": {
                                "fields": [
                                    {
                                        "name": "SZALLAS_ID"
                                    },
                                    {
                                        "name": "SZALLAS_NEV"
                                    },
                                    {
                                        "name": "CSILLAGOK_SZAMA"
                                    }
                                ]
                            },
                            "data": [
                                {
                                    "SZALLAS_ID": "17",
                                    "SZALLAS_NEV": "Szarvas Hotel",
                                    "CSILLAGOK_SZAMA": "4"
                                },
                                {
                                    "SZALLAS_ID": "16",
                                    "SZALLAS_NEV": "Bagoly Hotel",
                                    "CSILLAGOK_SZAMA": "3"
                                },
                                {
                                    "SZALLAS_ID": "3",
                                    "SZALLAS_NEV": "Fortuna Apartman",
                                    "CSILLAGOK_SZAMA": "0"
                                },
                                {
                                    "SZALLAS_ID": "18",
                                    "SZALLAS_NEV": "Fortuna Apartman",
                                    "CSILLAGOK_SZAMA": "0"
                                },
                                {
                                    "SZALLAS_ID": "19",
                                    "SZALLAS_NEV": "Nyárfás Vendégház",
                                    "CSILLAGOK_SZAMA": "0"
                                },
                                {
                                    "SZALLAS_ID": "21",
                                    "SZALLAS_NEV": "Müller Vendégház",
                                    "CSILLAGOK_SZAMA": "0"
                                },
                                {
                                    "SZALLAS_ID": "13",
                                    "SZALLAS_NEV": "Riviéra Panzió",
                                    "CSILLAGOK_SZAMA": "3"
                                },
                                {
                                    "SZALLAS_ID": "10",
                                    "SZALLAS_NEV": "Lagúna Hotel",
                                    "CSILLAGOK_SZAMA": "4"
                                },
                                {
                                    "SZALLAS_ID": "5",
                                    "SZALLAS_NEV": "Fortuna Panzió",
                                    "CSILLAGOK_SZAMA": "3"
                                },
                                {
                                    "SZALLAS_ID": "11",
                                    "SZALLAS_NEV": "Partiszél Vendégház",
                                    "CSILLAGOK_SZAMA": "0"
                                },
                                {
                                    "SZALLAS_ID": "8",
                                    "SZALLAS_NEV": "Hotel Három Hattyú",
                                    "CSILLAGOK_SZAMA": "4"
                                }
                            ]
                        },
                        "text/html": [
                            "<table>",
                            "<tr><th>SZALLAS_ID</th><th>SZALLAS_NEV</th><th>CSILLAGOK_SZAMA</th></tr>",
                            "<tr><td>17</td><td>Szarvas Hotel</td><td>4</td></tr>",
                            "<tr><td>16</td><td>Bagoly Hotel</td><td>3</td></tr>",
                            "<tr><td>3</td><td>Fortuna Apartman</td><td>0</td></tr>",
                            "<tr><td>18</td><td>Fortuna Apartman</td><td>0</td></tr>",
                            "<tr><td>19</td><td>Nyárfás Vendégház</td><td>0</td></tr>",
                            "<tr><td>21</td><td>Müller Vendégház</td><td>0</td></tr>",
                            "<tr><td>13</td><td>Riviéra Panzió</td><td>3</td></tr>",
                            "<tr><td>10</td><td>Lagúna Hotel</td><td>4</td></tr>",
                            "<tr><td>5</td><td>Fortuna Panzió</td><td>3</td></tr>",
                            "<tr><td>11</td><td>Partiszél Vendégház</td><td>0</td></tr>",
                            "<tr><td>8</td><td>Hotel Három Hattyú</td><td>4</td></tr>",
                            "</table>"
                        ]
                    }
                }
            ],
            "execution_count": 17
        },
        {
            "cell_type": "markdown",
            "source": [
                "3\\. feladat"
            ],
            "metadata": {
                "language": "sql",
                "azdata_cell_guid": "4998b381-5a76-4742-9c19-9bda64e16f2c"
            },
            "attachments": {}
        },
        {
            "cell_type": "code",
            "source": [
                "SELECT F.UGYFEL_FK,\r\n",
                "       V.NEV,\r\n",
                "       F.FOGLALAS_PK,\r\n",
                "       DENSE_RANK() OVER (PARTITION BY F.UGYFEL_FK ORDER BY COUNT(F.foglalas_pk)DESC GROUPI)\r\n",
                "FROM Foglalas F JOIN Vendeg V ON F.UGYFEL_FK=V.USERNEV"
            ],
            "metadata": {
                "language": "sql",
                "azdata_cell_guid": "dcba78f2-fbad-4a7c-9b6e-2051829c6a7d"
            },
            "outputs": [
                {
                    "output_type": "error",
                    "evalue": "Msg 8120, Level 16, State 1, Line 1\r\nColumn 'Foglalas.UGYFEL_FK' is invalid in the select list because it is not contained in either an aggregate function or the GROUP BY clause.",
                    "ename": "",
                    "traceback": []
                },
                {
                    "output_type": "display_data",
                    "data": {
                        "text/html": "Total execution time: 00:00:00.004"
                    },
                    "metadata": {}
                }
            ],
            "execution_count": 25
        },
        {
            "cell_type": "markdown",
            "source": [
                "4.feladat"
            ],
            "metadata": {
                "language": "sql",
                "azdata_cell_guid": "0b52f8bb-3981-4d60-bb2d-758ddd9629c2"
            },
            "attachments": {}
        },
        {
            "cell_type": "code",
            "source": [
                "SELECT () \r\n",
                "FROM Foglalas F JOIN Szoba SZ ON F.SZOBA_FK=SZ.SZOBA_ID\r\n",
                "HAVING COUNT(*) >= 2"
            ],
            "metadata": {
                "language": "sql",
                "azdata_cell_guid": "307bb41a-f98a-4d66-ab87-46ecbe0ecf66"
            },
            "outputs": [
                {
                    "output_type": "error",
                    "evalue": "Msg 8120, Level 16, State 1, Line 1\r\nColumn 'Foglalas.FOGLALAS_PK' is invalid in the select list because it is not contained in either an aggregate function or the GROUP BY clause.",
                    "ename": "",
                    "traceback": []
                },
                {
                    "output_type": "display_data",
                    "data": {
                        "text/html": "Total execution time: 00:00:00.005"
                    },
                    "metadata": {}
                }
            ],
            "execution_count": 32
        },
        {
            "cell_type": "markdown",
            "source": [
                "5.feladat"
            ],
            "metadata": {
                "language": "sql",
                "azdata_cell_guid": "6daa147e-5b1b-4193-97e9-4b7e8cf03f67"
            },
            "attachments": {}
        },
        {
            "cell_type": "code",
            "source": [
                "SELECT COUNT(DISTINCT FEROHELY),\r\n",
                "       MIN(FEROHELY),\r\n",
                "       MAX(FEROHELY),\r\n",
                "       AVG(FEROHELY),\r\n",
                "       COUNT(CASE WHEN FEROHELY IS NULL THEN 1 ELSE 0 END) / COUNT(*),\r\n",
                "       COUNT(CASE WHEN FEROHELY IS NOT NULL THEN 1 ELSE 0 END)/ COUNT(*)\r\n",
                "FROM Szoba"
            ],
            "metadata": {
                "language": "sql",
                "azdata_cell_guid": "868e4c1b-c38f-43df-83d8-3379ca47ce29"
            },
            "outputs": [
                {
                    "output_type": "display_data",
                    "data": {
                        "text/html": "(1 row affected)"
                    },
                    "metadata": {}
                },
                {
                    "output_type": "display_data",
                    "data": {
                        "text/html": "Total execution time: 00:00:00.010"
                    },
                    "metadata": {}
                },
                {
                    "output_type": "execute_result",
                    "metadata": {},
                    "execution_count": 39,
                    "data": {
                        "application/vnd.dataresource+json": {
                            "schema": {
                                "fields": [
                                    {
                                        "name": "(No column name)"
                                    },
                                    {
                                        "name": "(No column name)"
                                    },
                                    {
                                        "name": "(No column name)"
                                    },
                                    {
                                        "name": "(No column name)"
                                    },
                                    {
                                        "name": "(No column name)"
                                    },
                                    {
                                        "name": "(No column name)"
                                    }
                                ]
                            },
                            "data": [
                                {
                                    "(No column name)": "1"
                                }
                            ]
                        },
                        "text/html": [
                            "<table>",
                            "<tr><th>(No column name)</th><th>(No column name)</th><th>(No column name)</th><th>(No column name)</th><th>(No column name)</th><th>(No column name)</th></tr>",
                            "<tr><td>4</td><td>1</td><td>4</td><td>2</td><td>1</td><td>1</td></tr>",
                            "</table>"
                        ]
                    }
                }
            ],
            "execution_count": 39
        },
        {
            "cell_type": "markdown",
            "source": [
                "7.feladat"
            ],
            "metadata": {
                "language": "sql",
                "azdata_cell_guid": "39f0b621-bf68-4072-baca-5085485542bb"
            },
            "attachments": {}
        },
        {
            "cell_type": "code",
            "source": [
                "CREATE TABLE STUDENT (\r\n",
                "    ID int PRIMARY KEY,\r\n",
                "    Nev TEXT,\r\n",
                "    Teljesitett_felevek list<int>,\r\n",
                "    Eredmenyek map<int, float>,\r\n",
                "    Nyelvtudas set<text>\r\n",
                ");\r\n",
                "\r\n",
                "INSERT INTO STUDENT (ID, Nev, Teljesitett_felevek, Eredmenyek, Nyelvtudas) \r\n",
                "VALUES (1, 'Medgyesi Szabi', [1, 2], {1: 2.00, 2: 3.55}, {'angol', 'magyar'})\r\n",
                "\r\n",
                "INSERT INTO STUDENT (ID, Nev, Teljesitett_felevek, Eredmenyek, Nyelvtudas) \r\n",
                "VALUES (2, 'Medgyesi Milán', [1, 2, 3, 4], {1: 1.00, 2: 1.55, 3: 3.10, 4: 2.5 }, {'német', 'magyar'})"
            ],
            "metadata": {
                "language": "sql",
                "azdata_cell_guid": "6ccd45be-691b-4d80-baff-e9f67f90f784"
            },
            "outputs": [],
            "execution_count": null
        },
        {
            "cell_type": "markdown",
            "source": [
                "8.feladat"
            ],
            "metadata": {
                "language": "sql",
                "azdata_cell_guid": "ddae7300-a415-4e5e-8845-ac5e659412ee"
            },
            "attachments": {}
        },
        {
            "cell_type": "code",
            "source": [
                "MATCH (P:Person {name: \"Tom Hanks\"})-[:ACTED_IN]->(M:Movie)<-[:ACTED_IN]-(szinesz:Person)\r\n",
                "WHERE szinesz.name <> \"Tom Hanks\"\r\n",
                "RETURN DISTINCT szinesz.name;"
            ],
            "metadata": {
                "language": "sql",
                "azdata_cell_guid": "2ad56c0b-3881-4fe4-9ce3-3eafbfb7f00b"
            },
            "outputs": [],
            "execution_count": null
        }
    ]
}