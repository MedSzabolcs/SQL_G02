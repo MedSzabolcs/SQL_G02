{
    "metadata": {
        "kernelspec": {
            "name": "SQL",
            "display_name": "SQL",
            "language": "sql"
        },
        "language_info": {
            "name": "sql",
            "version": ""
        }
    },
    "nbformat_minor": 2,
    "nbformat": 4,
    "cells": [
        {
            "cell_type": "markdown",
            "source": [
                "1 feladat"
            ],
            "metadata": {
                "azdata_cell_guid": "0d4cecdb-1fee-4cdf-b584-a607c5be43e6"
            },
            "attachments": {}
        },
        {
            "cell_type": "code",
            "source": [
                ""
            ],
            "metadata": {
                "azdata_cell_guid": "095a6e1c-ebf1-4ee6-95c9-53bd0867368e",
                "language": "sql"
            },
            "outputs": [],
            "execution_count": null
        }
    ]
}