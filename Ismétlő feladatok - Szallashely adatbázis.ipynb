{
    "metadata": {
        "kernelspec": {
            "name": "SQL",
            "display_name": "SQL",
            "language": "sql"
        },
        "language_info": {
            "name": "sql",
            "version": ""
        }
    },
    "nbformat_minor": 2,
    "nbformat": 4,
    "cells": [
        {
            "cell_type": "code",
            "source": [
                "SELECT *,\r\n",
                "       IIF (MONTH(METTOL) IN (6, 7, 8), 'Igen', 'Nem') AS 'Nyári-e'\r\n",
                "\r\n",
                "FROM Foglalas\r\n",
                "WHERE UGYFEL_FK = 'laszlo2' AND GYERMEK_SZAM = 0\r\n",
                ""
            ],
            "metadata": {
                "azdata_cell_guid": "b4eca10e-dd21-4bc2-aaa8-82eb740c3860",
                "language": "sql"
            },
            "outputs": [
                {
                    "output_type": "display_data",
                    "data": {
                        "text/html": "(1 row affected)"
                    },
                    "metadata": {}
                },
                {
                    "output_type": "display_data",
                    "data": {
                        "text/html": "Total execution time: 00:00:00.019"
                    },
                    "metadata": {}
                },
                {
                    "output_type": "execute_result",
                    "metadata": {},
                    "execution_count": 5,
                    "data": {
                        "application/vnd.dataresource+json": {
                            "schema": {
                                "fields": [
                                    {
                                        "name": "FOGLALAS_PK"
                                    },
                                    {
                                        "name": "UGYFEL_FK"
                                    },
                                    {
                                        "name": "SZOBA_FK"
                                    },
                                    {
                                        "name": "METTOL"
                                    },
                                    {
                                        "name": "MEDDIG"
                                    },
                                    {
                                        "name": "FELNOTT_SZAM"
                                    },
                                    {
                                        "name": "GYERMEK_SZAM"
                                    },
                                    {
                                        "name": "Nyári-e"
                                    }
                                ]
                            },
                            "data": [
                                {
                                    "FOGLALAS_PK": "561",
                                    "UGYFEL_FK": "laszlo2",
                                    "SZOBA_FK": "42",
                                    "METTOL": "2016-04-06",
                                    "MEDDIG": "2016-04-10",
                                    "FELNOTT_SZAM": "2",
                                    "GYERMEK_SZAM": "0",
                                    "Nyári-e": "Nem"
                                }
                            ]
                        },
                        "text/html": [
                            "<table>",
                            "<tr><th>FOGLALAS_PK</th><th>UGYFEL_FK</th><th>SZOBA_FK</th><th>METTOL</th><th>MEDDIG</th><th>FELNOTT_SZAM</th><th>GYERMEK_SZAM</th><th>Nyári-e</th></tr>",
                            "<tr><td>561</td><td>laszlo2</td><td>42</td><td>2016-04-06</td><td>2016-04-10</td><td>2</td><td>0</td><td>Nem</td></tr>",
                            "</table>"
                        ]
                    }
                }
            ],
            "execution_count": 5
        },
        {
            "cell_type": "code",
            "source": [
                "SELECT szh.TIPUS, \r\n",
                "       YEAR(f.METTOL) AS 'Év', \r\n",
                "       MONTH(f.METTOL) AS 'Hónap',\r\n",
                "       Count(*)\r\n",
                "FROM Foglalas f JOIN Szoba sz ON f.SZOBA_FK = sz.SZOBA_ID\r\n",
                "                JOIN szallashely szh ON sz.SZALLAS_FK = szh.SZALLAS_ID\r\n",
                "WHERE DAY(f.MEDDIG)-DAY(f.METTOL) >=5\r\n",
                "GROUP BY szh.TIPUS, YEAR(f.METTOL), MONTH(f.METTOL)"
            ],
            "metadata": {
                "azdata_cell_guid": "47c17fee-1c76-422e-92de-00f2296da997",
                "language": "sql"
            },
            "outputs": [
                {
                    "output_type": "display_data",
                    "data": {
                        "text/html": "(46 rows affected)"
                    },
                    "metadata": {}
                },
                {
                    "output_type": "display_data",
                    "data": {
                        "text/html": "Total execution time: 00:00:00.042"
                    },
                    "metadata": {}
                },
                {
                    "output_type": "execute_result",
                    "metadata": {},
                    "execution_count": 9,
                    "data": {
                        "application/vnd.dataresource+json": {
                            "schema": {
                                "fields": [
                                    {
                                        "name": "TIPUS"
                                    },
                                    {
                                        "name": "Év"
                                    },
                                    {
                                        "name": "Hónap"
                                    },
                                    {
                                        "name": "(No column name)"
                                    }
                                ]
                            },
                            "data": [
                                {
                                    "TIPUS": "Apartman",
                                    "Év": "2016",
                                    "Hónap": "4",
                                    "(No column name)": "1"
                                },
                                {
                                    "TIPUS": "Apartman",
                                    "Év": "2016",
                                    "Hónap": "5",
                                    "(No column name)": "1"
                                },
                                {
                                    "TIPUS": "Apartman",
                                    "Év": "2016",
                                    "Hónap": "6",
                                    "(No column name)": "1"
                                },
                                {
                                    "TIPUS": "Apartman",
                                    "Év": "2016",
                                    "Hónap": "7",
                                    "(No column name)": "1"
                                },
                                {
                                    "TIPUS": "Apartman",
                                    "Év": "2016",
                                    "Hónap": "8",
                                    "(No column name)": "2"
                                },
                                {
                                    "TIPUS": "Apartman",
                                    "Év": "2016",
                                    "Hónap": "9",
                                    "(No column name)": "3"
                                },
                                {
                                    "TIPUS": "Apartman",
                                    "Év": "2016",
                                    "Hónap": "10",
                                    "(No column name)": "6"
                                },
                                {
                                    "TIPUS": "Apartman",
                                    "Év": "2016",
                                    "Hónap": "11",
                                    "(No column name)": "3"
                                },
                                {
                                    "TIPUS": "Apartman",
                                    "Év": "2016",
                                    "Hónap": "12",
                                    "(No column name)": "1"
                                },
                                {
                                    "TIPUS": "Apartman",
                                    "Év": "2017",
                                    "Hónap": "1",
                                    "(No column name)": "1"
                                },
                                {
                                    "TIPUS": "Apartman",
                                    "Év": "2017",
                                    "Hónap": "2",
                                    "(No column name)": "4"
                                },
                                {
                                    "TIPUS": "Hotel",
                                    "Év": "2016",
                                    "Hónap": "4",
                                    "(No column name)": "14"
                                },
                                {
                                    "TIPUS": "Hotel",
                                    "Év": "2016",
                                    "Hónap": "5",
                                    "(No column name)": "23"
                                },
                                {
                                    "TIPUS": "Hotel",
                                    "Év": "2016",
                                    "Hónap": "6",
                                    "(No column name)": "24"
                                },
                                {
                                    "TIPUS": "Hotel",
                                    "Év": "2016",
                                    "Hónap": "7",
                                    "(No column name)": "21"
                                },
                                {
                                    "TIPUS": "Hotel",
                                    "Év": "2016",
                                    "Hónap": "8",
                                    "(No column name)": "17"
                                },
                                {
                                    "TIPUS": "Hotel",
                                    "Év": "2016",
                                    "Hónap": "9",
                                    "(No column name)": "12"
                                },
                                {
                                    "TIPUS": "Hotel",
                                    "Év": "2016",
                                    "Hónap": "10",
                                    "(No column name)": "23"
                                },
                                {
                                    "TIPUS": "Hotel",
                                    "Év": "2016",
                                    "Hónap": "11",
                                    "(No column name)": "20"
                                },
                                {
                                    "TIPUS": "Hotel",
                                    "Év": "2016",
                                    "Hónap": "12",
                                    "(No column name)": "22"
                                },
                                {
                                    "TIPUS": "Hotel",
                                    "Év": "2017",
                                    "Hónap": "1",
                                    "(No column name)": "24"
                                },
                                {
                                    "TIPUS": "Hotel",
                                    "Év": "2017",
                                    "Hónap": "2",
                                    "(No column name)": "14"
                                },
                                {
                                    "TIPUS": "Hotel",
                                    "Év": "2017",
                                    "Hónap": "3",
                                    "(No column name)": "1"
                                },
                                {
                                    "TIPUS": "panzió",
                                    "Év": "2016",
                                    "Hónap": "4",
                                    "(No column name)": "1"
                                },
                                {
                                    "TIPUS": "panzió",
                                    "Év": "2016",
                                    "Hónap": "5",
                                    "(No column name)": "6"
                                },
                                {
                                    "TIPUS": "panzió",
                                    "Év": "2016",
                                    "Hónap": "6",
                                    "(No column name)": "10"
                                },
                                {
                                    "TIPUS": "panzió",
                                    "Év": "2016",
                                    "Hónap": "7",
                                    "(No column name)": "6"
                                },
                                {
                                    "TIPUS": "panzió",
                                    "Év": "2016",
                                    "Hónap": "8",
                                    "(No column name)": "6"
                                },
                                {
                                    "TIPUS": "panzió",
                                    "Év": "2016",
                                    "Hónap": "9",
                                    "(No column name)": "4"
                                },
                                {
                                    "TIPUS": "panzió",
                                    "Év": "2016",
                                    "Hónap": "10",
                                    "(No column name)": "7"
                                },
                                {
                                    "TIPUS": "panzió",
                                    "Év": "2016",
                                    "Hónap": "11",
                                    "(No column name)": "3"
                                },
                                {
                                    "TIPUS": "panzió",
                                    "Év": "2016",
                                    "Hónap": "12",
                                    "(No column name)": "5"
                                },
                                {
                                    "TIPUS": "panzió",
                                    "Év": "2017",
                                    "Hónap": "1",
                                    "(No column name)": "4"
                                },
                                {
                                    "TIPUS": "panzió",
                                    "Év": "2017",
                                    "Hónap": "2",
                                    "(No column name)": "4"
                                },
                                {
                                    "TIPUS": "panzió",
                                    "Év": "2017",
                                    "Hónap": "3",
                                    "(No column name)": "1"
                                },
                                {
                                    "TIPUS": "vendégház",
                                    "Év": "2016",
                                    "Hónap": "4",
                                    "(No column name)": "2"
                                },
                                {
                                    "TIPUS": "vendégház",
                                    "Év": "2016",
                                    "Hónap": "5",
                                    "(No column name)": "4"
                                },
                                {
                                    "TIPUS": "vendégház",
                                    "Év": "2016",
                                    "Hónap": "6",
                                    "(No column name)": "3"
                                },
                                {
                                    "TIPUS": "vendégház",
                                    "Év": "2016",
                                    "Hónap": "7",
                                    "(No column name)": "3"
                                },
                                {
                                    "TIPUS": "vendégház",
                                    "Év": "2016",
                                    "Hónap": "8",
                                    "(No column name)": "5"
                                },
                                {
                                    "TIPUS": "vendégház",
                                    "Év": "2016",
                                    "Hónap": "9",
                                    "(No column name)": "3"
                                },
                                {
                                    "TIPUS": "vendégház",
                                    "Év": "2016",
                                    "Hónap": "10",
                                    "(No column name)": "6"
                                },
                                {
                                    "TIPUS": "vendégház",
                                    "Év": "2016",
                                    "Hónap": "11",
                                    "(No column name)": "2"
                                },
                                {
                                    "TIPUS": "vendégház",
                                    "Év": "2017",
                                    "Hónap": "1",
                                    "(No column name)": "1"
                                },
                                {
                                    "TIPUS": "vendégház",
                                    "Év": "2017",
                                    "Hónap": "2",
                                    "(No column name)": "3"
                                },
                                {
                                    "TIPUS": "vendégház",
                                    "Év": "2022",
                                    "Hónap": "11",
                                    "(No column name)": "2"
                                }
                            ]
                        },
                        "text/html": [
                            "<table>",
                            "<tr><th>TIPUS</th><th>Év</th><th>Hónap</th><th>(No column name)</th></tr>",
                            "<tr><td>Apartman</td><td>2016</td><td>4</td><td>1</td></tr>",
                            "<tr><td>Apartman</td><td>2016</td><td>5</td><td>1</td></tr>",
                            "<tr><td>Apartman</td><td>2016</td><td>6</td><td>1</td></tr>",
                            "<tr><td>Apartman</td><td>2016</td><td>7</td><td>1</td></tr>",
                            "<tr><td>Apartman</td><td>2016</td><td>8</td><td>2</td></tr>",
                            "<tr><td>Apartman</td><td>2016</td><td>9</td><td>3</td></tr>",
                            "<tr><td>Apartman</td><td>2016</td><td>10</td><td>6</td></tr>",
                            "<tr><td>Apartman</td><td>2016</td><td>11</td><td>3</td></tr>",
                            "<tr><td>Apartman</td><td>2016</td><td>12</td><td>1</td></tr>",
                            "<tr><td>Apartman</td><td>2017</td><td>1</td><td>1</td></tr>",
                            "<tr><td>Apartman</td><td>2017</td><td>2</td><td>4</td></tr>",
                            "<tr><td>Hotel</td><td>2016</td><td>4</td><td>14</td></tr>",
                            "<tr><td>Hotel</td><td>2016</td><td>5</td><td>23</td></tr>",
                            "<tr><td>Hotel</td><td>2016</td><td>6</td><td>24</td></tr>",
                            "<tr><td>Hotel</td><td>2016</td><td>7</td><td>21</td></tr>",
                            "<tr><td>Hotel</td><td>2016</td><td>8</td><td>17</td></tr>",
                            "<tr><td>Hotel</td><td>2016</td><td>9</td><td>12</td></tr>",
                            "<tr><td>Hotel</td><td>2016</td><td>10</td><td>23</td></tr>",
                            "<tr><td>Hotel</td><td>2016</td><td>11</td><td>20</td></tr>",
                            "<tr><td>Hotel</td><td>2016</td><td>12</td><td>22</td></tr>",
                            "<tr><td>Hotel</td><td>2017</td><td>1</td><td>24</td></tr>",
                            "<tr><td>Hotel</td><td>2017</td><td>2</td><td>14</td></tr>",
                            "<tr><td>Hotel</td><td>2017</td><td>3</td><td>1</td></tr>",
                            "<tr><td>panzió</td><td>2016</td><td>4</td><td>1</td></tr>",
                            "<tr><td>panzió</td><td>2016</td><td>5</td><td>6</td></tr>",
                            "<tr><td>panzió</td><td>2016</td><td>6</td><td>10</td></tr>",
                            "<tr><td>panzió</td><td>2016</td><td>7</td><td>6</td></tr>",
                            "<tr><td>panzió</td><td>2016</td><td>8</td><td>6</td></tr>",
                            "<tr><td>panzió</td><td>2016</td><td>9</td><td>4</td></tr>",
                            "<tr><td>panzió</td><td>2016</td><td>10</td><td>7</td></tr>",
                            "<tr><td>panzió</td><td>2016</td><td>11</td><td>3</td></tr>",
                            "<tr><td>panzió</td><td>2016</td><td>12</td><td>5</td></tr>",
                            "<tr><td>panzió</td><td>2017</td><td>1</td><td>4</td></tr>",
                            "<tr><td>panzió</td><td>2017</td><td>2</td><td>4</td></tr>",
                            "<tr><td>panzió</td><td>2017</td><td>3</td><td>1</td></tr>",
                            "<tr><td>vendégház</td><td>2016</td><td>4</td><td>2</td></tr>",
                            "<tr><td>vendégház</td><td>2016</td><td>5</td><td>4</td></tr>",
                            "<tr><td>vendégház</td><td>2016</td><td>6</td><td>3</td></tr>",
                            "<tr><td>vendégház</td><td>2016</td><td>7</td><td>3</td></tr>",
                            "<tr><td>vendégház</td><td>2016</td><td>8</td><td>5</td></tr>",
                            "<tr><td>vendégház</td><td>2016</td><td>9</td><td>3</td></tr>",
                            "<tr><td>vendégház</td><td>2016</td><td>10</td><td>6</td></tr>",
                            "<tr><td>vendégház</td><td>2016</td><td>11</td><td>2</td></tr>",
                            "<tr><td>vendégház</td><td>2017</td><td>1</td><td>1</td></tr>",
                            "<tr><td>vendégház</td><td>2017</td><td>2</td><td>3</td></tr>",
                            "<tr><td>vendégház</td><td>2022</td><td>11</td><td>2</td></tr>",
                            "</table>"
                        ]
                    }
                }
            ],
            "execution_count": 9
        }
    ]
}