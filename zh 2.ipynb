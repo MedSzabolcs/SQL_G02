{
    "metadata": {
        "kernelspec": {
            "name": "SQL",
            "display_name": "SQL",
            "language": "sql"
        },
        "language_info": {
            "name": "sql",
            "version": ""
        }
    },
    "nbformat_minor": 2,
    "nbformat": 4,
    "cells": [
        {
            "cell_type": "markdown",
            "source": [
                "1\\. feladat"
            ],
            "metadata": {
                "azdata_cell_guid": "771afe19-736e-492f-9799-efa33e691355"
            },
            "attachments": {}
        },
        {
            "cell_type": "code",
            "source": [
                "SELECT IIF(GROUPING_ID(SZOBA_FK) = 1,'Végösszeg',CAST(SZOBA_FK AS NVARCHAR(4))) as 'Szoba száma',\r\n",
                "       COUNT(*) AS 'Foglalások száma'\r\n",
                "FROM Foglalas\r\n",
                "WHERE FELNOTT_SZAM > GYERMEK_SZAM\r\n",
                "GROUP BY ROLLUP (SZOBA_FK)"
            ],
            "metadata": {
                "azdata_cell_guid": "8a4f36a2-db01-4644-aa44-8921b35d31f4",
                "language": "sql"
            },
            "outputs": [
                {
                    "output_type": "display_data",
                    "data": {
                        "text/html": "(190 rows affected)"
                    },
                    "metadata": {}
                },
                {
                    "output_type": "display_data",
                    "data": {
                        "text/html": "Total execution time: 00:00:00.009"
                    },
                    "metadata": {}
                },
                {
                    "output_type": "execute_result",
                    "metadata": {},
                    "execution_count": 8,
                    "data": {
                        "application/vnd.dataresource+json": {
                            "schema": {
                                "fields": [
                                    {
                                        "name": "Szoba száma"
                                    },
                                    {
                                        "name": "Foglalások száma"
                                    }
                                ]
                            },
                            "data": [
                                {
                                    "Szoba száma": "1",
                                    "Foglalások száma": "7"
                                },
                                {
                                    "Szoba száma": "2",
                                    "Foglalások száma": "2"
                                },
                                {
                                    "Szoba száma": "3",
                                    "Foglalások száma": "3"
                                },
                                {
                                    "Szoba száma": "4",
                                    "Foglalások száma": "5"
                                },
                                {
                                    "Szoba száma": "5",
                                    "Foglalások száma": "2"
                                },
                                {
                                    "Szoba száma": "6",
                                    "Foglalások száma": "5"
                                },
                                {
                                    "Szoba száma": "7",
                                    "Foglalások száma": "6"
                                },
                                {
                                    "Szoba száma": "8",
                                    "Foglalások száma": "5"
                                },
                                {
                                    "Szoba száma": "9",
                                    "Foglalások száma": "4"
                                },
                                {
                                    "Szoba száma": "10",
                                    "Foglalások száma": "4"
                                },
                                {
                                    "Szoba száma": "11",
                                    "Foglalások száma": "4"
                                },
                                {
                                    "Szoba száma": "12",
                                    "Foglalások száma": "7"
                                },
                                {
                                    "Szoba száma": "13",
                                    "Foglalások száma": "4"
                                },
                                {
                                    "Szoba száma": "14",
                                    "Foglalások száma": "3"
                                },
                                {
                                    "Szoba száma": "15",
                                    "Foglalások száma": "4"
                                },
                                {
                                    "Szoba száma": "16",
                                    "Foglalások száma": "1"
                                },
                                {
                                    "Szoba száma": "17",
                                    "Foglalások száma": "2"
                                },
                                {
                                    "Szoba száma": "18",
                                    "Foglalások száma": "3"
                                },
                                {
                                    "Szoba száma": "19",
                                    "Foglalások száma": "4"
                                },
                                {
                                    "Szoba száma": "20",
                                    "Foglalások száma": "5"
                                },
                                {
                                    "Szoba száma": "21",
                                    "Foglalások száma": "1"
                                },
                                {
                                    "Szoba száma": "22",
                                    "Foglalások száma": "2"
                                },
                                {
                                    "Szoba száma": "23",
                                    "Foglalások száma": "3"
                                },
                                {
                                    "Szoba száma": "24",
                                    "Foglalások száma": "3"
                                },
                                {
                                    "Szoba száma": "25",
                                    "Foglalások száma": "1"
                                },
                                {
                                    "Szoba száma": "27",
                                    "Foglalások száma": "5"
                                },
                                {
                                    "Szoba száma": "28",
                                    "Foglalások száma": "5"
                                },
                                {
                                    "Szoba száma": "29",
                                    "Foglalások száma": "3"
                                },
                                {
                                    "Szoba száma": "30",
                                    "Foglalások száma": "2"
                                },
                                {
                                    "Szoba száma": "31",
                                    "Foglalások száma": "1"
                                },
                                {
                                    "Szoba száma": "32",
                                    "Foglalások száma": "1"
                                },
                                {
                                    "Szoba száma": "33",
                                    "Foglalások száma": "3"
                                },
                                {
                                    "Szoba száma": "34",
                                    "Foglalások száma": "3"
                                },
                                {
                                    "Szoba száma": "35",
                                    "Foglalások száma": "6"
                                },
                                {
                                    "Szoba száma": "36",
                                    "Foglalások száma": "4"
                                },
                                {
                                    "Szoba száma": "37",
                                    "Foglalások száma": "2"
                                },
                                {
                                    "Szoba száma": "38",
                                    "Foglalások száma": "5"
                                },
                                {
                                    "Szoba száma": "39",
                                    "Foglalások száma": "4"
                                },
                                {
                                    "Szoba száma": "40",
                                    "Foglalások száma": "3"
                                },
                                {
                                    "Szoba száma": "41",
                                    "Foglalások száma": "1"
                                },
                                {
                                    "Szoba száma": "42",
                                    "Foglalások száma": "5"
                                },
                                {
                                    "Szoba száma": "43",
                                    "Foglalások száma": "4"
                                },
                                {
                                    "Szoba száma": "44",
                                    "Foglalások száma": "6"
                                },
                                {
                                    "Szoba száma": "45",
                                    "Foglalások száma": "4"
                                },
                                {
                                    "Szoba száma": "46",
                                    "Foglalások száma": "3"
                                },
                                {
                                    "Szoba száma": "47",
                                    "Foglalások száma": "2"
                                },
                                {
                                    "Szoba száma": "48",
                                    "Foglalások száma": "6"
                                },
                                {
                                    "Szoba száma": "49",
                                    "Foglalások száma": "5"
                                },
                                {
                                    "Szoba száma": "50",
                                    "Foglalások száma": "3"
                                },
                                {
                                    "Szoba száma": "51",
                                    "Foglalások száma": "3"
                                },
                                {
                                    "Szoba száma": "52",
                                    "Foglalások száma": "5"
                                },
                                {
                                    "Szoba száma": "54",
                                    "Foglalások száma": "4"
                                },
                                {
                                    "Szoba száma": "55",
                                    "Foglalások száma": "3"
                                },
                                {
                                    "Szoba száma": "56",
                                    "Foglalások száma": "1"
                                },
                                {
                                    "Szoba száma": "57",
                                    "Foglalások száma": "3"
                                },
                                {
                                    "Szoba száma": "58",
                                    "Foglalások száma": "8"
                                },
                                {
                                    "Szoba száma": "59",
                                    "Foglalások száma": "4"
                                },
                                {
                                    "Szoba száma": "60",
                                    "Foglalások száma": "1"
                                },
                                {
                                    "Szoba száma": "61",
                                    "Foglalások száma": "4"
                                },
                                {
                                    "Szoba száma": "62",
                                    "Foglalások száma": "3"
                                },
                                {
                                    "Szoba száma": "63",
                                    "Foglalások száma": "3"
                                },
                                {
                                    "Szoba száma": "64",
                                    "Foglalások száma": "5"
                                },
                                {
                                    "Szoba száma": "66",
                                    "Foglalások száma": "3"
                                },
                                {
                                    "Szoba száma": "67",
                                    "Foglalások száma": "2"
                                },
                                {
                                    "Szoba száma": "69",
                                    "Foglalások száma": "2"
                                },
                                {
                                    "Szoba száma": "70",
                                    "Foglalások száma": "8"
                                },
                                {
                                    "Szoba száma": "71",
                                    "Foglalások száma": "2"
                                },
                                {
                                    "Szoba száma": "72",
                                    "Foglalások száma": "2"
                                },
                                {
                                    "Szoba száma": "73",
                                    "Foglalások száma": "4"
                                },
                                {
                                    "Szoba száma": "74",
                                    "Foglalások száma": "8"
                                },
                                {
                                    "Szoba száma": "75",
                                    "Foglalások száma": "2"
                                },
                                {
                                    "Szoba száma": "76",
                                    "Foglalások száma": "2"
                                },
                                {
                                    "Szoba száma": "77",
                                    "Foglalások száma": "3"
                                },
                                {
                                    "Szoba száma": "78",
                                    "Foglalások száma": "3"
                                },
                                {
                                    "Szoba száma": "79",
                                    "Foglalások száma": "4"
                                },
                                {
                                    "Szoba száma": "80",
                                    "Foglalások száma": "5"
                                },
                                {
                                    "Szoba száma": "81",
                                    "Foglalások száma": "3"
                                },
                                {
                                    "Szoba száma": "82",
                                    "Foglalások száma": "5"
                                },
                                {
                                    "Szoba száma": "83",
                                    "Foglalások száma": "5"
                                },
                                {
                                    "Szoba száma": "84",
                                    "Foglalások száma": "3"
                                },
                                {
                                    "Szoba száma": "85",
                                    "Foglalások száma": "2"
                                },
                                {
                                    "Szoba száma": "86",
                                    "Foglalások száma": "4"
                                },
                                {
                                    "Szoba száma": "87",
                                    "Foglalások száma": "5"
                                },
                                {
                                    "Szoba száma": "88",
                                    "Foglalások száma": "5"
                                },
                                {
                                    "Szoba száma": "89",
                                    "Foglalások száma": "8"
                                },
                                {
                                    "Szoba száma": "90",
                                    "Foglalások száma": "3"
                                },
                                {
                                    "Szoba száma": "91",
                                    "Foglalások száma": "2"
                                },
                                {
                                    "Szoba száma": "92",
                                    "Foglalások száma": "5"
                                },
                                {
                                    "Szoba száma": "93",
                                    "Foglalások száma": "3"
                                },
                                {
                                    "Szoba száma": "94",
                                    "Foglalások száma": "6"
                                },
                                {
                                    "Szoba száma": "95",
                                    "Foglalások száma": "3"
                                },
                                {
                                    "Szoba száma": "96",
                                    "Foglalások száma": "6"
                                },
                                {
                                    "Szoba száma": "97",
                                    "Foglalások száma": "5"
                                },
                                {
                                    "Szoba száma": "98",
                                    "Foglalások száma": "4"
                                },
                                {
                                    "Szoba száma": "99",
                                    "Foglalások száma": "4"
                                },
                                {
                                    "Szoba száma": "100",
                                    "Foglalások száma": "2"
                                },
                                {
                                    "Szoba száma": "101",
                                    "Foglalások száma": "1"
                                },
                                {
                                    "Szoba száma": "102",
                                    "Foglalások száma": "1"
                                },
                                {
                                    "Szoba száma": "103",
                                    "Foglalások száma": "1"
                                },
                                {
                                    "Szoba száma": "104",
                                    "Foglalások száma": "3"
                                },
                                {
                                    "Szoba száma": "106",
                                    "Foglalások száma": "4"
                                },
                                {
                                    "Szoba száma": "107",
                                    "Foglalások száma": "4"
                                },
                                {
                                    "Szoba száma": "108",
                                    "Foglalások száma": "1"
                                },
                                {
                                    "Szoba száma": "109",
                                    "Foglalások száma": "2"
                                },
                                {
                                    "Szoba száma": "110",
                                    "Foglalások száma": "5"
                                },
                                {
                                    "Szoba száma": "111",
                                    "Foglalások száma": "1"
                                },
                                {
                                    "Szoba száma": "112",
                                    "Foglalások száma": "4"
                                },
                                {
                                    "Szoba száma": "113",
                                    "Foglalások száma": "2"
                                },
                                {
                                    "Szoba száma": "114",
                                    "Foglalások száma": "1"
                                },
                                {
                                    "Szoba száma": "115",
                                    "Foglalások száma": "5"
                                },
                                {
                                    "Szoba száma": "117",
                                    "Foglalások száma": "4"
                                },
                                {
                                    "Szoba száma": "118",
                                    "Foglalások száma": "2"
                                },
                                {
                                    "Szoba száma": "119",
                                    "Foglalások száma": "4"
                                },
                                {
                                    "Szoba száma": "120",
                                    "Foglalások száma": "2"
                                },
                                {
                                    "Szoba száma": "121",
                                    "Foglalások száma": "5"
                                },
                                {
                                    "Szoba száma": "122",
                                    "Foglalások száma": "3"
                                },
                                {
                                    "Szoba száma": "123",
                                    "Foglalások száma": "5"
                                },
                                {
                                    "Szoba száma": "124",
                                    "Foglalások száma": "4"
                                },
                                {
                                    "Szoba száma": "126",
                                    "Foglalások száma": "4"
                                },
                                {
                                    "Szoba száma": "127",
                                    "Foglalások száma": "5"
                                },
                                {
                                    "Szoba száma": "129",
                                    "Foglalások száma": "3"
                                },
                                {
                                    "Szoba száma": "130",
                                    "Foglalások száma": "5"
                                },
                                {
                                    "Szoba száma": "131",
                                    "Foglalások száma": "4"
                                },
                                {
                                    "Szoba száma": "132",
                                    "Foglalások száma": "4"
                                },
                                {
                                    "Szoba száma": "133",
                                    "Foglalások száma": "4"
                                },
                                {
                                    "Szoba száma": "134",
                                    "Foglalások száma": "4"
                                },
                                {
                                    "Szoba száma": "135",
                                    "Foglalások száma": "3"
                                },
                                {
                                    "Szoba száma": "136",
                                    "Foglalások száma": "2"
                                },
                                {
                                    "Szoba száma": "137",
                                    "Foglalások száma": "2"
                                },
                                {
                                    "Szoba száma": "138",
                                    "Foglalások száma": "5"
                                },
                                {
                                    "Szoba száma": "139",
                                    "Foglalások száma": "6"
                                },
                                {
                                    "Szoba száma": "140",
                                    "Foglalások száma": "5"
                                },
                                {
                                    "Szoba száma": "141",
                                    "Foglalások száma": "4"
                                },
                                {
                                    "Szoba száma": "142",
                                    "Foglalások száma": "1"
                                },
                                {
                                    "Szoba száma": "143",
                                    "Foglalások száma": "5"
                                },
                                {
                                    "Szoba száma": "144",
                                    "Foglalások száma": "2"
                                },
                                {
                                    "Szoba száma": "145",
                                    "Foglalások száma": "2"
                                },
                                {
                                    "Szoba száma": "146",
                                    "Foglalások száma": "3"
                                },
                                {
                                    "Szoba száma": "147",
                                    "Foglalások száma": "1"
                                },
                                {
                                    "Szoba száma": "148",
                                    "Foglalások száma": "5"
                                },
                                {
                                    "Szoba száma": "149",
                                    "Foglalások száma": "5"
                                },
                                {
                                    "Szoba száma": "150",
                                    "Foglalások száma": "6"
                                },
                                {
                                    "Szoba száma": "151",
                                    "Foglalások száma": "2"
                                },
                                {
                                    "Szoba száma": "152",
                                    "Foglalások száma": "3"
                                },
                                {
                                    "Szoba száma": "153",
                                    "Foglalások száma": "4"
                                },
                                {
                                    "Szoba száma": "154",
                                    "Foglalások száma": "3"
                                },
                                {
                                    "Szoba száma": "155",
                                    "Foglalások száma": "3"
                                },
                                {
                                    "Szoba száma": "156",
                                    "Foglalások száma": "2"
                                },
                                {
                                    "Szoba száma": "157",
                                    "Foglalások száma": "2"
                                },
                                {
                                    "Szoba száma": "158",
                                    "Foglalások száma": "3"
                                },
                                {
                                    "Szoba száma": "160",
                                    "Foglalások száma": "2"
                                },
                                {
                                    "Szoba száma": "161",
                                    "Foglalások száma": "3"
                                },
                                {
                                    "Szoba száma": "162",
                                    "Foglalások száma": "2"
                                },
                                {
                                    "Szoba száma": "163",
                                    "Foglalások száma": "5"
                                },
                                {
                                    "Szoba száma": "164",
                                    "Foglalások száma": "4"
                                },
                                {
                                    "Szoba száma": "165",
                                    "Foglalások száma": "5"
                                },
                                {
                                    "Szoba száma": "166",
                                    "Foglalások száma": "3"
                                },
                                {
                                    "Szoba száma": "167",
                                    "Foglalások száma": "2"
                                },
                                {
                                    "Szoba száma": "168",
                                    "Foglalások száma": "1"
                                },
                                {
                                    "Szoba száma": "169",
                                    "Foglalások száma": "3"
                                },
                                {
                                    "Szoba száma": "170",
                                    "Foglalások száma": "3"
                                },
                                {
                                    "Szoba száma": "171",
                                    "Foglalások száma": "5"
                                },
                                {
                                    "Szoba száma": "172",
                                    "Foglalások száma": "6"
                                },
                                {
                                    "Szoba száma": "173",
                                    "Foglalások száma": "3"
                                },
                                {
                                    "Szoba száma": "174",
                                    "Foglalások száma": "4"
                                },
                                {
                                    "Szoba száma": "175",
                                    "Foglalások száma": "3"
                                },
                                {
                                    "Szoba száma": "176",
                                    "Foglalások száma": "2"
                                },
                                {
                                    "Szoba száma": "177",
                                    "Foglalások száma": "1"
                                },
                                {
                                    "Szoba száma": "178",
                                    "Foglalások száma": "1"
                                },
                                {
                                    "Szoba száma": "179",
                                    "Foglalások száma": "2"
                                },
                                {
                                    "Szoba száma": "180",
                                    "Foglalások száma": "1"
                                },
                                {
                                    "Szoba száma": "181",
                                    "Foglalások száma": "5"
                                },
                                {
                                    "Szoba száma": "182",
                                    "Foglalások száma": "11"
                                },
                                {
                                    "Szoba száma": "183",
                                    "Foglalások száma": "3"
                                },
                                {
                                    "Szoba száma": "184",
                                    "Foglalások száma": "4"
                                },
                                {
                                    "Szoba száma": "185",
                                    "Foglalások száma": "10"
                                },
                                {
                                    "Szoba száma": "186",
                                    "Foglalások száma": "1"
                                },
                                {
                                    "Szoba száma": "187",
                                    "Foglalások száma": "6"
                                },
                                {
                                    "Szoba száma": "188",
                                    "Foglalások száma": "2"
                                },
                                {
                                    "Szoba száma": "189",
                                    "Foglalások száma": "1"
                                },
                                {
                                    "Szoba száma": "190",
                                    "Foglalások száma": "5"
                                },
                                {
                                    "Szoba száma": "191",
                                    "Foglalások száma": "3"
                                },
                                {
                                    "Szoba száma": "192",
                                    "Foglalások száma": "1"
                                },
                                {
                                    "Szoba száma": "193",
                                    "Foglalások száma": "2"
                                },
                                {
                                    "Szoba száma": "194",
                                    "Foglalások száma": "1"
                                },
                                {
                                    "Szoba száma": "195",
                                    "Foglalások száma": "5"
                                },
                                {
                                    "Szoba száma": "196",
                                    "Foglalások száma": "2"
                                },
                                {
                                    "Szoba száma": "197",
                                    "Foglalások száma": "6"
                                },
                                {
                                    "Szoba száma": "198",
                                    "Foglalások száma": "7"
                                },
                                {
                                    "Szoba száma": "Végösszeg",
                                    "Foglalások száma": "668"
                                }
                            ]
                        },
                        "text/html": [
                            "<table>",
                            "<tr><th>Szoba száma</th><th>Foglalások száma</th></tr>",
                            "<tr><td>1</td><td>7</td></tr>",
                            "<tr><td>2</td><td>2</td></tr>",
                            "<tr><td>3</td><td>3</td></tr>",
                            "<tr><td>4</td><td>5</td></tr>",
                            "<tr><td>5</td><td>2</td></tr>",
                            "<tr><td>6</td><td>5</td></tr>",
                            "<tr><td>7</td><td>6</td></tr>",
                            "<tr><td>8</td><td>5</td></tr>",
                            "<tr><td>9</td><td>4</td></tr>",
                            "<tr><td>10</td><td>4</td></tr>",
                            "<tr><td>11</td><td>4</td></tr>",
                            "<tr><td>12</td><td>7</td></tr>",
                            "<tr><td>13</td><td>4</td></tr>",
                            "<tr><td>14</td><td>3</td></tr>",
                            "<tr><td>15</td><td>4</td></tr>",
                            "<tr><td>16</td><td>1</td></tr>",
                            "<tr><td>17</td><td>2</td></tr>",
                            "<tr><td>18</td><td>3</td></tr>",
                            "<tr><td>19</td><td>4</td></tr>",
                            "<tr><td>20</td><td>5</td></tr>",
                            "<tr><td>21</td><td>1</td></tr>",
                            "<tr><td>22</td><td>2</td></tr>",
                            "<tr><td>23</td><td>3</td></tr>",
                            "<tr><td>24</td><td>3</td></tr>",
                            "<tr><td>25</td><td>1</td></tr>",
                            "<tr><td>27</td><td>5</td></tr>",
                            "<tr><td>28</td><td>5</td></tr>",
                            "<tr><td>29</td><td>3</td></tr>",
                            "<tr><td>30</td><td>2</td></tr>",
                            "<tr><td>31</td><td>1</td></tr>",
                            "<tr><td>32</td><td>1</td></tr>",
                            "<tr><td>33</td><td>3</td></tr>",
                            "<tr><td>34</td><td>3</td></tr>",
                            "<tr><td>35</td><td>6</td></tr>",
                            "<tr><td>36</td><td>4</td></tr>",
                            "<tr><td>37</td><td>2</td></tr>",
                            "<tr><td>38</td><td>5</td></tr>",
                            "<tr><td>39</td><td>4</td></tr>",
                            "<tr><td>40</td><td>3</td></tr>",
                            "<tr><td>41</td><td>1</td></tr>",
                            "<tr><td>42</td><td>5</td></tr>",
                            "<tr><td>43</td><td>4</td></tr>",
                            "<tr><td>44</td><td>6</td></tr>",
                            "<tr><td>45</td><td>4</td></tr>",
                            "<tr><td>46</td><td>3</td></tr>",
                            "<tr><td>47</td><td>2</td></tr>",
                            "<tr><td>48</td><td>6</td></tr>",
                            "<tr><td>49</td><td>5</td></tr>",
                            "<tr><td>50</td><td>3</td></tr>",
                            "<tr><td>51</td><td>3</td></tr>",
                            "<tr><td>52</td><td>5</td></tr>",
                            "<tr><td>54</td><td>4</td></tr>",
                            "<tr><td>55</td><td>3</td></tr>",
                            "<tr><td>56</td><td>1</td></tr>",
                            "<tr><td>57</td><td>3</td></tr>",
                            "<tr><td>58</td><td>8</td></tr>",
                            "<tr><td>59</td><td>4</td></tr>",
                            "<tr><td>60</td><td>1</td></tr>",
                            "<tr><td>61</td><td>4</td></tr>",
                            "<tr><td>62</td><td>3</td></tr>",
                            "<tr><td>63</td><td>3</td></tr>",
                            "<tr><td>64</td><td>5</td></tr>",
                            "<tr><td>66</td><td>3</td></tr>",
                            "<tr><td>67</td><td>2</td></tr>",
                            "<tr><td>69</td><td>2</td></tr>",
                            "<tr><td>70</td><td>8</td></tr>",
                            "<tr><td>71</td><td>2</td></tr>",
                            "<tr><td>72</td><td>2</td></tr>",
                            "<tr><td>73</td><td>4</td></tr>",
                            "<tr><td>74</td><td>8</td></tr>",
                            "<tr><td>75</td><td>2</td></tr>",
                            "<tr><td>76</td><td>2</td></tr>",
                            "<tr><td>77</td><td>3</td></tr>",
                            "<tr><td>78</td><td>3</td></tr>",
                            "<tr><td>79</td><td>4</td></tr>",
                            "<tr><td>80</td><td>5</td></tr>",
                            "<tr><td>81</td><td>3</td></tr>",
                            "<tr><td>82</td><td>5</td></tr>",
                            "<tr><td>83</td><td>5</td></tr>",
                            "<tr><td>84</td><td>3</td></tr>",
                            "<tr><td>85</td><td>2</td></tr>",
                            "<tr><td>86</td><td>4</td></tr>",
                            "<tr><td>87</td><td>5</td></tr>",
                            "<tr><td>88</td><td>5</td></tr>",
                            "<tr><td>89</td><td>8</td></tr>",
                            "<tr><td>90</td><td>3</td></tr>",
                            "<tr><td>91</td><td>2</td></tr>",
                            "<tr><td>92</td><td>5</td></tr>",
                            "<tr><td>93</td><td>3</td></tr>",
                            "<tr><td>94</td><td>6</td></tr>",
                            "<tr><td>95</td><td>3</td></tr>",
                            "<tr><td>96</td><td>6</td></tr>",
                            "<tr><td>97</td><td>5</td></tr>",
                            "<tr><td>98</td><td>4</td></tr>",
                            "<tr><td>99</td><td>4</td></tr>",
                            "<tr><td>100</td><td>2</td></tr>",
                            "<tr><td>101</td><td>1</td></tr>",
                            "<tr><td>102</td><td>1</td></tr>",
                            "<tr><td>103</td><td>1</td></tr>",
                            "<tr><td>104</td><td>3</td></tr>",
                            "<tr><td>106</td><td>4</td></tr>",
                            "<tr><td>107</td><td>4</td></tr>",
                            "<tr><td>108</td><td>1</td></tr>",
                            "<tr><td>109</td><td>2</td></tr>",
                            "<tr><td>110</td><td>5</td></tr>",
                            "<tr><td>111</td><td>1</td></tr>",
                            "<tr><td>112</td><td>4</td></tr>",
                            "<tr><td>113</td><td>2</td></tr>",
                            "<tr><td>114</td><td>1</td></tr>",
                            "<tr><td>115</td><td>5</td></tr>",
                            "<tr><td>117</td><td>4</td></tr>",
                            "<tr><td>118</td><td>2</td></tr>",
                            "<tr><td>119</td><td>4</td></tr>",
                            "<tr><td>120</td><td>2</td></tr>",
                            "<tr><td>121</td><td>5</td></tr>",
                            "<tr><td>122</td><td>3</td></tr>",
                            "<tr><td>123</td><td>5</td></tr>",
                            "<tr><td>124</td><td>4</td></tr>",
                            "<tr><td>126</td><td>4</td></tr>",
                            "<tr><td>127</td><td>5</td></tr>",
                            "<tr><td>129</td><td>3</td></tr>",
                            "<tr><td>130</td><td>5</td></tr>",
                            "<tr><td>131</td><td>4</td></tr>",
                            "<tr><td>132</td><td>4</td></tr>",
                            "<tr><td>133</td><td>4</td></tr>",
                            "<tr><td>134</td><td>4</td></tr>",
                            "<tr><td>135</td><td>3</td></tr>",
                            "<tr><td>136</td><td>2</td></tr>",
                            "<tr><td>137</td><td>2</td></tr>",
                            "<tr><td>138</td><td>5</td></tr>",
                            "<tr><td>139</td><td>6</td></tr>",
                            "<tr><td>140</td><td>5</td></tr>",
                            "<tr><td>141</td><td>4</td></tr>",
                            "<tr><td>142</td><td>1</td></tr>",
                            "<tr><td>143</td><td>5</td></tr>",
                            "<tr><td>144</td><td>2</td></tr>",
                            "<tr><td>145</td><td>2</td></tr>",
                            "<tr><td>146</td><td>3</td></tr>",
                            "<tr><td>147</td><td>1</td></tr>",
                            "<tr><td>148</td><td>5</td></tr>",
                            "<tr><td>149</td><td>5</td></tr>",
                            "<tr><td>150</td><td>6</td></tr>",
                            "<tr><td>151</td><td>2</td></tr>",
                            "<tr><td>152</td><td>3</td></tr>",
                            "<tr><td>153</td><td>4</td></tr>",
                            "<tr><td>154</td><td>3</td></tr>",
                            "<tr><td>155</td><td>3</td></tr>",
                            "<tr><td>156</td><td>2</td></tr>",
                            "<tr><td>157</td><td>2</td></tr>",
                            "<tr><td>158</td><td>3</td></tr>",
                            "<tr><td>160</td><td>2</td></tr>",
                            "<tr><td>161</td><td>3</td></tr>",
                            "<tr><td>162</td><td>2</td></tr>",
                            "<tr><td>163</td><td>5</td></tr>",
                            "<tr><td>164</td><td>4</td></tr>",
                            "<tr><td>165</td><td>5</td></tr>",
                            "<tr><td>166</td><td>3</td></tr>",
                            "<tr><td>167</td><td>2</td></tr>",
                            "<tr><td>168</td><td>1</td></tr>",
                            "<tr><td>169</td><td>3</td></tr>",
                            "<tr><td>170</td><td>3</td></tr>",
                            "<tr><td>171</td><td>5</td></tr>",
                            "<tr><td>172</td><td>6</td></tr>",
                            "<tr><td>173</td><td>3</td></tr>",
                            "<tr><td>174</td><td>4</td></tr>",
                            "<tr><td>175</td><td>3</td></tr>",
                            "<tr><td>176</td><td>2</td></tr>",
                            "<tr><td>177</td><td>1</td></tr>",
                            "<tr><td>178</td><td>1</td></tr>",
                            "<tr><td>179</td><td>2</td></tr>",
                            "<tr><td>180</td><td>1</td></tr>",
                            "<tr><td>181</td><td>5</td></tr>",
                            "<tr><td>182</td><td>11</td></tr>",
                            "<tr><td>183</td><td>3</td></tr>",
                            "<tr><td>184</td><td>4</td></tr>",
                            "<tr><td>185</td><td>10</td></tr>",
                            "<tr><td>186</td><td>1</td></tr>",
                            "<tr><td>187</td><td>6</td></tr>",
                            "<tr><td>188</td><td>2</td></tr>",
                            "<tr><td>189</td><td>1</td></tr>",
                            "<tr><td>190</td><td>5</td></tr>",
                            "<tr><td>191</td><td>3</td></tr>",
                            "<tr><td>192</td><td>1</td></tr>",
                            "<tr><td>193</td><td>2</td></tr>",
                            "<tr><td>194</td><td>1</td></tr>",
                            "<tr><td>195</td><td>5</td></tr>",
                            "<tr><td>196</td><td>2</td></tr>",
                            "<tr><td>197</td><td>6</td></tr>",
                            "<tr><td>198</td><td>7</td></tr>",
                            "<tr><td>Végösszeg</td><td>668</td></tr>",
                            "</table>"
                        ]
                    }
                }
            ],
            "execution_count": 8
        },
        {
            "cell_type": "markdown",
            "source": [
                "2\\. feladat"
            ],
            "metadata": {
                "azdata_cell_guid": "57a87068-0014-4bfd-8353-28df1eafd171"
            },
            "attachments": {}
        },
        {
            "cell_type": "code",
            "source": [
                "SELECT S.SZOBA_ID,\r\n",
                "       FOGLALAS_PK,\r\n",
                "       DATEDIFF(DAY, F.METTOL, F.MEDDIG),\r\n",
                "       DATEDIFF(DAY, F.METTOL, F.MEDDIG) \r\n",
                "       OVER(PARTITION BY S.SZOBA_ID ROWS BETWEEN 1 PRECEDING AND 1 PRECEDING)\r\n",
                "FROM Szoba S JOIN Foglalas F ON S.SZOBA_ID = F.SZOBA_FK\r\n",
                ""
            ],
            "metadata": {
                "azdata_cell_guid": "c8e9411a-201f-4456-9b6f-76bdc40217aa",
                "language": "sql"
            },
            "outputs": [
                {
                    "output_type": "error",
                    "evalue": "Msg 4113, Level 15, State 1, Line 4\r\nThe function 'DATEDIFF' is not a valid windowing function, and cannot be used with the OVER clause.",
                    "ename": "",
                    "traceback": []
                },
                {
                    "output_type": "display_data",
                    "data": {
                        "text/html": "Total execution time: 00:00:00.001"
                    },
                    "metadata": {}
                }
            ],
            "execution_count": 12
        },
        {
            "cell_type": "markdown",
            "source": [
                "3\\. feladat"
            ],
            "metadata": {
                "azdata_cell_guid": "00a3673e-d521-4cbe-9e3b-c6dc3d19668c"
            },
            "attachments": {}
        },
        {
            "cell_type": "code",
            "source": [
                "SELECT (*)\r\n",
                "FROM foglalas f join Vendeg v ON f.UGYFEL_FK = v.USERNEV\r\n",
                "WHERE (\r\n",
                "    SELECT TOP 1 USER_NAME,\r\n",
                "                SZUL_DAT\r\n",
                "    FROM Vendeg\r\n",
                "    WHERE SZUL_DAT < (\r\n",
                "        SELECT MAX(szul_dat) \r\n",
                "        FROM Vendeg\r\n",
                "    )\r\n",
                ")"
            ],
            "metadata": {
                "azdata_cell_guid": "89581853-6edf-40c5-9039-5d555f8bb554",
                "language": "sql",
                "tags": []
            },
            "outputs": [],
            "execution_count": null
        }
    ]
}